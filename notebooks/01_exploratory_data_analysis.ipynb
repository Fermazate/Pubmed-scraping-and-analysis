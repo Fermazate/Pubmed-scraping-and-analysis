{
 "cells": [
  {
   "cell_type": "markdown",
   "metadata": {},
   "source": [
    "# Exploratory Data Analysis"
   ]
  },
  {
   "cell_type": "markdown",
   "metadata": {},
   "source": [
    "## Libraries"
   ]
  },
  {
   "cell_type": "code",
   "execution_count": 83,
   "metadata": {},
   "outputs": [],
   "source": [
    "import sys\n",
    "import os\n",
    "import pandas as pd\n",
    "import plotly.express as px\n",
    "import wordcloud\n",
    "import matplotlib.pyplot as plt\n",
    "import seaborn as sns\n",
    "import numpy as np\n",
    "import bar_chart_race as bcr"
   ]
  },
  {
   "cell_type": "code",
   "execution_count": 84,
   "metadata": {},
   "outputs": [],
   "source": [
    "sys.path.append((os.path.dirname(os.getcwd())))\n",
    "\n",
    "from utils.text_processing import counting\n",
    "from utils.text_processing import make_weighted_table"
   ]
  },
  {
   "cell_type": "markdown",
   "metadata": {},
   "source": [
    "## Loading data"
   ]
  },
  {
   "cell_type": "code",
   "execution_count": 85,
   "metadata": {},
   "outputs": [],
   "source": [
    "raw_df = pd.read_csv('../data/raw/pubmed_data.csv')"
   ]
  },
  {
   "cell_type": "markdown",
   "metadata": {},
   "source": [
    "## Descriptive analysis of the data"
   ]
  },
  {
   "cell_type": "code",
   "execution_count": 86,
   "metadata": {},
   "outputs": [
    {
     "data": {
      "text/html": [
       "<div>\n",
       "<style scoped>\n",
       "    .dataframe tbody tr th:only-of-type {\n",
       "        vertical-align: middle;\n",
       "    }\n",
       "\n",
       "    .dataframe tbody tr th {\n",
       "        vertical-align: top;\n",
       "    }\n",
       "\n",
       "    .dataframe thead th {\n",
       "        text-align: right;\n",
       "    }\n",
       "</style>\n",
       "<table border=\"1\" class=\"dataframe\">\n",
       "  <thead>\n",
       "    <tr style=\"text-align: right;\">\n",
       "      <th></th>\n",
       "      <th>ID</th>\n",
       "      <th>Title</th>\n",
       "      <th>Abstract</th>\n",
       "      <th>Journal</th>\n",
       "      <th>Language</th>\n",
       "      <th>Year</th>\n",
       "      <th>Month</th>\n",
       "    </tr>\n",
       "  </thead>\n",
       "  <tbody>\n",
       "    <tr>\n",
       "      <th>0</th>\n",
       "      <td>0</td>\n",
       "      <td>Short and curly.</td>\n",
       "      <td>No Abstract</td>\n",
       "      <td>The Medical journal of Australia</td>\n",
       "      <td>eng</td>\n",
       "      <td>2000</td>\n",
       "      <td>1.0</td>\n",
       "    </tr>\n",
       "    <tr>\n",
       "      <th>1</th>\n",
       "      <td>1</td>\n",
       "      <td>Association of androgenetic alopecia and sever...</td>\n",
       "      <td>[StringElement('To establish the association o...</td>\n",
       "      <td>Journal of cosmetic dermatology</td>\n",
       "      <td>eng</td>\n",
       "      <td>2022</td>\n",
       "      <td>3.0</td>\n",
       "    </tr>\n",
       "    <tr>\n",
       "      <th>2</th>\n",
       "      <td>2</td>\n",
       "      <td>[On the glucocorticoid treatment of alopecia a...</td>\n",
       "      <td>No Abstract</td>\n",
       "      <td>Asthetische Medizin</td>\n",
       "      <td>ger</td>\n",
       "      <td>1967</td>\n",
       "      <td>5.0</td>\n",
       "    </tr>\n",
       "    <tr>\n",
       "      <th>3</th>\n",
       "      <td>3</td>\n",
       "      <td>Epidermal naevus syndrome--a case report.</td>\n",
       "      <td>['A case of epidermal naevus syndrome in a 25-...</td>\n",
       "      <td>Journal of the Indian Medical Association</td>\n",
       "      <td>eng</td>\n",
       "      <td>2003</td>\n",
       "      <td>8.0</td>\n",
       "    </tr>\n",
       "    <tr>\n",
       "      <th>4</th>\n",
       "      <td>4</td>\n",
       "      <td>Colored Polymeric Nanofiber Loaded with Minoxi...</td>\n",
       "      <td>['Polymeric nanofibers fabricated by electrosp...</td>\n",
       "      <td>Scientific reports</td>\n",
       "      <td>eng</td>\n",
       "      <td>2020</td>\n",
       "      <td>3.0</td>\n",
       "    </tr>\n",
       "  </tbody>\n",
       "</table>\n",
       "</div>"
      ],
      "text/plain": [
       "   ID                                              Title  \\\n",
       "0   0                                   Short and curly.   \n",
       "1   1  Association of androgenetic alopecia and sever...   \n",
       "2   2  [On the glucocorticoid treatment of alopecia a...   \n",
       "3   3          Epidermal naevus syndrome--a case report.   \n",
       "4   4  Colored Polymeric Nanofiber Loaded with Minoxi...   \n",
       "\n",
       "                                            Abstract  \\\n",
       "0                                        No Abstract   \n",
       "1  [StringElement('To establish the association o...   \n",
       "2                                        No Abstract   \n",
       "3  ['A case of epidermal naevus syndrome in a 25-...   \n",
       "4  ['Polymeric nanofibers fabricated by electrosp...   \n",
       "\n",
       "                                     Journal Language  Year  Month  \n",
       "0           The Medical journal of Australia      eng  2000    1.0  \n",
       "1            Journal of cosmetic dermatology      eng  2022    3.0  \n",
       "2                        Asthetische Medizin      ger  1967    5.0  \n",
       "3  Journal of the Indian Medical Association      eng  2003    8.0  \n",
       "4                         Scientific reports      eng  2020    3.0  "
      ]
     },
     "execution_count": 86,
     "metadata": {},
     "output_type": "execute_result"
    }
   ],
   "source": [
    "raw_df = raw_df.rename(columns={'Unnamed: 0': 'ID'})\n",
    "raw_df['Year'] = raw_df['Year'].convert_dtypes(convert_integer=True)\n",
    "raw_df.head()"
   ]
  },
  {
   "cell_type": "code",
   "execution_count": 87,
   "metadata": {},
   "outputs": [
    {
     "data": {
      "application/vnd.plotly.v1+json": {
       "config": {
        "plotlyServerURL": "https://plot.ly"
       },
       "data": [
        {
         "hovertemplate": "Year=%{x}<br>Number of publications=%{y}<extra></extra>",
         "legendgroup": "",
         "line": {
          "color": "#636efa",
          "dash": "solid"
         },
         "marker": {
          "symbol": "circle"
         },
         "mode": "lines",
         "name": "",
         "orientation": "v",
         "showlegend": false,
         "type": "scatter",
         "x": [
          1945,
          1946,
          1947,
          1948,
          1949,
          1950,
          1951,
          1952,
          1953,
          1954,
          1955,
          1956,
          1957,
          1958,
          1959,
          1960,
          1961,
          1962,
          1963,
          1964,
          1965,
          1966,
          1967,
          1968,
          1969,
          1970,
          1971,
          1972,
          1973,
          1974,
          1975,
          1976,
          1977,
          1978,
          1979,
          1980,
          1981,
          1982,
          1983,
          1984,
          1985,
          1986,
          1987,
          1988,
          1989,
          1990,
          1991,
          1992,
          1993,
          1994,
          1995,
          1996,
          1997,
          1998,
          1999,
          2000,
          2001,
          2002,
          2003,
          2004,
          2005,
          2006,
          2007,
          2008,
          2009,
          2010,
          2011,
          2012,
          2013,
          2014,
          2015,
          2016,
          2017,
          2018,
          2019,
          2020,
          2021,
          2022,
          2023,
          2024
         ],
         "xaxis": "x",
         "y": [
          12,
          24,
          20,
          12,
          12,
          21,
          22,
          29,
          30,
          28,
          27,
          25,
          17,
          24,
          18,
          33,
          45,
          22,
          58,
          52,
          50,
          47,
          37,
          59,
          50,
          51,
          59,
          48,
          42,
          33,
          29,
          51,
          43,
          50,
          65,
          59,
          48,
          59,
          69,
          81,
          74,
          63,
          107,
          77,
          70,
          74,
          73,
          70,
          78,
          70,
          95,
          79,
          65,
          82,
          127,
          113,
          106,
          127,
          116,
          110,
          116,
          107,
          123,
          123,
          139,
          149,
          138,
          171,
          214,
          172,
          192,
          226,
          209,
          256,
          260,
          347,
          351,
          402,
          398,
          45
         ],
         "yaxis": "y"
        }
       ],
       "layout": {
        "legend": {
         "tracegroupgap": 0
        },
        "template": {
         "data": {
          "bar": [
           {
            "error_x": {
             "color": "#2a3f5f"
            },
            "error_y": {
             "color": "#2a3f5f"
            },
            "marker": {
             "line": {
              "color": "#E5ECF6",
              "width": 0.5
             },
             "pattern": {
              "fillmode": "overlay",
              "size": 10,
              "solidity": 0.2
             }
            },
            "type": "bar"
           }
          ],
          "barpolar": [
           {
            "marker": {
             "line": {
              "color": "#E5ECF6",
              "width": 0.5
             },
             "pattern": {
              "fillmode": "overlay",
              "size": 10,
              "solidity": 0.2
             }
            },
            "type": "barpolar"
           }
          ],
          "carpet": [
           {
            "aaxis": {
             "endlinecolor": "#2a3f5f",
             "gridcolor": "white",
             "linecolor": "white",
             "minorgridcolor": "white",
             "startlinecolor": "#2a3f5f"
            },
            "baxis": {
             "endlinecolor": "#2a3f5f",
             "gridcolor": "white",
             "linecolor": "white",
             "minorgridcolor": "white",
             "startlinecolor": "#2a3f5f"
            },
            "type": "carpet"
           }
          ],
          "choropleth": [
           {
            "colorbar": {
             "outlinewidth": 0,
             "ticks": ""
            },
            "type": "choropleth"
           }
          ],
          "contour": [
           {
            "colorbar": {
             "outlinewidth": 0,
             "ticks": ""
            },
            "colorscale": [
             [
              0,
              "#0d0887"
             ],
             [
              0.1111111111111111,
              "#46039f"
             ],
             [
              0.2222222222222222,
              "#7201a8"
             ],
             [
              0.3333333333333333,
              "#9c179e"
             ],
             [
              0.4444444444444444,
              "#bd3786"
             ],
             [
              0.5555555555555556,
              "#d8576b"
             ],
             [
              0.6666666666666666,
              "#ed7953"
             ],
             [
              0.7777777777777778,
              "#fb9f3a"
             ],
             [
              0.8888888888888888,
              "#fdca26"
             ],
             [
              1,
              "#f0f921"
             ]
            ],
            "type": "contour"
           }
          ],
          "contourcarpet": [
           {
            "colorbar": {
             "outlinewidth": 0,
             "ticks": ""
            },
            "type": "contourcarpet"
           }
          ],
          "heatmap": [
           {
            "colorbar": {
             "outlinewidth": 0,
             "ticks": ""
            },
            "colorscale": [
             [
              0,
              "#0d0887"
             ],
             [
              0.1111111111111111,
              "#46039f"
             ],
             [
              0.2222222222222222,
              "#7201a8"
             ],
             [
              0.3333333333333333,
              "#9c179e"
             ],
             [
              0.4444444444444444,
              "#bd3786"
             ],
             [
              0.5555555555555556,
              "#d8576b"
             ],
             [
              0.6666666666666666,
              "#ed7953"
             ],
             [
              0.7777777777777778,
              "#fb9f3a"
             ],
             [
              0.8888888888888888,
              "#fdca26"
             ],
             [
              1,
              "#f0f921"
             ]
            ],
            "type": "heatmap"
           }
          ],
          "heatmapgl": [
           {
            "colorbar": {
             "outlinewidth": 0,
             "ticks": ""
            },
            "colorscale": [
             [
              0,
              "#0d0887"
             ],
             [
              0.1111111111111111,
              "#46039f"
             ],
             [
              0.2222222222222222,
              "#7201a8"
             ],
             [
              0.3333333333333333,
              "#9c179e"
             ],
             [
              0.4444444444444444,
              "#bd3786"
             ],
             [
              0.5555555555555556,
              "#d8576b"
             ],
             [
              0.6666666666666666,
              "#ed7953"
             ],
             [
              0.7777777777777778,
              "#fb9f3a"
             ],
             [
              0.8888888888888888,
              "#fdca26"
             ],
             [
              1,
              "#f0f921"
             ]
            ],
            "type": "heatmapgl"
           }
          ],
          "histogram": [
           {
            "marker": {
             "pattern": {
              "fillmode": "overlay",
              "size": 10,
              "solidity": 0.2
             }
            },
            "type": "histogram"
           }
          ],
          "histogram2d": [
           {
            "colorbar": {
             "outlinewidth": 0,
             "ticks": ""
            },
            "colorscale": [
             [
              0,
              "#0d0887"
             ],
             [
              0.1111111111111111,
              "#46039f"
             ],
             [
              0.2222222222222222,
              "#7201a8"
             ],
             [
              0.3333333333333333,
              "#9c179e"
             ],
             [
              0.4444444444444444,
              "#bd3786"
             ],
             [
              0.5555555555555556,
              "#d8576b"
             ],
             [
              0.6666666666666666,
              "#ed7953"
             ],
             [
              0.7777777777777778,
              "#fb9f3a"
             ],
             [
              0.8888888888888888,
              "#fdca26"
             ],
             [
              1,
              "#f0f921"
             ]
            ],
            "type": "histogram2d"
           }
          ],
          "histogram2dcontour": [
           {
            "colorbar": {
             "outlinewidth": 0,
             "ticks": ""
            },
            "colorscale": [
             [
              0,
              "#0d0887"
             ],
             [
              0.1111111111111111,
              "#46039f"
             ],
             [
              0.2222222222222222,
              "#7201a8"
             ],
             [
              0.3333333333333333,
              "#9c179e"
             ],
             [
              0.4444444444444444,
              "#bd3786"
             ],
             [
              0.5555555555555556,
              "#d8576b"
             ],
             [
              0.6666666666666666,
              "#ed7953"
             ],
             [
              0.7777777777777778,
              "#fb9f3a"
             ],
             [
              0.8888888888888888,
              "#fdca26"
             ],
             [
              1,
              "#f0f921"
             ]
            ],
            "type": "histogram2dcontour"
           }
          ],
          "mesh3d": [
           {
            "colorbar": {
             "outlinewidth": 0,
             "ticks": ""
            },
            "type": "mesh3d"
           }
          ],
          "parcoords": [
           {
            "line": {
             "colorbar": {
              "outlinewidth": 0,
              "ticks": ""
             }
            },
            "type": "parcoords"
           }
          ],
          "pie": [
           {
            "automargin": true,
            "type": "pie"
           }
          ],
          "scatter": [
           {
            "fillpattern": {
             "fillmode": "overlay",
             "size": 10,
             "solidity": 0.2
            },
            "type": "scatter"
           }
          ],
          "scatter3d": [
           {
            "line": {
             "colorbar": {
              "outlinewidth": 0,
              "ticks": ""
             }
            },
            "marker": {
             "colorbar": {
              "outlinewidth": 0,
              "ticks": ""
             }
            },
            "type": "scatter3d"
           }
          ],
          "scattercarpet": [
           {
            "marker": {
             "colorbar": {
              "outlinewidth": 0,
              "ticks": ""
             }
            },
            "type": "scattercarpet"
           }
          ],
          "scattergeo": [
           {
            "marker": {
             "colorbar": {
              "outlinewidth": 0,
              "ticks": ""
             }
            },
            "type": "scattergeo"
           }
          ],
          "scattergl": [
           {
            "marker": {
             "colorbar": {
              "outlinewidth": 0,
              "ticks": ""
             }
            },
            "type": "scattergl"
           }
          ],
          "scattermapbox": [
           {
            "marker": {
             "colorbar": {
              "outlinewidth": 0,
              "ticks": ""
             }
            },
            "type": "scattermapbox"
           }
          ],
          "scatterpolar": [
           {
            "marker": {
             "colorbar": {
              "outlinewidth": 0,
              "ticks": ""
             }
            },
            "type": "scatterpolar"
           }
          ],
          "scatterpolargl": [
           {
            "marker": {
             "colorbar": {
              "outlinewidth": 0,
              "ticks": ""
             }
            },
            "type": "scatterpolargl"
           }
          ],
          "scatterternary": [
           {
            "marker": {
             "colorbar": {
              "outlinewidth": 0,
              "ticks": ""
             }
            },
            "type": "scatterternary"
           }
          ],
          "surface": [
           {
            "colorbar": {
             "outlinewidth": 0,
             "ticks": ""
            },
            "colorscale": [
             [
              0,
              "#0d0887"
             ],
             [
              0.1111111111111111,
              "#46039f"
             ],
             [
              0.2222222222222222,
              "#7201a8"
             ],
             [
              0.3333333333333333,
              "#9c179e"
             ],
             [
              0.4444444444444444,
              "#bd3786"
             ],
             [
              0.5555555555555556,
              "#d8576b"
             ],
             [
              0.6666666666666666,
              "#ed7953"
             ],
             [
              0.7777777777777778,
              "#fb9f3a"
             ],
             [
              0.8888888888888888,
              "#fdca26"
             ],
             [
              1,
              "#f0f921"
             ]
            ],
            "type": "surface"
           }
          ],
          "table": [
           {
            "cells": {
             "fill": {
              "color": "#EBF0F8"
             },
             "line": {
              "color": "white"
             }
            },
            "header": {
             "fill": {
              "color": "#C8D4E3"
             },
             "line": {
              "color": "white"
             }
            },
            "type": "table"
           }
          ]
         },
         "layout": {
          "annotationdefaults": {
           "arrowcolor": "#2a3f5f",
           "arrowhead": 0,
           "arrowwidth": 1
          },
          "autotypenumbers": "strict",
          "coloraxis": {
           "colorbar": {
            "outlinewidth": 0,
            "ticks": ""
           }
          },
          "colorscale": {
           "diverging": [
            [
             0,
             "#8e0152"
            ],
            [
             0.1,
             "#c51b7d"
            ],
            [
             0.2,
             "#de77ae"
            ],
            [
             0.3,
             "#f1b6da"
            ],
            [
             0.4,
             "#fde0ef"
            ],
            [
             0.5,
             "#f7f7f7"
            ],
            [
             0.6,
             "#e6f5d0"
            ],
            [
             0.7,
             "#b8e186"
            ],
            [
             0.8,
             "#7fbc41"
            ],
            [
             0.9,
             "#4d9221"
            ],
            [
             1,
             "#276419"
            ]
           ],
           "sequential": [
            [
             0,
             "#0d0887"
            ],
            [
             0.1111111111111111,
             "#46039f"
            ],
            [
             0.2222222222222222,
             "#7201a8"
            ],
            [
             0.3333333333333333,
             "#9c179e"
            ],
            [
             0.4444444444444444,
             "#bd3786"
            ],
            [
             0.5555555555555556,
             "#d8576b"
            ],
            [
             0.6666666666666666,
             "#ed7953"
            ],
            [
             0.7777777777777778,
             "#fb9f3a"
            ],
            [
             0.8888888888888888,
             "#fdca26"
            ],
            [
             1,
             "#f0f921"
            ]
           ],
           "sequentialminus": [
            [
             0,
             "#0d0887"
            ],
            [
             0.1111111111111111,
             "#46039f"
            ],
            [
             0.2222222222222222,
             "#7201a8"
            ],
            [
             0.3333333333333333,
             "#9c179e"
            ],
            [
             0.4444444444444444,
             "#bd3786"
            ],
            [
             0.5555555555555556,
             "#d8576b"
            ],
            [
             0.6666666666666666,
             "#ed7953"
            ],
            [
             0.7777777777777778,
             "#fb9f3a"
            ],
            [
             0.8888888888888888,
             "#fdca26"
            ],
            [
             1,
             "#f0f921"
            ]
           ]
          },
          "colorway": [
           "#636efa",
           "#EF553B",
           "#00cc96",
           "#ab63fa",
           "#FFA15A",
           "#19d3f3",
           "#FF6692",
           "#B6E880",
           "#FF97FF",
           "#FECB52"
          ],
          "font": {
           "color": "#2a3f5f"
          },
          "geo": {
           "bgcolor": "white",
           "lakecolor": "white",
           "landcolor": "#E5ECF6",
           "showlakes": true,
           "showland": true,
           "subunitcolor": "white"
          },
          "hoverlabel": {
           "align": "left"
          },
          "hovermode": "closest",
          "mapbox": {
           "style": "light"
          },
          "paper_bgcolor": "white",
          "plot_bgcolor": "#E5ECF6",
          "polar": {
           "angularaxis": {
            "gridcolor": "white",
            "linecolor": "white",
            "ticks": ""
           },
           "bgcolor": "#E5ECF6",
           "radialaxis": {
            "gridcolor": "white",
            "linecolor": "white",
            "ticks": ""
           }
          },
          "scene": {
           "xaxis": {
            "backgroundcolor": "#E5ECF6",
            "gridcolor": "white",
            "gridwidth": 2,
            "linecolor": "white",
            "showbackground": true,
            "ticks": "",
            "zerolinecolor": "white"
           },
           "yaxis": {
            "backgroundcolor": "#E5ECF6",
            "gridcolor": "white",
            "gridwidth": 2,
            "linecolor": "white",
            "showbackground": true,
            "ticks": "",
            "zerolinecolor": "white"
           },
           "zaxis": {
            "backgroundcolor": "#E5ECF6",
            "gridcolor": "white",
            "gridwidth": 2,
            "linecolor": "white",
            "showbackground": true,
            "ticks": "",
            "zerolinecolor": "white"
           }
          },
          "shapedefaults": {
           "line": {
            "color": "#2a3f5f"
           }
          },
          "ternary": {
           "aaxis": {
            "gridcolor": "white",
            "linecolor": "white",
            "ticks": ""
           },
           "baxis": {
            "gridcolor": "white",
            "linecolor": "white",
            "ticks": ""
           },
           "bgcolor": "#E5ECF6",
           "caxis": {
            "gridcolor": "white",
            "linecolor": "white",
            "ticks": ""
           }
          },
          "title": {
           "x": 0.05
          },
          "xaxis": {
           "automargin": true,
           "gridcolor": "white",
           "linecolor": "white",
           "ticks": "",
           "title": {
            "standoff": 15
           },
           "zerolinecolor": "white",
           "zerolinewidth": 2
          },
          "yaxis": {
           "automargin": true,
           "gridcolor": "white",
           "linecolor": "white",
           "ticks": "",
           "title": {
            "standoff": 15
           },
           "zerolinecolor": "white",
           "zerolinewidth": 2
          }
         }
        },
        "title": {
         "text": "Publications per Year",
         "x": 0.5,
         "xanchor": "center",
         "y": 0.9,
         "yanchor": "top"
        },
        "xaxis": {
         "anchor": "y",
         "domain": [
          0,
          1
         ],
         "title": {
          "text": "Year"
         }
        },
        "yaxis": {
         "anchor": "x",
         "domain": [
          0,
          1
         ],
         "title": {
          "text": "Number of publications"
         }
        }
       }
      }
     },
     "metadata": {},
     "output_type": "display_data"
    }
   ],
   "source": [
    "fig = px.line(raw_df.groupby(['Year'], as_index=False)['Title'].count(),\n",
    "                x = 'Year',\n",
    "                y = 'Title',\n",
    "                title='Publications per Year',\n",
    "                labels = {\n",
    "                    \"Year\": \"Year\",\n",
    "                    \"Title\": \"Number of publications\"\n",
    "                }\n",
    ")\n",
    "fig.update_layout(\n",
    "    title={\n",
    "        'text': \"Publications per Year\",\n",
    "        'y':0.9,\n",
    "        'x':0.5,\n",
    "        'xanchor': 'center',\n",
    "        'yanchor': 'top'\n",
    "    }\n",
    ")\n",
    "fig.show()"
   ]
  },
  {
   "cell_type": "code",
   "execution_count": 88,
   "metadata": {},
   "outputs": [],
   "source": [
    "#words = ['conclusions', 'method', 'alopecia','label', 'disease', 'used', 'patient', 'patients', 'attributes', 'study', 'studies', 'common', 'nlmcategory','abstract','included','significantly','months','increased','compared','attributeslabel','hair','background','observed','methods','may','association','found','results','also','cases','objective','95','using','significant','however','stringelementthe','effects','reported','1','associated','group','clinical','conclusion','data','including','diseases','age','2','ci','unassigned','showed','case','review','analysis','two','case','use','higher','years','diagnosis','levels']\n",
    "#synonyms = [['Androgenetic Alopecia','AA','AGA'],['finasteride','finasterida'],['therapy','treatment'],['adverse effects','adverse']]"
   ]
  },
  {
   "cell_type": "code",
   "execution_count": 89,
   "metadata": {},
   "outputs": [],
   "source": [
    "bows = counting(raw_df, 'Abstract', words = words, synonyms = synonyms)\n",
    "df_bow = bows[0]\n",
    "bow = bows[1]\n",
    "feature_names = bows[2]"
   ]
  },
  {
   "cell_type": "code",
   "execution_count": 90,
   "metadata": {},
   "outputs": [],
   "source": [
    "df_weighted = make_weighted_table(bow, feature_names)\n",
    "df_weights = df_weighted[0]\n",
    "df_tfidf = df_weighted[1]"
   ]
  },
  {
   "cell_type": "code",
   "execution_count": 91,
   "metadata": {},
   "outputs": [],
   "source": [
    "s_word_freq = pd.Series(df_weights['count'])\n",
    "s_word_freq.index = df_weights['word']\n",
    "di_word_freq = s_word_freq.to_dict()\n",
    "\n",
    "cloud_whole_period = wordcloud.WordCloud(width=900, height=500, random_state=4, background_color='white',colormap='magma',max_words=15).generate_from_frequencies(di_word_freq)"
   ]
  },
  {
   "cell_type": "code",
   "execution_count": 92,
   "metadata": {},
   "outputs": [
    {
     "data": {
      "image/png": "[encoded data removed]",
      "text/plain": [
       "<Figure size 640x480 with 1 Axes>"
      ]
     },
     "metadata": {},
     "output_type": "display_data"
    }
   ],
   "source": [
    "plt.imshow(cloud_whole_period)\n",
    "plt.axis('off')\n",
    "plt.show()"
   ]
  },
  {
   "cell_type": "code",
   "execution_count": 93,
   "metadata": {},
   "outputs": [],
   "source": [
    "raw_df.to_csv('../data/interim/post_eda.csv', index=False) "
   ]
  },
  {
   "cell_type": "markdown",
   "metadata": {},
   "source": [
    "# Evolution of the topic research."
   ]
  },
  {
   "cell_type": "markdown",
   "metadata": {},
   "source": [
    "### Bow"
   ]
  },
  {
   "cell_type": "code",
   "execution_count": 94,
   "metadata": {},
   "outputs": [],
   "source": [
    "df_bow_with_date = pd.concat([raw_df['Year'],df_bow])\n",
    "df_bow_with_date.dropna(subset=['Year'], inplace=True)\n",
    "df_bow_with_date['Year'] = pd.to_datetime(df_bow_with_date['Year'], format='%Y')"
   ]
  },
  {
   "cell_type": "code",
   "execution_count": 95,
   "metadata": {},
   "outputs": [
    {
     "data": {
      "text/html": [
       "<div>\n",
       "<style scoped>\n",
       "    .dataframe tbody tr th:only-of-type {\n",
       "        vertical-align: middle;\n",
       "    }\n",
       "\n",
       "    .dataframe tbody tr th {\n",
       "        vertical-align: top;\n",
       "    }\n",
       "\n",
       "    .dataframe thead th {\n",
       "        text-align: right;\n",
       "    }\n",
       "</style>\n",
       "<table border=\"1\" class=\"dataframe\">\n",
       "  <thead>\n",
       "    <tr style=\"text-align: right;\">\n",
       "      <th></th>\n",
       "      <th>Year</th>\n",
       "      <th>0</th>\n",
       "      <th>00</th>\n",
       "      <th>000</th>\n",
       "      <th>0000</th>\n",
       "      <th>0000000</th>\n",
       "      <th>0000004</th>\n",
       "      <th>000006</th>\n",
       "      <th>00001</th>\n",
       "      <th>00003</th>\n",
       "      <th>...</th>\n",
       "      <th>≥80</th>\n",
       "      <th>≥u200910</th>\n",
       "      <th>≥u200918</th>\n",
       "      <th>≥u20093</th>\n",
       "      <th>≥u200950</th>\n",
       "      <th>≥u2009fourthline</th>\n",
       "      <th>≥xa025xa0years</th>\n",
       "      <th>▪</th>\n",
       "      <th>⩾</th>\n",
       "      <th>⩾50</th>\n",
       "    </tr>\n",
       "  </thead>\n",
       "  <tbody>\n",
       "    <tr>\n",
       "      <th>0</th>\n",
       "      <td>2000-01-01</td>\n",
       "      <td>NaN</td>\n",
       "      <td>NaN</td>\n",
       "      <td>NaN</td>\n",
       "      <td>NaN</td>\n",
       "      <td>NaN</td>\n",
       "      <td>NaN</td>\n",
       "      <td>NaN</td>\n",
       "      <td>NaN</td>\n",
       "      <td>NaN</td>\n",
       "      <td>...</td>\n",
       "      <td>NaN</td>\n",
       "      <td>NaN</td>\n",
       "      <td>NaN</td>\n",
       "      <td>NaN</td>\n",
       "      <td>NaN</td>\n",
       "      <td>NaN</td>\n",
       "      <td>NaN</td>\n",
       "      <td>NaN</td>\n",
       "      <td>NaN</td>\n",
       "      <td>NaN</td>\n",
       "    </tr>\n",
       "    <tr>\n",
       "      <th>1</th>\n",
       "      <td>2022-01-01</td>\n",
       "      <td>NaN</td>\n",
       "      <td>NaN</td>\n",
       "      <td>NaN</td>\n",
       "      <td>NaN</td>\n",
       "      <td>NaN</td>\n",
       "      <td>NaN</td>\n",
       "      <td>NaN</td>\n",
       "      <td>NaN</td>\n",
       "      <td>NaN</td>\n",
       "      <td>...</td>\n",
       "      <td>NaN</td>\n",
       "      <td>NaN</td>\n",
       "      <td>NaN</td>\n",
       "      <td>NaN</td>\n",
       "      <td>NaN</td>\n",
       "      <td>NaN</td>\n",
       "      <td>NaN</td>\n",
       "      <td>NaN</td>\n",
       "      <td>NaN</td>\n",
       "      <td>NaN</td>\n",
       "    </tr>\n",
       "    <tr>\n",
       "      <th>2</th>\n",
       "      <td>1967-01-01</td>\n",
       "      <td>NaN</td>\n",
       "      <td>NaN</td>\n",
       "      <td>NaN</td>\n",
       "      <td>NaN</td>\n",
       "      <td>NaN</td>\n",
       "      <td>NaN</td>\n",
       "      <td>NaN</td>\n",
       "      <td>NaN</td>\n",
       "      <td>NaN</td>\n",
       "      <td>...</td>\n",
       "      <td>NaN</td>\n",
       "      <td>NaN</td>\n",
       "      <td>NaN</td>\n",
       "      <td>NaN</td>\n",
       "      <td>NaN</td>\n",
       "      <td>NaN</td>\n",
       "      <td>NaN</td>\n",
       "      <td>NaN</td>\n",
       "      <td>NaN</td>\n",
       "      <td>NaN</td>\n",
       "    </tr>\n",
       "    <tr>\n",
       "      <th>3</th>\n",
       "      <td>2003-01-01</td>\n",
       "      <td>NaN</td>\n",
       "      <td>NaN</td>\n",
       "      <td>NaN</td>\n",
       "      <td>NaN</td>\n",
       "      <td>NaN</td>\n",
       "      <td>NaN</td>\n",
       "      <td>NaN</td>\n",
       "      <td>NaN</td>\n",
       "      <td>NaN</td>\n",
       "      <td>...</td>\n",
       "      <td>NaN</td>\n",
       "      <td>NaN</td>\n",
       "      <td>NaN</td>\n",
       "      <td>NaN</td>\n",
       "      <td>NaN</td>\n",
       "      <td>NaN</td>\n",
       "      <td>NaN</td>\n",
       "      <td>NaN</td>\n",
       "      <td>NaN</td>\n",
       "      <td>NaN</td>\n",
       "    </tr>\n",
       "    <tr>\n",
       "      <th>4</th>\n",
       "      <td>2020-01-01</td>\n",
       "      <td>NaN</td>\n",
       "      <td>NaN</td>\n",
       "      <td>NaN</td>\n",
       "      <td>NaN</td>\n",
       "      <td>NaN</td>\n",
       "      <td>NaN</td>\n",
       "      <td>NaN</td>\n",
       "      <td>NaN</td>\n",
       "      <td>NaN</td>\n",
       "      <td>...</td>\n",
       "      <td>NaN</td>\n",
       "      <td>NaN</td>\n",
       "      <td>NaN</td>\n",
       "      <td>NaN</td>\n",
       "      <td>NaN</td>\n",
       "      <td>NaN</td>\n",
       "      <td>NaN</td>\n",
       "      <td>NaN</td>\n",
       "      <td>NaN</td>\n",
       "      <td>NaN</td>\n",
       "    </tr>\n",
       "  </tbody>\n",
       "</table>\n",
       "<p>5 rows × 30797 columns</p>\n",
       "</div>"
      ],
      "text/plain": [
       "        Year   0  00  000  0000  0000000  0000004  000006  00001  00003  ...  \\\n",
       "0 2000-01-01 NaN NaN  NaN   NaN      NaN      NaN     NaN    NaN    NaN  ...   \n",
       "1 2022-01-01 NaN NaN  NaN   NaN      NaN      NaN     NaN    NaN    NaN  ...   \n",
       "2 1967-01-01 NaN NaN  NaN   NaN      NaN      NaN     NaN    NaN    NaN  ...   \n",
       "3 2003-01-01 NaN NaN  NaN   NaN      NaN      NaN     NaN    NaN    NaN  ...   \n",
       "4 2020-01-01 NaN NaN  NaN   NaN      NaN      NaN     NaN    NaN    NaN  ...   \n",
       "\n",
       "   ≥80  ≥u200910  ≥u200918  ≥u20093  ≥u200950  ≥u2009fourthline  \\\n",
       "0  NaN       NaN       NaN      NaN       NaN               NaN   \n",
       "1  NaN       NaN       NaN      NaN       NaN               NaN   \n",
       "2  NaN       NaN       NaN      NaN       NaN               NaN   \n",
       "3  NaN       NaN       NaN      NaN       NaN               NaN   \n",
       "4  NaN       NaN       NaN      NaN       NaN               NaN   \n",
       "\n",
       "   ≥xa025xa0years   ▪   ⩾  ⩾50  \n",
       "0             NaN NaN NaN  NaN  \n",
       "1             NaN NaN NaN  NaN  \n",
       "2             NaN NaN NaN  NaN  \n",
       "3             NaN NaN NaN  NaN  \n",
       "4             NaN NaN NaN  NaN  \n",
       "\n",
       "[5 rows x 30797 columns]"
      ]
     },
     "execution_count": 95,
     "metadata": {},
     "output_type": "execute_result"
    }
   ],
   "source": [
    "df_bow_with_date.head()"
   ]
  },
  {
   "cell_type": "code",
   "execution_count": 96,
   "metadata": {},
   "outputs": [],
   "source": [
    "bow_by_year = df_bow_with_date.groupby(pd.Grouper(key='Year', axis = 0, freq='YE')).sum()"
   ]
  },
  {
   "cell_type": "code",
   "execution_count": 97,
   "metadata": {},
   "outputs": [],
   "source": [
    "bow_cumsum = bow_by_year.cumsum()"
   ]
  },
  {
   "cell_type": "markdown",
   "metadata": {},
   "source": [
    "### TF-IDF"
   ]
  },
  {
   "cell_type": "code",
   "execution_count": 98,
   "metadata": {},
   "outputs": [],
   "source": [
    "df_tfidf_with_date = pd.concat([raw_df['Year'], df_tfidf],axis=1)\n",
    "df_tfidf_with_date.dropna(subset=['Year'], inplace=True)\n",
    "df_tfidf_with_date['Year'] = pd.to_datetime(df_tfidf_with_date['Year'], format='%Y')"
   ]
  },
  {
   "cell_type": "code",
   "execution_count": 99,
   "metadata": {},
   "outputs": [],
   "source": [
    "tfidf_by_year = df_tfidf_with_date.groupby(pd.Grouper(key='Year', axis = 0, freq='YE')).mean()"
   ]
  },
  {
   "cell_type": "code",
   "execution_count": 100,
   "metadata": {},
   "outputs": [],
   "source": [
    "tfidf_cumsum = tfidf_by_year.cumsum()"
   ]
  },
  {
   "cell_type": "code",
   "execution_count": 101,
   "metadata": {},
   "outputs": [],
   "source": [
    "top_015pct_list = [i for i in df_weights[df_weights['weight']>=df_weights['weight'].quantile(0.9985)]['word'] if i!=np.nan]\n",
    "df_bcr = bow_cumsum['1980-1-1':].reindex(columns = top_015pct_list)"
   ]
  },
  {
   "cell_type": "code",
   "execution_count": 102,
   "metadata": {},
   "outputs": [
    {
     "data": {
      "text/html": [
       "<div>\n",
       "<style scoped>\n",
       "    .dataframe tbody tr th:only-of-type {\n",
       "        vertical-align: middle;\n",
       "    }\n",
       "\n",
       "    .dataframe tbody tr th {\n",
       "        vertical-align: top;\n",
       "    }\n",
       "\n",
       "    .dataframe thead th {\n",
       "        text-align: right;\n",
       "    }\n",
       "</style>\n",
       "<table border=\"1\" class=\"dataframe\">\n",
       "  <thead>\n",
       "    <tr style=\"text-align: right;\">\n",
       "      <th></th>\n",
       "      <th>therapy</th>\n",
       "      <th>androgenetic alopecia</th>\n",
       "      <th>loss</th>\n",
       "      <th>scalp</th>\n",
       "      <th>areata</th>\n",
       "      <th>minoxidil</th>\n",
       "      <th>skin</th>\n",
       "      <th>women</th>\n",
       "      <th>androgenetic</th>\n",
       "      <th>growth</th>\n",
       "      <th>...</th>\n",
       "      <th>frontal</th>\n",
       "      <th>condition</th>\n",
       "      <th>treatments</th>\n",
       "      <th>p</th>\n",
       "      <th>effective</th>\n",
       "      <th>regrowth</th>\n",
       "      <th>effect</th>\n",
       "      <th>3</th>\n",
       "      <th>mice</th>\n",
       "      <th>normal</th>\n",
       "    </tr>\n",
       "    <tr>\n",
       "      <th>Year</th>\n",
       "      <th></th>\n",
       "      <th></th>\n",
       "      <th></th>\n",
       "      <th></th>\n",
       "      <th></th>\n",
       "      <th></th>\n",
       "      <th></th>\n",
       "      <th></th>\n",
       "      <th></th>\n",
       "      <th></th>\n",
       "      <th></th>\n",
       "      <th></th>\n",
       "      <th></th>\n",
       "      <th></th>\n",
       "      <th></th>\n",
       "      <th></th>\n",
       "      <th></th>\n",
       "      <th></th>\n",
       "      <th></th>\n",
       "      <th></th>\n",
       "      <th></th>\n",
       "    </tr>\n",
       "  </thead>\n",
       "  <tbody>\n",
       "    <tr>\n",
       "      <th>1980-12-31</th>\n",
       "      <td>0.0</td>\n",
       "      <td>0.0</td>\n",
       "      <td>0.0</td>\n",
       "      <td>0.0</td>\n",
       "      <td>0.0</td>\n",
       "      <td>0.0</td>\n",
       "      <td>0.0</td>\n",
       "      <td>0.0</td>\n",
       "      <td>0.0</td>\n",
       "      <td>0.0</td>\n",
       "      <td>...</td>\n",
       "      <td>0.0</td>\n",
       "      <td>0.0</td>\n",
       "      <td>0.0</td>\n",
       "      <td>0.0</td>\n",
       "      <td>0.0</td>\n",
       "      <td>0.0</td>\n",
       "      <td>0.0</td>\n",
       "      <td>0.0</td>\n",
       "      <td>0.0</td>\n",
       "      <td>0.0</td>\n",
       "    </tr>\n",
       "    <tr>\n",
       "      <th>1981-12-31</th>\n",
       "      <td>0.0</td>\n",
       "      <td>0.0</td>\n",
       "      <td>0.0</td>\n",
       "      <td>0.0</td>\n",
       "      <td>0.0</td>\n",
       "      <td>0.0</td>\n",
       "      <td>0.0</td>\n",
       "      <td>0.0</td>\n",
       "      <td>0.0</td>\n",
       "      <td>0.0</td>\n",
       "      <td>...</td>\n",
       "      <td>0.0</td>\n",
       "      <td>0.0</td>\n",
       "      <td>0.0</td>\n",
       "      <td>0.0</td>\n",
       "      <td>0.0</td>\n",
       "      <td>0.0</td>\n",
       "      <td>0.0</td>\n",
       "      <td>0.0</td>\n",
       "      <td>0.0</td>\n",
       "      <td>0.0</td>\n",
       "    </tr>\n",
       "    <tr>\n",
       "      <th>1982-12-31</th>\n",
       "      <td>0.0</td>\n",
       "      <td>0.0</td>\n",
       "      <td>0.0</td>\n",
       "      <td>0.0</td>\n",
       "      <td>0.0</td>\n",
       "      <td>0.0</td>\n",
       "      <td>0.0</td>\n",
       "      <td>0.0</td>\n",
       "      <td>0.0</td>\n",
       "      <td>0.0</td>\n",
       "      <td>...</td>\n",
       "      <td>0.0</td>\n",
       "      <td>0.0</td>\n",
       "      <td>0.0</td>\n",
       "      <td>0.0</td>\n",
       "      <td>0.0</td>\n",
       "      <td>0.0</td>\n",
       "      <td>0.0</td>\n",
       "      <td>0.0</td>\n",
       "      <td>0.0</td>\n",
       "      <td>0.0</td>\n",
       "    </tr>\n",
       "    <tr>\n",
       "      <th>1983-12-31</th>\n",
       "      <td>0.0</td>\n",
       "      <td>0.0</td>\n",
       "      <td>0.0</td>\n",
       "      <td>0.0</td>\n",
       "      <td>0.0</td>\n",
       "      <td>0.0</td>\n",
       "      <td>0.0</td>\n",
       "      <td>0.0</td>\n",
       "      <td>0.0</td>\n",
       "      <td>0.0</td>\n",
       "      <td>...</td>\n",
       "      <td>0.0</td>\n",
       "      <td>0.0</td>\n",
       "      <td>0.0</td>\n",
       "      <td>0.0</td>\n",
       "      <td>0.0</td>\n",
       "      <td>0.0</td>\n",
       "      <td>0.0</td>\n",
       "      <td>0.0</td>\n",
       "      <td>0.0</td>\n",
       "      <td>0.0</td>\n",
       "    </tr>\n",
       "    <tr>\n",
       "      <th>1984-12-31</th>\n",
       "      <td>0.0</td>\n",
       "      <td>0.0</td>\n",
       "      <td>0.0</td>\n",
       "      <td>0.0</td>\n",
       "      <td>0.0</td>\n",
       "      <td>0.0</td>\n",
       "      <td>0.0</td>\n",
       "      <td>0.0</td>\n",
       "      <td>0.0</td>\n",
       "      <td>0.0</td>\n",
       "      <td>...</td>\n",
       "      <td>0.0</td>\n",
       "      <td>0.0</td>\n",
       "      <td>0.0</td>\n",
       "      <td>0.0</td>\n",
       "      <td>0.0</td>\n",
       "      <td>0.0</td>\n",
       "      <td>0.0</td>\n",
       "      <td>0.0</td>\n",
       "      <td>0.0</td>\n",
       "      <td>0.0</td>\n",
       "    </tr>\n",
       "  </tbody>\n",
       "</table>\n",
       "<p>5 rows × 47 columns</p>\n",
       "</div>"
      ],
      "text/plain": [
       "            therapy  androgenetic alopecia  loss  scalp  areata  minoxidil  \\\n",
       "Year                                                                         \n",
       "1980-12-31      0.0                    0.0   0.0    0.0     0.0        0.0   \n",
       "1981-12-31      0.0                    0.0   0.0    0.0     0.0        0.0   \n",
       "1982-12-31      0.0                    0.0   0.0    0.0     0.0        0.0   \n",
       "1983-12-31      0.0                    0.0   0.0    0.0     0.0        0.0   \n",
       "1984-12-31      0.0                    0.0   0.0    0.0     0.0        0.0   \n",
       "\n",
       "            skin  women  androgenetic  growth  ...  frontal  condition  \\\n",
       "Year                                           ...                       \n",
       "1980-12-31   0.0    0.0           0.0     0.0  ...      0.0        0.0   \n",
       "1981-12-31   0.0    0.0           0.0     0.0  ...      0.0        0.0   \n",
       "1982-12-31   0.0    0.0           0.0     0.0  ...      0.0        0.0   \n",
       "1983-12-31   0.0    0.0           0.0     0.0  ...      0.0        0.0   \n",
       "1984-12-31   0.0    0.0           0.0     0.0  ...      0.0        0.0   \n",
       "\n",
       "            treatments    p  effective  regrowth  effect    3  mice  normal  \n",
       "Year                                                                         \n",
       "1980-12-31         0.0  0.0        0.0       0.0     0.0  0.0   0.0     0.0  \n",
       "1981-12-31         0.0  0.0        0.0       0.0     0.0  0.0   0.0     0.0  \n",
       "1982-12-31         0.0  0.0        0.0       0.0     0.0  0.0   0.0     0.0  \n",
       "1983-12-31         0.0  0.0        0.0       0.0     0.0  0.0   0.0     0.0  \n",
       "1984-12-31         0.0  0.0        0.0       0.0     0.0  0.0   0.0     0.0  \n",
       "\n",
       "[5 rows x 47 columns]"
      ]
     },
     "execution_count": 102,
     "metadata": {},
     "output_type": "execute_result"
    }
   ],
   "source": [
    "df_bcr.head()"
   ]
  },
  {
   "cell_type": "code",
   "execution_count": 103,
   "metadata": {},
   "outputs": [
    {
     "name": "stderr",
     "output_type": "stream",
     "text": [
      "/Users/andresgarciarobles/anaconda3/envs/scrnlp/lib/python3.11/site-packages/bar_chart_race/_make_chart.py:889: FutureWarning:\n",
      "\n",
      "Series.fillna with 'method' is deprecated and will raise in a future version. Use obj.ffill() or obj.bfill() instead.\n",
      "\n",
      "/Users/andresgarciarobles/anaconda3/envs/scrnlp/lib/python3.11/site-packages/bar_chart_race/_make_chart.py:286: UserWarning:\n",
      "\n",
      "set_ticklabels() should only be used with a fixed number of ticks, i.e. after set_ticks() or using a FixedLocator.\n",
      "\n",
      "/Users/andresgarciarobles/anaconda3/envs/scrnlp/lib/python3.11/site-packages/bar_chart_race/_make_chart.py:287: UserWarning:\n",
      "\n",
      "set_ticklabels() should only be used with a fixed number of ticks, i.e. after set_ticks() or using a FixedLocator.\n",
      "\n",
      "/Users/andresgarciarobles/anaconda3/envs/scrnlp/lib/python3.11/site-packages/matplotlib/animation.py:892: UserWarning:\n",
      "\n",
      "Animation was deleted without rendering anything. This is most likely not intended. To prevent deletion, assign the Animation to a variable, e.g. `anim`, that exists until you output the Animation using `plt.show()` or `anim.save()`.\n",
      "\n"
     ]
    },
    {
     "data": {
      "text/html": [
       "<video width=\"1004\" height=\"504\" controls autoplay loop>\n",
       "  <source type=\"video/mp4\" src=\"data:video/mp4;base64,AAAAIGZ0eXBNNFYgAAACAE00ViBpc29taXNvMmF2YzEAAAAIZnJlZQAApLttZGF0AAACrwYF//+r\n",
       "3EXpvebZSLeWLNgg2SPu73gyNjQgLSBjb3JlIDE2NCByMzA5NSBiYWVlNDAwIC0gSC4yNjQvTVBF\n",
       "Ry00IEFWQyBjb2RlYyAtIENvcHlsZWZ0IDIwMDMtMjAyMiAtIGh0dHA6Ly93d3cudmlkZW9sYW4u\n",
       "b3JnL3gyNjQuaHRtbCAtIG9wdGlvbnM6IGNhYmFjPTEgcmVmPTMgZGVibG9jaz0xOjA6MCBhbmFs\n",
       "eXNlPTB4MzoweDExMyBtZT1oZXggc3VibWU9NyBwc3k9MSBwc3lfcmQ9MS4wMDowLjAwIG1peGVk\n",
       "X3JlZj0xIG1lX3JhbmdlPTE2IGNocm9tYV9tZT0xIHRyZWxsaXM9MSA4eDhkY3Q9MSBjcW09MCBk\n",
       "ZWFkem9uZT0yMSwxMSBmYXN0X3Bza2lwPTEgY2hyb21hX3FwX29mZnNldD0tMiB0aHJlYWRzPTEy\n",
       "IGxvb2thaGVhZF90aHJlYWRzPTIgc2xpY2VkX3RocmVhZHM9MCBucj0wIGRlY2ltYXRlPTEgaW50\n",
       "ZXJsYWNlZD0wIGJsdXJheV9jb21wYXQ9MCBjb25zdHJhaW5lZF9pbnRyYT0wIGJmcmFtZXM9MyBi\n",
       "X3B5cmFtaWQ9MiBiX2FkYXB0PTEgYl9iaWFzPTAgZGlyZWN0PTEgd2VpZ2h0Yj0xIG9wZW5fZ29w\n",
       "PTAgd2VpZ2h0cD0yIGtleWludD0yNTAga2V5aW50X21pbj0xMCBzY2VuZWN1dD00MCBpbnRyYV9y\n",
       "ZWZyZXNoPTAgcmNfbG9va2FoZWFkPTQwIHJjPWNyZiBtYnRyZWU9MSBjcmY9MjMuMCBxY29tcD0w\n",
       "LjYwIHFwbWluPTAgcXBtYXg9NjkgcXBzdGVwPTQgaXBfcmF0aW89MS40MCBhcT0xOjEuMDAAgAAA\n",
       "JDpliIQAEf/+94gfMstp+TrXchHnrS6tH1DuRnFepL3+IAAAAwAAAwAAAwAAm5vjq2c4YzzLYgAK\n",
       "A38RQ1/iAn+fpGrBkULgGQs1ZeOrAwKb1Wm0gVylAsI/X/h5ZHynDT9KX+V8K3U+g04VNB/7tk7V\n",
       "l6zhwuZWq8c5QzzpNiwp6y0H2byIgJlFyxDLXNsZJunwQMIIQNZh/I1TCfrf/0HjYTqCOk6B/bJl\n",
       "QRAVw/MTl6wwEUJSXAdixC2WC0Lyp045RchqvDegzOJIvsoyeZV3Snzo0JCkXBOxmtnf6AE1s+Xa\n",
       "3UJUN4lZLPu9isnnwrwifuU+d2S2jj16ZMJCdnEV/yrSX2B1IrdF8bVD/ZkjeSD1Swew746GVESG\n",
       "RRJdfHsyJQG7VQhrDEehX6YKLkdePUyLmHRKOcY8EwP9/yNp7jEzA2K5Dpf5dTiTaW6RD4yAV3sZ\n",
       "/ff0eoZFn777W89ZWGlfBTUHgSb35Ga3r6m3ajyvB0zS6xpXxf7p/kRJHXAj7Hdl87pMaZM6/psi\n",
       "ntqLsgrQqKrBNAFxB7cPWLE7K/4SpfVh5x0dUFe5TnXWwJbQRqdlumtxfS96e43a+Kq6FoFRAQ/4\n",
       "+ITpLPx603ss52c2KgyzaQulkAgem6ppWgtgLv9u/1Pg5fz/eqVVzm3AzaKchdY+xwiMEP5ezItR\n",
       "EdJiLkjB5lBxn0AoHPxpU8ug3gF6axHMVGHQURlMO7ytO+mJUy7n3f6F+wKcbdINSoAAUXlv97hl\n",
       "Uv9NmBgZlqI82F/lHg0pcSRO42PAzoVS939XeV2mzotbjOTHKfJXjipbVKo37y36U6W4LujoJku4\n",
       "VpdRUZcTEwb8/QAJQyEyTMV5b0MJ7D+MQDD/kvXa7rdeBC4NcVkaJ/sb1IZ5pJIEEAiNjzYE8B6r\n",
       "3ON4YIb3w8XgrCftUgkZRRaDNFMBXatON8xldxGPVuM3Xncy3YtZ4lG+7cJt7S8p/RdCoW5CaR0H\n",
       "9AGyOwiYvQFi69KX8TVCXEOaLZRMEPZY2ZO4rYzY6lSviBzRWyE9qshqyoeE2MmgPCaU50RXLzZf\n",
       "+QZDAYVzkjX8B3MtuLBG9/8PlHwrytTt43qeHa+jw374fk+7/3BfW8C7b4J6DlZ5q7RKrA16RmgH\n",
       "j0HgtTl/Vc1uAeSz87diMuM44GvvqlvhUqTjfrUTU01NTt0NfM9R2LJEMYpkglY3wFxybjMWt8j+\n",
       "JBM91/02GxaIEuW4qtTjQ+rGU6c6VEnyVGlomvZPzkTCnR7FTCp8PFOcokUjowMimY1oebD0ewYJ\n",
       "+4dtIflAYPNg+ksMIFcEsYRguyxZsSgTzX+1rwW1Vh8cQIHMY/n8N7WbYEAikb9RSBEXLMEsFPB9\n",
       "qqhbRfpuzjNx7FlocjuaQ5gdd1dWSO9G/Borhmxj/0adS36ch5ADJCiOefhL1rnoNwj0mhPoXuy4\n",
       "W80NAu8zFI0PhwmkVPnDMzv2A4DmW3z2y/yvO5vRDaQtuojVJ2OY68EtpOZXccfaHfB7ylnVnPI1\n",
       "q/Q7QJBKgeEgyRxp2ETVITM/LJ/ujYY4JwmeOK6MhhLrL848xJ57G+BTQfogrpiF2Wcbv1R91sME\n",
       "/DswjXyheXFCUdDuF5idHecerAnhRZsILoEs909Rk0EywRy9h+TI6jlhBvXgE9mAcAQAAIjPbQ5i\n",
       "w3pnpoxETP1MCfGPib7Vcj6Qr2wod080pIEk01wTp352Gt0cpP32T0NKY2+KHvG7Ch/5FQ+cBsXg\n",
       "ShtaOltg1c3f0JH8MlBvtDsnV4Z+Y+lKh9eQxQxxLWJItB6SCJvMLjOimducgppBI3u1qR46YV6L\n",
       "mOIac4VjlRePQjhcptH4YZQeRN/ogHeSKT+uOUDFkA8qBpUIgqlmOrwp7DUortWB6q48QqJ9v52x\n",
       "3Yv3W83rVPEQ3ZuG40o4IyS9MBPmQcFPRY3fNa1E1Wzc5WEToEZBTgp1HK9/ad3Q5FZyXd5gMXV0\n",
       "N7MPVTLXdtXQumQRXgK3qQ1Q5EIm7J9ucrftNUmNozTMyb92kGXuP9w2UWKuO1lDtDA9PSfuHt1T\n",
       "601TvsSPZWX4VhiPo6hLuhewkuzxf4g+TWAdwhkddQzhELXeU4Rb/sTd4PXPiDWlAOwax/nWGJwL\n",
       "2zYis8mIGjaDvOIz5Ai/QH2imxBMq81NyKz0dZJAOEWaZHnviISHUPctgoCqk364B9sKq+QYw7nM\n",
       "gQ4Sc0EwLC2BLi65iDTYcoCDD3qUoZNdqfNQHnVm0ZH2gEqGf9BumBH0PwwD5JiSuO6hwg4rOjdt\n",
       "Ejub4l7TR4XGDqDvTjWtsM1MjAT4oiJvO6vWtk56Yo2khn1fvknTRV+zOkG3s67aIfHlyi8q/VL3\n",
       "GPHmzRLwT74OFCTsONHIZO9ON1n//9LxHxcRVMeTBh2KmfPTW43zt4s7TMBHh3WX8kZ41M2gnjUF\n",
       "PGDG67IuWi7mg567Op79vXrUex8W9z8e4H0zVj4djvWWrPWGZQ9J80XrwjcTWXPHDaNz2q7GTMZq\n",
       "LLSBr2T6hCaljTEPCxNEC3xPaGpGJWD6wAxwgPgjh/GtPpgJsGSjq2SrNKzJVpUxPTgJsOzIYpl9\n",
       "GGGpaI5p1zmiyDd3pMaT6JduR1o2yityPN76I/Y5QHjr/aMm6jO+aZ6he8yHZPM8pCH8yRvHQtkI\n",
       "5luepyPUyp4RHoJt3QbigaxuZDfOJhqtFRnE3julVR1tWISOtRqkVLZsm1uWcrSWcBv7FMQ9wso0\n",
       "mYpXOVSeBqoPbVcsx3718Ja1aC1Q6psVjQqHAO955TFTIRIIXjCyd+PzdEexjAnzrVyExenqokFN\n",
       "GdLCw6TvoEMjC6PKAmais2PxgIYbtyrWy0mugOv0Xz8Z8d/DteehoxGl4c7MTsxokAi8Nlolv/4Z\n",
       "K3Az7tRC6QybCAQQrIrK39QgybeHi8MOHqh9qdglE2+F4gAdetKil7iEdFMDLg5LDakF4Ve6G++2\n",
       "uBhIMieOgszTwqd+cadZk+KAsM1XA4pnUfNxCc42jQHoxl60LO3bSB5dpM0yQrbdJ7/9BjC6b4Tn\n",
       "HWXUEjaUexHr2IsTs5i5YZ7lfeDsWKuGBuf+6zlRS8wQgeKD/jZdW8xmXN1vnoQ83VSTVBXycSOz\n",
       "iCYLw5PgIIBIOXi8kvGovxJz/BMRLTLNKM4P1t7gbkoXYez45NQ1aJ9EppfjipL80HfSeUrSQoHa\n",
       "mWcaWWo0ikBDTb4H9JP5JnH6SAGiA1nqIhjLopqgl8Iqec4rELk3vDiKoxwCJ6XIPnyFHDr06Vgo\n",
       "w1K8D1u0KAKGB8T/5G9o6PUPb1vFuMAawiTBrRXDBXBYMQpRVzjsFDWqe/yswy18UCfqf8WVtGN7\n",
       "sB3q2wBctr1nSkTiBt/mbXr441fokAK0kfxryxEa9u39kJNjfH4RJE9evC02QktrE8UzfC02/t6E\n",
       "p8V2F/rx6m7VMjYB5mCEp0DrLQ+EoSbRFCOzw1kXygscaDvMGjkM4FiivrjyDNxj8A9hq+13wO61\n",
       "5UTGIxNhmcM4+vxQk6KdDhbnmQFqxPlbftOhlTq2O1zCV+PqFjpyob+Ww0dGH+LRTzyxPlSzvbu3\n",
       "Vp6E3jRnNomD0CP1PuEAqxQwaoe+DGmo/DWJf4ot5THh7EgFJrmqiC7F98/S7Z6/vnO/BcNGTMq9\n",
       "6GMwcmESC/JYmrcPeUeVqb3+JNtyC/Uzqd+HLB0JyQ/9p4HiOJYbkslE/5TC5YrwEBbB8HP5pRUP\n",
       "FFBvD7hrRpSTiVX2RbwTdf7jTxUtvtdICSEFlvZM1HxUFp8nUzZYStv0RiUUzqNLo+Clm2NtZY8V\n",
       "olqbPpSpBKz2xRrDhm50xQBiYGZJyGzq1F+momLSVPzo5DjhrowqnBflEX5UZpcqMa5spqFF+ZdC\n",
       "GlkGyLItZnKRFzu6kvdsCPt+LpylxfjF/Y84XwHB3MtvfjjIixgjLNDRrTVvnif3M3u6UiKqYfxo\n",
       "+Rk73A33R0WMGSCzbci7uVkl+W7VMhEv2Yyd9M/GbS6ujpM/NSeDJywANpQ96+fgC13ml2eVD42c\n",
       "kMeEI90NSZBsGA4Ns1wekcr0ogPWJIY0GI09O8N/4CcpQzIf2M9oHvrUdKUbGb4R8uwGOutb2TzG\n",
       "kVN39Khp/iHCP4FvyEYX0bVo+nTK0BOCwafnc5gyw1eBnr7Bf/yyC8fLdnQyA35swNPeBUef9Hg8\n",
       "K3kxfuT+VaoljD9NfR5M7KXx6o7fvNMB8r8zwQ7jEs7LRLtfaoCXnm/86fMDVMh9siSpNbks2CcH\n",
       "cEcDBeF6XNUqF16cbH624uqlYOM+o5POczkM/sf0XzxAWFlsWY/PBLeGYueO/+5Wt54Eh/6bMJXY\n",
       "4D3bTijVJz2V0hax4tbBg4Bqrip627REH9d9pfUx1B/hMGqy+ST/r+6wQZVd9/skizAcHY4LiOS6\n",
       "LhqlQDF6g82RBvydGJeRRTG5XQ4AkUj3mxoLBu7BuLu5Sn37NwUQaEq2al3AD3gK05LvSLVvx7ot\n",
       "lbPLsB6i34lmkl8pYzwkPB8PoFM1CV/bkeu/7xHHJCcINcK7jaqEccGY5PhWEBer0WSTgPruuhna\n",
       "sGmQQ7zAs9fwcW+AqmX93aHrAlc6jlmA3rYg27HTzMO4Rwb0nKZDVEXmgNIWbOZ1vs49fuIQC0n1\n",
       "ox1/dvtcLXzjUw7HAxZkY/IsliETcTqh7iu+MsWUsij45ZLYaYL2fILVZJPuhD0ZSLVNXPD1qjlk\n",
       "7x83pgCAonVW3NVmM9iiYg3jWys2leRxF+KpmAlJjOp78Lv8fBsxpWemIcLGZOadoAmEGjU7NaGj\n",
       "RBsI5+WsBwKv+g5L69EAu4TAm6wUwyF4Hg+nBMWQc6FjozyH++6byt0xD1maXsTHU4HUxplNoMKT\n",
       "iJgItMBSQ4lBq60WfEmOxF9aTaNTBHUrQZAzx18X2lcCxM+WkDK/ShZ0MK/yZE/ZNBuz8i+Uq1J1\n",
       "DvjJwCYAS/l+k4i+WMXNUbjtLhmjX0Vyk3qppjrNKbXoCWJTjP+uJf1yH5/HIKYDntXW0+y8SoyI\n",
       "WUyqEM2s+ZrkWfE+U3iZaHOy9SXaw4cYZ9SJL/OA234uTLi3DQqInBwqT30zfN4XFS+zii6I5iIf\n",
       "NV995jTgo4Zh57qSGLaDSFqmb0g6pZ4Nz/ii2HI3ZYyIFwKE4WWCMhxUYsQjy/H14AgBOdsM/wdd\n",
       "tytY61LpMdo4Khy59C9p5VVNkrEjK/ggrcnEnZgJ8FeHnHMT5QWYL981lwm7qIIIIqOgYua8i1zz\n",
       "gcSCpS5pVFPMyVCLt8aHs/m4MYXpoUhJ7oNvrfZYooXBD3LzkfO/BKQprvba00BYPUugpOSvQwaX\n",
       "0+vSUuOiAjeI1z4PZD2x2LQ9wTNDaKp3jbS2Up0LJJewDpx26t28hUXmCuKgKf8KqUTimvDqbNDZ\n",
       "inyqiNw2sw50Gr2Fy2EQLU6lSOgNP6sdL5Q0tGuvO0rejCdicX0PAs7Qp3FgoXtMpqGSjoEIXZwY\n",
       "NX3+EbWytzE+BrS2xJG6ogxMamDyi5hlw+KlMq99zeArzqvVP9JdBXC5a7n6SxJDzCsNz7hKhwh8\n",
       "tm3oGw+OKkZNfrRkuYMO9jfdxUnFQsMxt1p7A2W7MU4/+dFjeioNGzMo21mFSLAdqIjGI/lcJ8BT\n",
       "TlPKkGIOk+gq9827le/aSY9MOOMc+o7lNOW2piqPYqH6gavqXlqb1CP/vABlrhycyDlbxwLLTGwe\n",
       "fOPr1teUr6y6gfQEmCNZA6J9DEiIXwkQuQU2v/X1T2jFbalIwDutCHPVw7plewRlhG7WnxyXgD0t\n",
       "yzDQdhw00d7gCrocjEZLbMOosuNgROIZHU/8DsJHvdu0Xt3OiZtjjpwElga42U2zzhAi9AKhrApI\n",
       "V3jZbS3+3HDeQyQDDUe+0PmZP3VWioDP97jm3H5uanyCpB4mPDs5rD2jicKxlj4409jYPL4ZUSjO\n",
       "/gprGoTSRWOCweIH0zvFpPxF41FhDWsidv3y+ADUnaBmnRa8X4kSKxdGH7sWTPPBY7wr/csYIcXz\n",
       "uhkHB2tTMn/i7NkEcBsKGgEqE7AHPEydE9oOH95mLe8LefKCFOb0LOzN+G+8ZQ+TuWXmnYgjVsRO\n",
       "i3jxUmiBwajZhFHx0u0YS1l41nyfFmpUN2vw5wAGS8zaGEPqYFbqT0Wezzmcq6Q3btTIxrpMdz9H\n",
       "3490wpXD1yDdE1+go6fv5vHgO5ACmUKIH4tQGUtzDubBwNr2FIE9dRVXABtNvUhJ1YCkaWh5a7uK\n",
       "VUfst6BirkaGPE+hG0wfHLe5TRITpB1IB7d77luwxM321/AOprLkRynecCswzDqWZ2DTfS+NMtZh\n",
       "Q9wVXJMQz8mCLQ3YNPGExfY/4bgDbMuu5HQXyzVu+2VOyj8oAtKeAiwM/a1sIemwX9fN3cF3u9S+\n",
       "kfW0k9hfc+aV0EsksOa/wup6Bm1sa+KzELF9ouq5nsBqViM/XTfJUdhnnFFT94Bf//8opOctzfq3\n",
       "pCw9764LmE2Nfl8qoKPEHJlwLufDSp1lN45McabJ/bSEgZ6+dyFYZznSFsEnlATqCzFUSFL1XlB0\n",
       "3JRwb9N7Dk7XeB4lA/IxEjrgFjFgyluHWCImxml8HGzcjiOb4KC87D112iypvCVF7taGpEQkE4r9\n",
       "ARbAS6VO/VYCLkSufiC+y5+SrHlWyEpe01mDLRspQLVSuWxR+y6cCtqvW0Yu7p3UlPittSMqEpz5\n",
       "rOW0UHwgk3pMqHY/F1RYj6hm4d3nClUjbwkKbjEqNPjQmeE/dPtbvmgeHKtrgn8skXah3XHUUx6p\n",
       "ITE9huvlOBSAkqD406Uke29OyNSOVjXl7NUOX/qGpAkwGfDkkBFYeyo/yaK8XPekWpFqi+qerrqI\n",
       "O2Juwx4Q+mwNdZjxk34a/G8bSgsa7ZniP5mbzSqRDKQ0SYNWZ41ZX05/RMewqZJu+rTFOuN8m1kW\n",
       "JMZJ7ELxyEGWG9fWgux2FSg0Eb3AbPXi2bVqdJhRFZ4eM1Cpx7jhRP1ZjSRNdPxSs2fgQxb4BOls\n",
       "rsRJtdVCvCMu6Gqso8/vFoq2huFOgIMdxzFw8d7qN3NeEaAxgfmlfDfiXwr2f6cXcXFKETG5SjJh\n",
       "tRDr4zoC4qDbN5E782VHZcQNg0naDXvz1af0i6Fj+qQhiA/q7et28mT7WLPsZzL6ZpMOJteenPHi\n",
       "2aHASTR5m6AOniiLtSVvWqiuPHCHW+cArEtmrksRxPWNG1iUUlDhIw5W71yRb7LdWQaq4i0jkgrF\n",
       "4Za00Q88wNM3Pa0akKFgbYM3X8gdH3a2cJQ8mEyAJ17rVMpYfiOuZfvj9TgR4VaF+6pm4ZRWp9O3\n",
       "RvUIB1bkYRBrybLcnB9U9YLZgPDKG0pImlIprPmVB1RjOfcCk0CQvINpSd4Zcr6OnDKWdxAb0gvQ\n",
       "2dV8eSbeNVnR0zcyEUf3mHFnUNjHvuMb27dP5MZeik+1VcwYd7G+7imd9dUdt/BoKPgBCAqs6TvG\n",
       "piu9FROGASApHYd1OIWbxy2VydMBCPHsm7OABuIMhjKu27lUmrmuf5woa6YDbza5Oc3/yZGNeAFh\n",
       "Hn1tN51vwKNzMNR+INV7JGxMZvYyRclVrX9dv1mZvxtyE1IzK7yB8PhFn/x6zs7E+DNAPnnA/jAA\n",
       "y0QQl/HOt3kzif34gjRFrUb+9Iuzm0E4B3tPjMdWwBSJXslM2n39Efj6k+W+rhAjrOlKAp4fufoD\n",
       "73LyMpYagcjaOr6lKlo1iIJ/clCMYiRV+YZdtUoE+qerGzflTSWvD4apLFhwsrIq5Li94FdtUmek\n",
       "M3tjsEdSrFhsQU3CzSe1cyEmIcomRu10jpfdAB1WFF3/Mwft3V2k6u4lczeMXBlfptCVDW88bJsl\n",
       "lV1HHQV58nIAH4/Jr/VxvbAjF5jpqiyPpK2TpVftvxJBCnVuMaBtDQcku5XElz6ptm8+eB7wf35M\n",
       "IW31zaOblUVoZYSbipc1DbVSKLwFLUbbK4WcWyZhPJc9SUZkKFZ3xrvK9vnwNdxoIHO7ZVDIrT+F\n",
       "sc3EWUuT5UgT/41fiBw0aXnpCtgol1pAhqwWOo0wYXQfGu9tcC0alX6yYnyTivL0rbcwy3sz3qOG\n",
       "QbqIby3YX4Wty0P7PfuJEKbUmy6GGDhaOBL2SH1ycvt/YaYDGNV6KWm9IoXDC3+lB1ocCQzRQtvM\n",
       "OYhS51kGBqPsLNqTSKpfHVp8IXy796B6z3a3w/H8j250r99I/XQWFhEiFYiC/u5yDNMbyM8TT+y+\n",
       "d3U4DriYx2EPkrxcknPtd5vB/c9RlXWfzwbPZUoQKVGZCEy2SdNf3Z1NssejgcuLh/U8w95r2L07\n",
       "IItxrsCG919HZfueuwb9C5vvFhQ+jRay/FesRB/8nde0gxtkm9A6GZdvDYWgI224on+fXk9TnOSB\n",
       "3YOwq0dIWz6svr5fjMTM2fXQxS2S7LDN4zHzxQ1Ya91w06kUmAFzBleHDkAcF3YtX31L0rSPnGyd\n",
       "jvB+QYWp2AnzEEIbcut8aH6VXndHMU9GwSOLM23h83SvVgtNnO0oY5jj1IRUsf5xFHe/TmUDclit\n",
       "AkuiG/N576q7u34x2w04DZdCm3ahm15v0afEQLGjPnpF5uYg5RL5+ODOU189DbZ2LYORQx9qP7TH\n",
       "WsFI2PzKrzP/W//Vc0iOJS7LhauV0l42IH8e2vkitzOfup/fGXa+66ZrkmMTn5VQs7upn57pE0Qm\n",
       "1zzq8G9tCTRFOKNp2uAxng/J/UUjXNS2TzFq81r8q8BbVWlM6/Vz6mqfngX2o0/FEeEGOaC13zi0\n",
       "f2v8MgwuMi3CssueAVupuOrxCdaIDbsBV93DE3XHUUxvZzMazVWFOtvV6ZVB8adKYAcmCMvGrWm9\n",
       "oh9DOi6pHfjVFdUv5DAukVI3pPM2U2ABhioKYi1yWlZLulcvjeCOMgw1wkdVLN/WNgxH79TRho/C\n",
       "Eo7kObAfKsN3aPnpqPkrPg82Sc60crppMhjtOZ75SURNWCgBa/pMtLR7Eiilx4CkwXJSb35T7vm/\n",
       "Pnd2ZzI1Wa28koaXHMjG1AK/ppc38gd90oD6TbPbWnGP4r5Vub4ezt7X6arUyydmVCsM/RHEcHQm\n",
       "fIdzJoWEsNE7i/lsp/64WC/mRUpdRa6ljph/LiqJuquDmMzWtlSQmqXMG+TO6b5l72XcKwLttGyl\n",
       "qGH2sWWHqohUtmmPMIPs4X42OlY2s95PuuZKftY1A+UZsTSSKQz9azTDZDwcpKedEHWcMTg+ubHm\n",
       "XT6d0zKfS0x7mfvZdp8r8orE32Cmqy0jTi+il/41J/eGXNJ/FCLz0NsPYClJ9Sj3pTdFxyL+Scif\n",
       "Chsa2n4Ib5/KcNDNl8Jhf9P8P6IFqSMAUpR0Z/wk9/Hp8qDfe438rNz4SjPx6fmB5Ii2YA+62cZM\n",
       "fwfb2VrGhA6pWUuO8me9i84DJlYgDhVuMSZPgbkqGLPETJ6PniDZPsbocXZLKVzSkZ2UtPyQzkoc\n",
       "2CHtb5aZ4CnJfYnpGtOL7f8NvgTMLquSfH8tEYvTO6rZ7WaMpPN4ytl9QtbzpOx4qu6Ak92vGkZW\n",
       "pGg9vixReALiw/ahNtLRENIVnz3Xj9B/QDBot2h6XzQVsWVH66vNgsJ/kCXeU1LJfKZsBhPtKhBC\n",
       "f+zAt7xlwZzeQPwDTRtwM8+CwX2Ewb3wR981dVk+fYeg8Q3A+AcWpq9q0BThw3fOnh2tE/Z1PMyl\n",
       "BW6TB/Jdk9UR1XkgWty/Wc37VoU7opilVn0+EuoTpw9N7JxAUWcbuudNVDnYZZq65GDGdtZS5PVu\n",
       "Px/wJdKY5fPUDPy/iiYNKn3mZ/Bd1MGporxdgQTcJ7j7TqOqDxwfV7ukR37fIKeI+qKeufRTgnU5\n",
       "4900VcyusLUvvni7M24N7nQXgsglzJA6Dqde1YbGLp7i5cHlwcxtXWEqOVAU/dP/kw6n01fzpISS\n",
       "Pax7L4f4ZQMQX2mEFn2OAlE11xxp7wjwioqFOEEyGaqe/NppeCjbYMQdlDmdXIuvc7Mgewwe6WeO\n",
       "FinyMI8uB/CA5MStGgVtQNHqZbhp7XCjNh5R1gwSCztVemAGwzdrNA2G1kpP9n0MusofDA+Caw/p\n",
       "APm0oreM+90idibCoYFJA4DjotpCxO8m6W8qXGHYKx0R/Qjq8IMJamg5y8U03+coR+kwO7UXACgc\n",
       "8efuMKaTdAe6En3WtqiAAGD8DwTC60wzn7iNo8fXwrx9K/PtO8KuIdsI3i0DyuFqoZIWNVediXKZ\n",
       "5MbWfv/hJZcMLhHtdslnv0ltUo+2wXzCeoc8Kuyqw+40Rh1LF5nemlnrDjN4pvGgVGGm26tdGH4L\n",
       "DfK+AXl3Tx6isaXmvtul+slzzXj/yw9RZg4/gtGR5X6utT54i8hZvB8p4agzdE0iEWrVXdRkBvd1\n",
       "g2RkqPmOaCHxHEksuUBz4JeCxyXeO5B2J/Wplxh06gTiNEzjscBHPYJLcd4QUeH8biUkAZ9yqrxG\n",
       "EUTMbO7NxBwO3c0/vuXtQ205l9xgyMPf8VYYeevvLV2jePsv7adw1dXSvgME3zhNghXdAoKcyulQ\n",
       "KQCiUGB3+BelUikCd+HBLqMBeZi42OvXT2Ts/OV4oeyPUZNc9KxtMRo96ehc/aEhRUNWG3/IeHEW\n",
       "lRR0TJxAKB4au+EBEVTXrf3Wx3jtHkwSl5usTNbpL3yDnDXEwR4NsVKCNv8aksQOkDsT9UaLHjqw\n",
       "XXsXpoPHjtFzjVmVp9hRZe6C0gOXMNlYQHbyBi4Dl2ZfV8WcjrDaeGCkct+zfb0RxacnAHzLF3aL\n",
       "QozWWxgjqh9hO4iT2/ITVLFRbRy2YBqwjkrP15e6/9uiaWUpmu0q8oIHQzfpcTKZAcozjQxJfAIe\n",
       "0VTo5C94uS4TwgX6U2w3zHcsO+eIF4KCMn9gFjmHwTuNml35cuU8f9WzG2mfNoRQU2XsTBfbNd2o\n",
       "iucHbDZ74P1zYQYYT4J/oMyHamHFG2n/oZxWmgkR8z/aobv1WHpe74fnaZeJRWPy1EJoUAwWI7Nf\n",
       "AIeLNXNOzPpX4g9YkjtM0qtVpT3Sv2IJLzDklY2iLdDweV49Cel2VC8TJlguVDaASglb7R1ahL7a\n",
       "NhnpswIdwC+cudsmqb1H7vhCvpZNu6vtsBFMPwBGWJHl1wiaLggkaeeRH8+iNy0PlnSl6eulMGAc\n",
       "lm/eoVyG5yimEIMkOTa5yDWElAurcXpco/EQpG359b7rrxGp0PWldwekCq2tw4xZUGD1SzOMxjSz\n",
       "Xqq11ET1FjcH7871zf1vw2/usW/MJpK8kPsHZ92BsH5fh4rGyCghVFl7a4njcEsHebyl3s+4irFM\n",
       "RmQiwohtwd+masG2S+0E4KdoVQIoYtm1ly8/+JHZGwl/+mkbmSza9z/4IEQO8iS3/r8bmgPubDGg\n",
       "P8qGPDFwFjaRhqeVTwOOUQXZqKG4/EXC1CGAyDo4QiBU/UhpPWpfSnqdF1nKBIcMdGe+9/FfJYiA\n",
       "x5f9Vtd5HaeRswVeTDxadKIFP2cOUuCEmHCkMVLRUaDLfxoXDBGsn3V/ByL3VWZ/chDdNJY5pA66\n",
       "JzSg6UUJ5uw/dAi83EzS/K2y91y+KBYJJF3eFwtjTZBDPj9SxHwzfqBNpKeuIqYe/dHLG9mSh8iE\n",
       "Vkz7tuurTHhPybELhNEVgm/Z12qt5qbSFeyXVd4uvEeBJGUbSzbsurai0+ZV9r7PJdlJYGTXxWuh\n",
       "vFF9Tj6hsf4e1tRY3wypcFnUW6SetdLFJEGtfFoW3DTJbLI7KX16rBvRQf6UsRU9thptfG/xfGa1\n",
       "+ENPkaJWokm/66xQUf1wDT5qLuFWKKeK40VP5/KFphjufBHIWp77e+3H/KpRKPek+Fy2NbxVCtgX\n",
       "qNdMlQRZdPxv7WokhLD7ojTrDcffhlG7rnhV0pgkj/h6HAPX0PF0hWWu0r/DoJdgAROrY2cpk9TX\n",
       "mQvIC6poUxQvWnFtXnSj/5XgpOGwRCH/g4MaA1D8Vo0n+bPWX8nshHQzSdTLGzYoY/QMQD80Uvh4\n",
       "IomhvMnNQYDfQyTcmIBxR885TWKDM6IXytxN83/3DaNDZSpED1s7bAz8VdSk0Wp7Vpc5Csi4QkOU\n",
       "iV21XSXiLPPGU6od28LR+Y6Rw3A1GhjHCczaAKbP8r4LilPATRYuvpJFDifEOjl4DEGVobUllegr\n",
       "9sjfjlcxZXT/lEkfJg/jMaVT06nJETPL6H3+NS+PvIV3n2WNtba3sXuUmNR78IuoNETQxbNqomem\n",
       "Ehjb6UyZpEBI2m7wHd0n665hdES+XY0xqV0RRVVwXu2UdunzmAfvnt0WXrPY7BiivWsPPp4AUhZP\n",
       "1JjKOb+5Gg+Vll5uenCPMMVg79VYicpGHvsLg745w+qcjJkbfFU2uArXamKI183WJ/I4C7tT73Gv\n",
       "9n7qcDpKMElay0pfzi+vyGhIAAAEVAsASrpQDI3HwuAAAAMAAAMAABkxAAABAkGaJGxBH/61KoAB\n",
       "3XJwgA45gUC2RwuSrWcATn5ccOuHWju3pfx/wMcsQBvSpW8yTSjl3UdHf89ouT6bkTJTpW3W5u7/\n",
       "h613P1FepMHixSC5aTiriTJ3AL/146bZMUoR21TLDyhqiRgkirIcB55IryYWb2cSd4ZvfSMHzBh/\n",
       "9yGzPCy+6JybF95rQ29X/xIWh9Jrvwxqup1GrPZz5G8PAWiKeSiXOYPb6a7ZVwbJdjsPbP+TZgQP\n",
       "DsSci8O3QZHud3j3lulz4U++F+rE5hW8eoEjEiQ+ShbvEHwBzHumDmKCKNoGmbiQ2VDRa4dnXrDj\n",
       "5W+QuyE1WQHNUXj/GgJByuANSAAAAD9BnkJ4h38AAspim5XqPQwbuLtgAAADAEutWqZYYZE3G5Bp\n",
       "EpPfJIG+awAvenDUCYcIc222l7qw5g5OzKmyAdMAAAA8AZ5hdEN/AAqDG1B2tSVP0uhqiBBQAAAD\n",
       "AD0gcWtSqDDIV4og4Yl+P7J1oEjNG4UMddyBpxrABaBWpAVMAAAAGQGeY2pDfwAACO16yaAAAAMB\n",
       "sCr38pQAETEAAAA1QZpoSahBaJlMCCP//rUqgAAAAwACl/QYk93q+Y09KRqrC7bVg0UFMDfqRBLG\n",
       "LGLZ8Vc0XHEAAAArQZ6GRREsO/8AAAZUj/pZgwpGoP9Apsvx+0Il+3oa2qVAl1tYnWeo+TIFTQAA\n",
       "ACUBnqV0Q38AAAjr7FmgcSiN/JBxBIdhaDEe7Jj4FHOYKBilsZUFAAAAFgGep2pDfwAACO16yaAA\n",
       "AAMAAAMAA2YAAACzQZqsSahBbJlMCCP//rUqgAAAAwAAAwAAAwCQN4NwBzTGbTHaTp9s5nnowqIK\n",
       "h2g2DUR3XnK/f/l5Qy2RWz+zvV9VIj2kYARI/fWzN2UJrpnqOzL83WmtmSLzkFR6z98A1BbiQ/z2\n",
       "TqJQtGt+qtPNBcI475Xt6dS+fUGQNn0uSkPRa7wKYowbefR1gij2R6Ue1SwD7zSP632U4XbjMq/T\n",
       "P0gQkm5Y7szdHSYGSkwP96jAI+AAAAAjQZ7KRRUsO/8AAAZUj/pZgwpGAAADAnMiW9V4obnFcvog\n",
       "DwkAAAAbAZ7pdEN/AAAI6+xZoAAAAwAZJDShEDRFoFNAAAAAFgGe62pDfwAACO16yaAAAAMAAAMA\n",
       "A2YAAAAqQZrwSahBbJlMCCP//rUqgAAAAwAAAwAAAwCMOC5cARiip/ngZZwCAB/hAAAAIUGfDkUV\n",
       "LDv/AAAGVI/6WYMKRgAAAwJzIlvVeGI6fACpgQAAABgBny10Q38AAAjr7FmgAAADABh7YoYAjYEA\n",
       "AAAWAZ8vakN/AAAI7XrJoAAAAwAAAwADZgAAALZBmzRJqEFsmUwII//+tSqAAAADAAADAAADAJA3\n",
       "g3AHNMYuGcMnKF9jOptJ0/XkfhgTFssSWtIu/W/3x9qVkPSd5ehCCtkGogT2uZZQNlTsLshtnnXa\n",
       "2xvcpBb+FdyKvpYq0LckSUMvPZTsxHUhq6qVqBLqIwf/ZKl7XgeacHlA+cwT8Etn+wVLSWDG8GdR\n",
       "KY3yoSEaerPeOL21/buwgbwTvu3IRbeWJIeY8upecXBXNiPki5gGrAAAACRBn1JFFSw7/wAABlSP\n",
       "+lmDCkYAAAMCcyJb1Xie163URzsAXcEAAAAWAZ9xdEN/AAAI6+xZoAAAAwAAAwADZgAAABsBn3Nq\n",
       "Q38AAAjtesmgAAADABkir37eXbRoDKgAAAAfQZt4SahBbJlMCCP//rUqgAAAAwAAAwAAAwAAAwAT\n",
       "sQAAAB9Bn5ZFFSw7/wAABlSP+lmDCkYAAAMCcyJb1XVEwCTgAAAAFgGftXRDfwAACOvsWaAAAAMA\n",
       "AAMAA2cAAAAWAZ+3akN/AAAI7XrJoAAAAwAAAwADZwAAAB9Bm7xJqEFsmUwII//+tSqAAAADAAAD\n",
       "AAADAAADABOwAAAAH0Gf2kUVLDv/AAAGVI/6WYMKRgAAAwJzIlvVdUTAJOEAAAAWAZ/5dEN/AAAI\n",
       "6+xZoAAAAwAAAwADZgAAABYBn/tqQ38AAAjtesmgAAADAAADAANnAAAAqUGb4EmoQWyZTAgj//61\n",
       "KoAAAAMAAAMAAAMAkDeDcARaYoPAxdyH3EVFZCeEXqv6uJlXHRfNTjKt2lNHYyYNWeUQsLHn26qv\n",
       "aAMKH4joXcIHSB7OL78Fa1IgCjf7bJRLOk3UF3jxvnVDOgxedA4+aEIri74MyutnVncYP8h8M9nC\n",
       "SD52uY5YLyiCLcovKhH1PIxO2vDQWTfKyp+pF4KuAu+2I564f0XMA1cAAAAjQZ4eRRUsO/8AAAZU\n",
       "j/pZgwpGAAADAnMiW9V4obnFcvogDwgAAAAbAZ49dEN/AAAI6+xZoAAAAwAZJDShEDRFoFNAAAAA\n",
       "FgGeP2pDfwAACO16yaAAAAMAAAMAA2cAAAAfQZokSahBbJlMCCP//rUqgAAAAwAAAwAAAwAAAwAT\n",
       "sAAAAB9BnkJFFSw7/wAABlSP+lmDCkYAAAMCcyJb1XVEwCThAAAAFgGeYXRDfwAACOvsWaAAAAMA\n",
       "AAMAA2YAAAAWAZ5jakN/AAAI7XrJoAAAAwAAAwADZwAAAMlBmmhJqEFsmUwII//+tSqAAAADAAAD\n",
       "AAADAJA3g3AFdWqdW6KWEDO6YjpKuXilDop6C+2HVG3rr7lX0xB6w1mTEzTp5GxeeIsrd40e9rEJ\n",
       "JAgLGRhwFkXgx98zBq+sehDPFxOP3U651Wv+/HmpZObUENGiaS3uUabRjxAdcQIW2PSbkx4ouoNR\n",
       "uWza4nqZfOKbPe8lueRfZwRxztugG53Z7XN/iBaBPQ4V0j/LDgJC+iOh3uTVBm3FVcMG7xEChPAu\n",
       "GqB9QpHgCtkAAAAkQZ6GRRUsO/8AAAZUj/pZgwpGAAADAnMiW9V4ntet1Ec7AF3BAAAAFgGepXRD\n",
       "fwAACOvsWaAAAAMAAAMAA2cAAAAbAZ6nakN/AAAI7XrJoAAAAwAZIq9+3l20aAyoAAAAKUGarEmo\n",
       "QWyZTAgj//61KoAAAAMAAAMAAAMAHHgThAAt6TYPXICx+AMWAAAAIUGeykUVLDv/AAAGVI/6WYMK\n",
       "RgAAAwJzIlvVdXpXUABJwQAAABgBnul0Q38AAAjr7FmgAAADAAT4dnNAj4AAAAAWAZ7rakN/AAAI\n",
       "7XrJoAAAAwAAAwADZgAAAB9BmvBJqEFsmUwII//+tSqAAAADAAADAAADAAADABOxAAAAH0GfDkUV\n",
       "LDv/AAAGVI/6WYMKRgAAAwJzIlvVdUTAJOEAAAAWAZ8tdEN/AAAI6+xZoAAAAwAAAwADZwAAABYB\n",
       "ny9qQ38AAAjtesmgAAADAAADAANmAAAAvEGbNEmoQWyZTAgj//61KoAAAAMAAAMAAAMAkDeDcARa\n",
       "C89Rn+KwK3TOd9uicwxyHQ9KCfP7Th9U5HS9H+CYt6KFXJvH9AcWq1LZy7Vs1ferDCmPS7KOayWx\n",
       "ypS62Jlz09HN/ns9xEF6ggoqOnTrziIvWUwAH07jtjEENLp4iBza0dHcEhHDc8QFZB6vFIAcTfxr\n",
       "GpQsyAIir6trdg/9GSmn9fGHinwbvx/P/ycaxVzuPXPf68fC3TL1GAR8AAAAI0GfUkUVLDv/AAAG\n",
       "VI/6WYMKRgAAAwJzIlvVeKG5xXL6IA8JAAAAGwGfcXRDfwAACOvsWaAAAAMAGSQ0oRA0RaBTQAAA\n",
       "ABYBn3NqQ38AAAjtesmgAAADAAADAANmAAAAH0GbeEmoQWyZTAgj//61KoAAAAMAAAMAAAMAAAMA\n",
       "E7EAAAAfQZ+WRRUsO/8AAAZUj/pZgwpGAAADAnMiW9V1RMAk4AAAABYBn7V0Q38AAAjr7FmgAAAD\n",
       "AAADAANnAAAAFgGft2pDfwAACO16yaAAAAMAAAMAA2cAAADHQZu8SahBbJlMCCP//rUqgAAAAwAA\n",
       "AwAAAwCQN4NwBFoLzuccmdQm6aMRzE4WfE13rDaGhAx8cmtrGXtMjEhzY4WM2BerApNYl3gziNdM\n",
       "UV2HWVgUcQxaxFi5wUhLGCmD/PhBy1ZFXlUCAGh3fCLvmGNX1RNUG9UCTQ07wC2pqmYJoPT9Vynp\n",
       "XHpd8I4gx10Gtn0K6c0NudhZy9Qd6wI3PaFYQOcq8gOf4WZCL+zbKVhMIsrVo24EmWDtvZEOaY7B\n",
       "VnEouYBqwAAAACRBn9pFFSw7/wAABlSP+lmDCkYAAAMCcyJb1Xie163URzsAXcEAAAAWAZ/5dEN/\n",
       "AAAI6+xZoAAAAwAAAwADZgAAABsBn/tqQ38AAAjtesmgAAADABkir37eXbRoDKkAAAAfQZvgSahB\n",
       "bJlMCCP//rUqgAAAAwAAAwAAAwAAAwATsQAAAB9Bnh5FFSw7/wAABlSP+lmDCkYAAAMCcyJb1XVE\n",
       "wCTgAAAAFgGePXRDfwAACOvsWaAAAAMAAAMAA2YAAAAWAZ4/akN/AAAI7XrJoAAAAwAAAwADZwAA\n",
       "AB9BmiRJqEFsmUwII//+tSqAAAADAAADAAADAAADABOwAAAAH0GeQkUVLDv/AAAGVI/6WYMKRgAA\n",
       "AwJzIlvVdUTAJOEAAAAWAZ5hdEN/AAAI6+xZoAAAAwAAAwADZgAAABYBnmNqQ38AAAjtesmgAAAD\n",
       "AAADAANnAAAAtUGaaEmoQWyZTAgj//61KoAAAAMAAAMAAAMAkDeDcARaYwzVUXo4/HSE7G4IwlxP\n",
       "L269EwX0cq8TRbq05/s40+dhmCyA8GTS1Z+0TpZvuvDq74ekdzQl4eNn9XnoBif8IUuAEY7Xecmk\n",
       "aA5+KoBBP/dUBzsrJKQgvtaHw0YAT5javGJFQpify32/F1R7tTRHtCOKoqXUoXLmUy8+Wl4ZOJZZ\n",
       "EosUYoZjMeaG4Uu9L/Ea/71GAR8AAAAjQZ6GRRUsO/8AAAZUj/pZgwpGAAADAnMiW9V4obnFcvog\n",
       "DwkAAAAbAZ6ldEN/AAAI6+xZoAAAAwAZJDShEDRFoFNBAAAAFgGep2pDfwAACO16yaAAAAMAAAMA\n",
       "A2YAAAAfQZqsSahBbJlMCCP//rUqgAAAAwAAAwAAAwAAAwATsAAAAB9BnspFFSw7/wAABlSP+lmD\n",
       "CkYAAAMCcyJb1XVEwCThAAAAFgGe6XRDfwAACOvsWaAAAAMAAAMAA2YAAAAWAZ7rakN/AAAI7XrJ\n",
       "oAAAAwAAAwADZgAAAPNBmvBJqEFsmUwII//+tSqAAAADAAADAAADAJA3g3AFdWrLAPFiJLZ7p+pl\n",
       "4COjjcXMu7ctH6YDMALgO+N0jFqcdaa6HV098NQRO9dDbR61fxHMMI/BX8Zx0oN0WknU+cnNljoj\n",
       "Z0/z3TOKxA/YMpmhEiXjo7XXdHTVR/dlQnO6iX5WOKPsHdOTgexPj6wBVkGrQ2nozYyTcIAOAzuI\n",
       "w0Ubw5AQari0SMcmMVPyVABAwrz9yErMi0v/XcG3u7oeWgjTp9wa7QHjvjarl3EiGf57/NwEMfu2\n",
       "SC0M3Tgfi1fZ0H1nwhqPPBxbCj5cX3VkqQKMAj8AAAAkQZ8ORRUsO/8AAAZUj/pZgwpGAAADAnMi\n",
       "W9V4ntet1Ec7AF3BAAAAFgGfLXRDfwAACOvsWaAAAAMAAAMAA2cAAAAbAZ8vakN/AAAI7XrJoAAA\n",
       "AwAZIq9+3l20aAyoAAAAH0GbNEmoQWyZTAgj//61KoAAAAMAAAMAAAMAAAMAE7AAAAAfQZ9SRRUs\n",
       "O/8AAAZUj/pZgwpGAAADAnMiW9V1RMAk4QAAABYBn3F0Q38AAAjr7FmgAAADAAADAANmAAAAFgGf\n",
       "c2pDfwAACO16yaAAAAMAAAMAA2YAAAAfQZt4SahBbJlMCCP//rUqgAAAAwAAAwAAAwAAAwATsQAA\n",
       "AB9Bn5ZFFSw7/wAABlSP+lmDCkYAAAMCcyJb1XVEwCTgAAAAFgGftXRDfwAACOvsWaAAAAMAAAMA\n",
       "A2cAAAAWAZ+3akN/AAAI7XrJoAAAAwAAAwADZwAAALxBm7xJqEFsmUwII//+tSqAAAADAAADAAAD\n",
       "AJA3g3AFh9zax63qiyJwqQzU4xpoFb6Ox2WCum1NabNOF2lS73K2E4TQ1Qja5M102pKjrT/Tlq9U\n",
       "STW6yV9dKxJFuHLy9bnP1641zX+SsB3TPcIq4Pl6xPVkoYaKqoXKznzEFsrYMnjeKL+Xs43z5XcV\n",
       "SziAiYfMDu7qsv6Ai7l7XWAfGiwySrOuQn2Lt6jpNC5KueIWeNlU3SFJ/00cZHgCtgAAACNBn9pF\n",
       "FSw7/wAABlSP+lmDCkYAAAMCcyJb1XihucVy+iAPCQAAABsBn/l0Q38AAAjr7FmgAAADABkkNKEQ\n",
       "NEWgU0AAAAAWAZ/7akN/AAAI7XrJoAAAAwAAAwADZwAAAB9Bm+BJqEFsmUwII//+tSqAAAADAAAD\n",
       "AAADAAADABOxAAAAH0GeHkUVLDv/AAAGVI/6WYMKRgAAAwJzIlvVdUTAJOAAAAAWAZ49dEN/AAAI\n",
       "6+xZoAAAAwAAAwADZgAAABYBnj9qQ38AAAjtesmgAAADAAADAANnAAABTUGaJEmoQWyZTAgj//61\n",
       "KoAAAAMAAAMAAAMAlDeDcAdK9JMf/95yHX3GXNjdxmc0+Cl6S/mCGySGEQGd5CekKzHT5xuOhdkJ\n",
       "LdohuU3kHbaj3a4e+OJSBVaJdVGu+IRlWmnmrP0g3bdOHxRT62WQRKQeWB16m+gf12COaPy7bxIe\n",
       "RgqQF7WRJADwrJ49YiL5ivYCpTJ+f6w0ViksBp58OE2ku+/mxYQ+V+90t+RmehMWIeooKKVm2ely\n",
       "sksDNLVohSD5mECdhIDkGtHg2h16b6YTVNkhyjQ7ZgnA+L2raGTm13rBUO065RPVSSA2ogptvAco\n",
       "24Uy5ghkiJs2wDMYHANSco090Ev8kAmexmIF10bo0aZCR3LMKefh/4UCbLR1oqMyeGsGAXrV/i3W\n",
       "65F2nvoFNbs2SVWyTObvULNGRptmcidhN+XCTuzdYwC7gAAAACVBnkJFFSw7/wAABlSP+lmDCkYA\n",
       "AAMCcyJb1Xji16ICkfOXrAZ9AAAAFgGeYXRDfwAACOvsWaAAAAMAAAMAA2YAAAAdAZ5jakN/AAAI\n",
       "7XrJoAAAAwAZwq97zXJa26uA3oEAAAAfQZpoSahBbJlMCCP//rUqgAAAAwAAAwAAAwAAAwATsQAA\n",
       "AB9BnoZFFSw7/wAABlSP+lmDCkYAAAMCcyJb1XVEwCThAAAAFgGepXRDfwAACOvsWaAAAAMAAAMA\n",
       "A2cAAAAWAZ6nakN/AAAI7XrJoAAAAwAAAwADZgAAAB9BmqxJqEFsmUwII//+tSqAAAADAAADAAAD\n",
       "AAADABOwAAAAH0GeykUVLDv/AAAGVI/6WYMKRgAAAwJzIlvVdUTAJOEAAAAWAZ7pdEN/AAAI6+xZ\n",
       "oAAAAwAAAwADZgAAABYBnutqQ38AAAjtesmgAAADAAADAANmAAAAs0Ga8EmoQWyZTAgj//61KoAA\n",
       "AAMAAAMAAAMAkDeDcAc0xm0yGs82SElVa4NUQUxU17BjKOPnnSkIiH4JdpbP7O9X1UiPk6gA9yen\n",
       "1Xjg/ZivBbt/Qc0w2epwwj5VDYdh4A6eMxh1XJdqOlay9KnHn4jAFLtzdgE8poGqwI4jV/yPEEll\n",
       "zKrrhlGhkwZav2R6UfITFozGuuJwzs27jFbTkqAvD/9IFJHXqPyc8gKhM/8mZAPXAAAAI0GfDkUV\n",
       "LDv/AAAGVI/6WYMKRgAAAwJzIlvVeKG5xXL6IA8JAAAAGwGfLXRDfwAACOvsWaAAAAMAGSQ0oRA0\n",
       "RaBTQQAAABYBny9qQ38AAAjtesmgAAADAAADAANmAAAAH0GbNEmoQWyZTAgj//61KoAAAAMAAAMA\n",
       "AAMAAAMAE7AAAAAfQZ9SRRUsO/8AAAZUj/pZgwpGAAADAnMiW9V1RMAk4QAAABYBn3F0Q38AAAjr\n",
       "7FmgAAADAAADAANmAAAAFgGfc2pDfwAACO16yaAAAAMAAAMAA2YAAAC7QZt4SahBbJlMCCP//rUq\n",
       "gAAAAwAAAwAAAwCQf5NQAcXBLOPSJEFUoee6MrdjmkZ+FkY3loVla0kT8pN7fZUw7jlKeinVBXhD\n",
       "vel8hkD8BahixASEyZT5SvMa9O/dBgRGwK2I7k9/yogqNpGJc9OXvn4jfyj2zPW5B7B+1JvI8Q5v\n",
       "I3D4/RrNjtGJoeiOEqnF0sDMSAW/ms1Wzg3nuQylRIwwlHnqdR2yhj6aJceOwLFO2IxfId/96jAI\n",
       "+QAAACRBn5ZFFSw7/wAABlSP+lmDCkYAAAMCcyJb1Xie163URzsAXcAAAAAWAZ+1dEN/AAAI6+xZ\n",
       "oAAAAwAAAwADZwAAABsBn7dqQ38AAAjtesmgAAADABkir37eXbRoDKkAAAAfQZu8SahBbJlMCCP/\n",
       "/rUqgAAAAwAAAwAAAwAAAwATsAAAAB9Bn9pFFSw7/wAABlSP+lmDCkYAAAMCcyJb1XVEwCThAAAA\n",
       "FgGf+XRDfwAACOvsWaAAAAMAAAMAA2YAAAAWAZ/7akN/AAAI7XrJoAAAAwAAAwADZwAAAB9Bm+BJ\n",
       "qEFsmUwII//+tSqAAAADAAADAAADAAADABOxAAAAH0GeHkUVLDv/AAAGVI/6WYMKRgAAAwJzIlvV\n",
       "dUTAJOAAAAAWAZ49dEN/AAAI6+xZoAAAAwAAAwADZgAAABYBnj9qQ38AAAjtesmgAAADAAADAANn\n",
       "AAAAqkGaJEmoQWyZTAgj//61KoAAAAMAAAMAAAMAkDeDcAV1ajfAxdvs7teii9tyam2R7KtG96gD\n",
       "up+ekz6K3jhvo+QPb92+mDilLa0H4joX3LduaaNWH3jhtNIyEbcIwTiHxoLtlSr1uSz6smrqtGbZ\n",
       "NyoTWcGyxYO8KKGRnQ/BhLRlKDrxV/yxXIawX4VeF6p9BnxFcnJDYMGIzcRg7lXQ2S/dpE1Rf8mZ\n",
       "APWAAAAAI0GeQkUVLDv/AAAGVI/6WYMKRgAAAwJzIlvVeKG5xXL6IA8JAAAAGwGeYXRDfwAACOvs\n",
       "WaAAAAMAGSQ0oRA0RaBTQAAAABYBnmNqQ38AAAjtesmgAAADAAADAANnAAAAH0GaaEmoQWyZTAgj\n",
       "//61KoAAAAMAAAMAAAMAAAMAE7EAAAAfQZ6GRRUsO/8AAAZUj/pZgwpGAAADAnMiW9V1RMAk4QAA\n",
       "ABYBnqV0Q38AAAjr7FmgAAADAAADAANnAAAAFgGep2pDfwAACO16yaAAAAMAAAMAA2YAAADDQZqs\n",
       "SahBbJlMCCP//rUqgAAAAwAAAwAAAwCQgmINHCACPElZYtn2oIHDF3euHMTPjZBk8AGDZcLMmJmn\n",
       "TxZf7oAuHBDQnAnGvxfiRxgkaOucYopFbDggCZtQxt8Hxm648ef5JMqSWI6cRADlNNzu7AAUDW/i\n",
       "IXhBSqyHQYbMTMdMjA8Bv+5bmA6Ow4FI1sMPQJCtigmZ36QLO3yff4SP80cf1ef4KN4B/1wH7ieB\n",
       "mq8fiiUz6yehNXebqkiERfRcwDVgAAAAJEGeykUVLDv/AAAGVI/6WYMKRgAAAwJzIlvVeJ7XrdRH\n",
       "OwBdwQAAABYBnul0Q38AAAjr7FmgAAADAAADAANmAAAAGwGe62pDfwAACO16yaAAAAMAGSKvft5d\n",
       "tGgMqAAAACxBmvBJqEFsmUwII//+tSqAAAADAAADAAADABx4E4QAN2QT0RxtSHifofgDFwAAACFB\n",
       "nw5FFSw7/wAABlSP+lmDCkYAAAMCcyJb1XV6V1AAScEAAAAYAZ8tdEN/AAAI6+xZoAAAAwAE+HZz\n",
       "QI+BAAAAFgGfL2pDfwAACO16yaAAAAMAAAMAA2YAAAAfQZs0SahBbJlMCCP//rUqgAAAAwAAAwAA\n",
       "AwAAAwATsAAAAB9Bn1JFFSw7/wAABlSP+lmDCkYAAAMCcyJb1XVEwCThAAAAFgGfcXRDfwAACOvs\n",
       "WaAAAAMAAAMAA2YAAAAWAZ9zakN/AAAI7XrJoAAAAwAAAwADZgAAAL5Bm3hJqEFsmUwII//+tSqA\n",
       "AAADAAADAAADAJA3g3AEWgvPvTyoOCUHYalvrnle8mrl9Emn+xjd5eSyL4218p5+nfnAMf8IrZBQ\n",
       "WHuhSUyvvfPwHiW5Z9e2P0CHRD9Bo1CQBoOegrcogzc142JdqBxhrl3BtuGHe7YxBDT0eIS6obCc\n",
       "h8friJhQLni4iwChja7e69ZeFnKocUHlRp9jgoFoDTlyRzt11rFmtYk7YuEfl9hWPtf7xyH2RfUX\n",
       "MA1ZAAAAI0GflkUVLDv/AAAGVI/6WYMKRgAAAwJzIlvVeKG5xXL6IA8IAAAAGwGftXRDfwAACOvs\n",
       "WaAAAAMAGSQ0oRA0RaBTQQAAABYBn7dqQ38AAAjtesmgAAADAAADAANnAAAAH0GbvEmoQWyZTAgj\n",
       "//61KoAAAAMAAAMAAAMAAAMAE7AAAAAfQZ/aRRUsO/8AAAZUj/pZgwpGAAADAnMiW9V1RMAk4QAA\n",
       "ABYBn/l0Q38AAAjr7FmgAAADAAADAANmAAAAFgGf+2pDfwAACO16yaAAAAMAAAMAA2cAAADFQZvg\n",
       "SahBbJlMCCP//rUqgAAAAwAAAwAAAwCQN4NwBFoLzuccmi5F7/iBHMc2bFxZ2vsRvNdcccm0TrOB\n",
       "gMMlnxUJCkZLa54a+9blk7/nfDfHvfJxqep00K2WPFAjUI3WSu/IcCIgnGTmaZqBXxQ3cKGPkxa0\n",
       "TpyJjkQWPXwqk+yfm0U6dx561Xpl9mr9YY9WqHqX2gzFONRr8N73+iQNaths7YGXYEiU0ksnPj1w\n",
       "db9UEy3ODFaP7s1tGIc/K9ZkjJmQD1kAAAAkQZ4eRRUsO/8AAAZUj/pZgwpGAAADAnMiW9V4ntet\n",
       "1Ec7AF3AAAAAFgGePXRDfwAACOvsWaAAAAMAAAMAA2YAAAAbAZ4/akN/AAAI7XrJoAAAAwAZIq9+\n",
       "3l20aAypAAAAH0GaJEmoQWyZTAgj//61KoAAAAMAAAMAAAMAAAMAE7AAAAAhQZ5CRRUsO/8AAAZU\n",
       "j/pZgwpGAAADAnMiW9V4JFguAEfBAAAAFgGeYXRDfwAACOvsWaAAAAMAAAMAA2YAAAAWAZ5jakN/\n",
       "AAAI7XrJoAAAAwAAAwADZwAAAB9BmmhJqEFsmUwII//+tSqAAAADAAADAAADAAADABOxAAAAIUGe\n",
       "hkUVLDv/AAAGVI/6WYMKRgAAAwJzIlvVeCRYLgBHwQAAABYBnqV0Q38AAAjr7FmgAAADAAADAANn\n",
       "AAAAFgGep2pDfwAACO16yaAAAAMAAAMAA2YAAAC1QZqsSahBbJlMCCP//rUqgAAAAwAAAwAAAwCQ\n",
       "N4NwBFpjC5ZzW7n5+T/ez2x1gqPaevRCenkXpi/MGh3fs4wKfWX0K1kvtLVpwUxBmOHIeaiM+PHv\n",
       "SA5Rk7YFdEBXEMIUuMEdf7apCWHH8I7K8p8XBPEPZM+Fl+Ocjy38XcfEZQD66JLzhie/UPibgz3X\n",
       "m3HUiqn7psuCd/EfbDWENEusQcfpe3g80YLjAw0w6L5f4jX/RcwDVgAAACNBnspFFSw7/wAABlSP\n",
       "+lmDCkYAAAMCcyJb1XihucVy+iAPCQAAABsBnul0Q38AAAjr7FmgAAADABkkNKEQNEWgU0AAAAAW\n",
       "AZ7rakN/AAAI7XrJoAAAAwAAAwADZgAAAB9BmvBJqEFsmUwII//+tSqAAAADAAADAAADAAADABOx\n",
       "AAAAH0GfDkUVLDv/AAAGVI/6WYMKRgAAAwJzIlvVdUTAJOEAAAAWAZ8tdEN/AAAI6+xZoAAAAwAA\n",
       "AwADZwAAABYBny9qQ38AAAjtesmgAAADAAADAANmAAAA9EGbNEmoQWyZTAgj//61KoAAAAMAAAMA\n",
       "AAMAkDeDcAc0xi3JFZqF+Kp0nOMdlyRbqA6mc2D7lzsk983p1vi/amS9LSSQrD9dDhQI7DwuUXts\n",
       "Ol76vd0Y80fVdzm4udYYuYj5t9b1lqtkspjPDtOGf+6hKfTl452yWYIbJDG071Bchbzyyx/bo86q\n",
       "oilJT5e68ZQAIkgzW1XS8BYwwGdkdjHRfL7pz/LLA7xvZoWGnX8wJU0UNDKw975Pjr2OqBlL2ks0\n",
       "sv1/0nghjzdGRAxWGZsxmvYAw0YQEuFaL8uwzUy48eX0PCbM02L6nxI3TZg1IhMyAesAAAAkQZ9S\n",
       "RRUsO/8AAAZUj/pZgwpGAAADAnMiW9V4ntet1Ec7AF3BAAAAFgGfcXRDfwAACOvsWaAAAAMAAAMA\n",
       "A2YAAAAbAZ9zakN/AAAI7XrJoAAAAwAZIq9+3l20aAyoAAAAH0GbeEmoQWyZTAgj//61KoAAAAMA\n",
       "AAMAAAMAAAMAE7EAAAAfQZ+WRRUsO/8AAAZUj/pZgwpGAAADAnMiW9V1RMAk4AAAABYBn7V0Q38A\n",
       "AAjr7FmgAAADAAADAANnAAAAFgGft2pDfwAACO16yaAAAAMAAAMAA2cAAAAfQZu8SahBbJlMCCP/\n",
       "/rUqgAAAAwAAAwAAAwAAAwATsAAAAB9Bn9pFFSw7/wAABlSP+lmDCkYAAAMCcyJb1XVEwCThAAAA\n",
       "FgGf+XRDfwAACOvsWaAAAAMAAAMAA2YAAAAWAZ/7akN/AAAI7XrJoAAAAwAAAwADZwAAALVBm+BJ\n",
       "qEFsmUwII//+tSqAAAADAAADAAADAJA3g3AFh9zvHurho/pnZvn976xBcFjf/pDwcpqG3IG7F1AI\n",
       "+e6HuRX68aKYtXAK8/drCHporYU9JqZrREhUHe+9CFb9qUSpne1EAsCI/vsKvQu32CAIEVDXZVXO\n",
       "NI8b4KgHbO8lTSH7h+LRq5vnOWWqxNhGlP/odkWjE16ks1ecvfId2c0lXrMhU+LFUb+c5GsBiuRS\n",
       "b9keAK2BAAAAI0GeHkUVLDv/AAAGVI/6WYMKRgAAAwJzIlvVeKG5xXL6IA8IAAAAGwGePXRDfwAA\n",
       "COvsWaAAAAMAGSQ0oRA0RaBTQAAAABYBnj9qQ38AAAjtesmgAAADAAADAANnAAAAH0GaJEmoQWyZ\n",
       "TAgj//61KoAAAAMAAAMAAAMAAAMAE7AAAAAfQZ5CRRUsO/8AAAZUj/pZgwpGAAADAnMiW9V1RMAk\n",
       "4QAAABYBnmF0Q38AAAjr7FmgAAADAAADAANmAAAAFgGeY2pDfwAACO16yaAAAAMAAAMAA2cAAAIv\n",
       "QZpoSahBbJlMCCP//rUqgAAAAwAAAwAAAwCY8zfsqEWrtUAG/ZUQttmimk/vbDaaaZ9X/MmACtH4\n",
       "sN286c3ozW5jbONeH0erhcT8KPhlLcWx6FWGu9hzxQm7eotM8n9nc/YyXKZKcYxOr9pofrVAu1+h\n",
       "ff7P7HoMQ1vqfHVQMz0HOzxEJqliL8yukPAnIn1YtGsazCajd5Wk+I+g2uFXWhJwKv9W9lsHMgPt\n",
       "Jvs7HNkjsa1Uo5ipYOUuVtkH2PnAVv6F0jx1cTvzrR3R+I07PW2/Vj9ubyqxDMJmxn4dEwmdP84y\n",
       "U6Wr8ONIe3ZhxwkmW5vYBjwmP8kNfkWCP7B51IzGUR3wqms8MfDsHP4PYxHYAQPdVYTEcu/Xxx/0\n",
       "EHBYH+I8K/E+dp9S3ff7oft4DPeVYQWsLL0YbNoFmw7kDA8DXyc2YkPE7+oaKpSwXCkh5BGYezgs\n",
       "sR/FHV7yX3/sn463uHxmD+AT6i+zKYQTv0T6YPK/OUUlutk7GIqCo+ZAP+SJNRzVDMVpGjW1LnC2\n",
       "DS/KiExg8XQEOREQ67XTaauUFqXPpgXrdPn0BFawqyUnu7JnYzncyNrOidPmrCWUPi4o984CXQKz\n",
       "YbvXUCszaGrQn7N8x2H9HooMRvy2lULfxGthnw46i12QOySyvQ8RPso79jwa4564B/5d/yHLyK5I\n",
       "3TPsNnKypSNIPG6NzTglM4Rlb7sx1ZuOomIr2pZtJUGID8m38GUu6jMsjQBvQQAAACVBnoZFFSw7\n",
       "/wAABlSP+lmDCkYAAAMCcyJb1XPVhgTRahxLAAGfAAAAFgGepXRDfwAACOvsWaAAAAMAAAMAA2cA\n",
       "AAAeAZ6nakN/AAAI7XrJoAAAAwAaYq97yCSbxYs3mAI2AAAAKEGarEmoQWyZTAgj//61KoAAAAMA\n",
       "AAMAAAMAlDguXAHRgLrmd+PwAS8AAAAgQZ7KRRUsO/8AAAZUj/pZgwpGAAADAnMiW9V1L/CQDUkA\n",
       "AAAYAZ7pdEN/AAAI6+xZoAAAAwAFZHZzQIOAAAAAGAGe62pDfwAACO16yaAAAAMABWXne4BlQAAA\n",
       "AB9BmvBJqEFsmUwII//+tSqAAAADAAADAAADAAADABOxAAAAIEGfDkUVLDv/AAAGVI/6WYMKRgAA\n",
       "AwJzIlvVdS/wkA1JAAAAGAGfLXRDfwAACOvsWaAAAAMABWR2c0CDgQAAABgBny9qQ38AAAjtesmg\n",
       "AAADAAVl53uAZUAAAAC0QZs0SahBbJlMCCP//rUqgAAAAwAAAwAAAwCQN4NwBzTGbTIUfvSiSkTj\n",
       "tj28ToiPYNLRK2V2q23ZyQpDp7P7O9X1UiPZbmBMx9+a18XU6t+fASRrLCqa2ZIvNUSPNHqdKOuU\n",
       "/dlL9r/BD4ogs+Yd2+aNEjBQyL5zertlOA3Nt9ESQ+1WKDJ0K7UZbz1P/zyEUfFAsgaylAKrzY8L\n",
       "AFw4md2P2kYrV+9EfdXlb5lmcD3qMAj4AAAAJEGfUkUVLDv/AAAGVI/6WYMKRgAAAwJzIlvVeKG5\n",
       "wjDVIPgGzQAAAB0Bn3F0Q38AAAjr7FmgAAADABkkNKIiPks7HsBiwAAAABgBn3NqQ38AAAjtesmg\n",
       "AAADAAVl53uAZUAAAAAqQZt4SahBbJlMCCP//rUqgAAAAwAAAwAAAwCMOC5cARijTSdUQwwCAB/h\n",
       "AAAAIkGflkUVLDv/AAAGVI/6WYMKRgAAAwJzIlvVeGI5+P4AXcAAAAAaAZ+1dEN/AAAI6+xZoAAA\n",
       "AwAYe2OOAv+gQ8EAAAAYAZ+3akN/AAAI7XrJoAAAAwAFZed7gGVBAAAAtkGbvEmoQWyZTAgj//61\n",
       "KoAAAAMAAAMAAAMAkDeDcAc0xiHs3N68W9a12ZdaJ4CNtABIOcSou/W/3x9qVkuJvXEJU6RRk22C\n",
       "b8wY2qSEyL40N9zoKm3KMG2wHEj+egcsgt5La43HjnsoTco0teKKjZLN7A3+fYRgB2ko02XeTjbX\n",
       "x4rIDG2p5UEmOzGD7pHRI+2mjpUs++CMB4n7t2lS/p5I3annKXYt0RZQJigxA4Pxn5AowCPgAAAA\n",
       "JUGf2kUVLDv/AAAGVI/6WYMKRgAAAwJzIlvVeJ7XrSSqlOkAeEEAAAAYAZ/5dEN/AAAI6+xZoAAA\n",
       "AwAFZHZzQIOAAAAAHQGf+2pDfwAACO16yaAAAAMAGSKvf1WfwuhAYB0xAAAAH0Gb4EmoQWyZTAgj\n",
       "//61KoAAAAMAAAMAAAMAAAMAE7EAAAAgQZ4eRRUsO/8AAAZUj/pZgwpGAAADAnMiW9V1L/CQDUgA\n",
       "AAAYAZ49dEN/AAAI6+xZoAAAAwAFZHZzQIOAAAAAGAGeP2pDfwAACO16yaAAAAMABWXne4BlQQAA\n",
       "AB9BmiRJqEFsmUwII//+tSqAAAADAAADAAADAAADABOwAAAAIEGeQkUVLDv/AAAGVI/6WYMKRgAA\n",
       "AwJzIlvVdS/wkA1JAAAAGAGeYXRDfwAACOvsWaAAAAMABWR2c0CDgAAAABgBnmNqQ38AAAjtesmg\n",
       "AAADAAVl53uAZUEAAACrQZpoSahBbJlMCCP//rUqgAAAAwAAAwAAAwCQN4NwBXVqN8DefPF9nvRR\n",
       "hfhHoeHR1QTx/x8DuxdhaclXPBShR4NVc/rNe/WjGRH1n5MpXXa11CYvoqhpfz1J9yoOLJvOb8SM\n",
       "t46O4mHJlGy+p9qTFUXfgeN3LIYudJSXZ3t+UH536hiqzVK8h+VoPOKY5UMl0FpOtM127UIatJ/o\n",
       "MMTAUvHwcx888P9FzANXAAAAJEGehkUVLDv/AAAGVI/6WYMKRgAAAwJzIlvVeKG5wjDVIPgGzQAA\n",
       "AB0BnqV0Q38AAAjr7FmgAAADABkkNKIiPks7HsBiwQAAABgBnqdqQ38AAAjtesmgAAADAAVl53uA\n",
       "ZUAAAAAfQZqsSahBbJlMCCP//rUqgAAAAwAAAwAAAwAAAwATsAAAACBBnspFFSw7/wAABlSP+lmD\n",
       "CkYAAAMCcyJb1XUv8JANSQAAABgBnul0Q38AAAjr7FmgAAADAAVkdnNAg4AAAAAYAZ7rakN/AAAI\n",
       "7XrJoAAAAwAFZed7gGVAAAAAxUGa8EmoQWyZTAgj//61KoAAAAMAAAMAAAMAkIJiEC4gAhOOhxze\n",
       "pp6nDFjYTeGf5o647vzo1siCOdXiTEzTp5GxeeIsrd40e9rEJJAgLGRhwFkXgx98zBq+sehDPFxO\n",
       "P3U651WoWrU5U7GhMMn1tKQ4bZa7t3QXd0AFF7zDBMRchRllsYIYEQab5VQDM9ErSwJu9lgZobEk\n",
       "JRVyXIHHn4SDERYf5w6oT9ANrrhCInkJVmlidOAMG7fherXvK/81YjOTMgHrAAAAJUGfDkUVLDv/\n",
       "AAAGVI/6WYMKRgAAAwJzIlvVeJ7XrSSqlOkAeEEAAAAYAZ8tdEN/AAAI6+xZoAAAAwAFZHZzQIOB\n",
       "AAAAHQGfL2pDfwAACO16yaAAAAMAGSKvf1WfwuhAYB0wAAAAH0GbNEmoQWyZTAgj//61KoAAAAMA\n",
       "AAMAAAMAAAMAE7AAAAAgQZ9SRRUsO/8AAAZUj/pZgwpGAAADAnMiW9V1L/CQDUkAAAAYAZ9xdEN/\n",
       "AAAI6+xZoAAAAwAFZHZzQIOAAAAAGAGfc2pDfwAACO16yaAAAAMABWXne4BlQAAAAB9Bm3hJqEFs\n",
       "mUwII//+tSqAAAADAAADAAADAAADABOxAAAAIEGflkUVLDv/AAAGVI/6WYMKRgAAAwJzIlvVdS/w\n",
       "kA1IAAAAGAGftXRDfwAACOvsWaAAAAMABWR2c0CDgQAAABgBn7dqQ38AAAjtesmgAAADAAVl53uA\n",
       "ZUEAAAAeQZu5SahBbJlMCG///qeEAAADAAADAAADAAADAAEvAAAnlWWIggAFP/73x0/Apuj5Zsud\n",
       "RT0hMIrY+kgovVjs0DJ1AAADAAADAAADAAADAVwNHk1PSmckNCQAEPX/kIAfMBRxLnwuG97ULgy9\n",
       "LEACZXbqcC8pvkE1YXdc6XSVbzG3+yN0SY4a4wxHBDA/A47iaJFAogUVB8BZvmazmvGeOEJbbgPJ\n",
       "J7w3+MM2JCtbElQjAlWZXDGIrFDj6UUH7tHODr5Al62UEfxJO+1t8pdtrUU8Ni4zLKEZ4sJSXt2A\n",
       "nUMBpeWhEkPO5H9l7cOQI1VWo7T+Mfd7o1kSENi0ZB+fZ5ZD8srnJk5DLv+HGtseXejsCmP1f6gL\n",
       "BadzRg3uPkdQaA1l8LfpX1R9biT3pL01YGZC2JdcTShC1bHS7LMGPWVEDruzhMqGq62cU0O1e4pQ\n",
       "L1pbGhFIxfQf0TY2fu127C5xr6HmSwmHPwvLDV85oxaiC+1qtVv4FnWFkuDQ/C2d0zjv+QYXy4k4\n",
       "afqGkM54/gx4qEwM3j5E5JQlp/nPGGK2htXU1mo0KC+5rnDPGjwgvHjl+sq0jI9nqL0FL3PNrApG\n",
       "RJFFqDm+PHNAsKLxBhnVbxetPjZ9qH2qxAp0ZYaQES+JndXkFPk0xzTepHm2LuWs2dE395uQJtKP\n",
       "vlMupRyGIWyPBBU97I44S3q7gRmmYWG+T2cGuY8AGrg0vqEPw+uSNi5O2dk66OeTKbnRAD64T7aT\n",
       "/ZK35nTnFQRX77mFWCKMevXZWa11y01/dk3HKNZki6uI7MEAQRZ/pIuqI0RB5QbjnPdIM6C38Fvc\n",
       "v7fUx2GAe7ZtLelEBvii84aRprkKqlcC4XUluFJkEFcyln88uAq/WN8GpxN5l1DbIYvoFD/HdddE\n",
       "fGGzgYDj4rpCBDF1klwIFSt8/G2ad3/neuOZu1GXY3vMXeBFxwlAOsyAAFu9D7C3mpGQHaeGAi/6\n",
       "SnGsO5AKoSolN3ZlaxV5XwymzntYCRYY01bYiwODEpul/i5hfwbP1fKN7pcP350WafU0rg4pyYzn\n",
       "rzozupnwipqpeC7VoY2NW9XjoiKlS3Ko/0OLwobD2NMGDwgzt3R/pAndFITn7QJKl+N+aFd0GXYb\n",
       "DVS6MG0OmSErZkcJ+jgatwzergk6d0bgh8HhuyfJk7Mi8UF2NCwO/fYtawaeS3Hmwmpy7fO9NDks\n",
       "LFXIEvaNdvsf2YtwVkQ98KnKYINJ1r8Al+ed76xLTVT9Nl4wT0N0QV5TBjnua0/v68IHsMIt5h/c\n",
       "7BpL80xNaVq/BvYle3PxSd8dtpDFGuAwmoeYEvPS93Ev/MEMobqFGbS0ujhDn9AszNk+tvou0B2z\n",
       "kDN7G0lKKLO44GXEgfGKWbtTgxBxVxaGpqLUywhkQHYv1VBLHm5fCaJKrnG7SgG8fZzZBOLV7PLh\n",
       "BzrvEjuPnle7m+7V+kV3aV2D/A57T46a+idfzPOLPZIuFJP9M0kKzHnn6+YEl2d5ad7/T/1vZ8Ct\n",
       "8dgFYea2+E0QjWumd0E4UgBOZVe4NvtO8Vp1UqLzNwZ/nd19czrmbu8gJ79Lt5dINBWvtbMxUhoT\n",
       "jEIhqSKWZirWtzjlecpVJ0VNst/v6oNNO86V//n/PIwaK+RdFR4tBw+cWk1/rs0Pg+pkw+Q3i58e\n",
       "RmSQ6pmFNf44Fz62g0552gh6vU+Jfv86bSq5y+bzjJTDVsyIClKIIPoSr80LPlq7LSmjm6dOf4Zy\n",
       "tb+JNCdeWhpjNxQtLm8Mo9/KAJ+V9zG3efnqUN7m5eJY8lS1wUjNz/GqzLnaWcv5WOPtX1MQFMhO\n",
       "PnKd3FMplIUnSEBIK3rn+OJFQv4GH8mvHfg/AEqYATNPykcGRwcLbASIEjAgSAAtJkFgtQluLVSf\n",
       "h97vX6J9iJ2RbwdcTH/uk8BysV4vRSVUjvZmFJJyiC3BgMI63G7JfcOdrY/U72hvliqU2j/ZVYDg\n",
       "yVlbIpGb3Xl3B0kavnzupV8Rs2qIfq3VytES0codRc72NrC4Z6DHgn7H5L0v1sZwXN4A8989RvG8\n",
       "1Qmwu9spZ8ZUqb3Z22MRhMrm1oGkU4i9/u8fRfsvCmWjsjppuz8p5t1ZVTAqwvkJ5U0kplze2buh\n",
       "AWnlFMNPtzkcwivHrWpwrebr6z5K+83ec/KGMFLxwcrq2DrcbHHAWuiMMVtS7CywWS9Vq4sFRQ9m\n",
       "mVIQfLdLmTSaBYoakDflDzPClUQs5CzEM3y5/k37T/VYVBO4X0Wcj1Pe32WFbDoChIxQRASfzzxo\n",
       "EWOkKQttL0WYEPM/TtdlmkoE9UJRsXZj7TLoZPRIKjNgOd3Wr8DjAZEc9PVDa2+42I4TWt795LpW\n",
       "+4+C57PiHrIscRdBNga6GhZ/fxPOM92dMSnbI/VsGaS2VzZH9kDwVstL2V46LttF1mfmvdmCUgjb\n",
       "MrufR2BCDgbbsIdY4617X8TfevWIWVBPb8bqtZqJUVahSdY4CCOQ8GZGyMawboTNmwGrqd9cRJsk\n",
       "gPLuXXDfU/S1UtJr+AvLLoRe75YdO4VHMr3AVgjNEB9+zrrCh2tSdor4nOIAlvdudNfIBBOyy7DK\n",
       "OvnqHcAY65uSgRbCi+XdjP0RSJ+vxp0bjxrKZrPkDi7aT/uewDTsfP9zR7h9eB28WLJF4id3y/C3\n",
       "bveJEEelGF3iMZiS7rvoKWU+l1t7iewFdl5hBuRj8Kmy2CVona12e2aHhUSQd0onYJGAGpSMsOzs\n",
       "4jTePLjyX+H6lxKZrW7LIDwucqJ3rLcRvPAv3QGW1Vhgfx76WYVV0AOcbZ0yhoHg+2r17Vvxy35b\n",
       "D/BIN3215+VB/v2hCJ7gwJqWZ0T/YKiqRuv4Tgs5XjMBu7GOTLRZ9JaLgBJSy5lp3xU71GjyR4tZ\n",
       "YGdQWP+zvCWcoVJstwH9d0cshBL55+z65AWRkNP1ni2ZoTQWIRUzrwLrsmt1nhsc7MMC/6I2tOxI\n",
       "8PlLTXUTGQyyKdZGKClCPHODDv5P8gq8rzEGTM53mj07QbTB/hYsXuQe4VdnH7wal2ZtTAM9hm9O\n",
       "Ka4COupv46pv04SCQ+qab0cDEOAAJo5VxonKnojquZkjBc1DEwVFqsqz/Atcc9EDjcLi3nPd6KEF\n",
       "CFyoO2qN6SHzpflEIPnjNWIYXnciXwoKWUPsNkLjAbcGbAQG0LSyaszRs2KYm4I+nkxiopnDRPwJ\n",
       "GhVNLAaBrdBjyq89ApUgwzwE422bVKG0TrmZCYWUB+hLO/Sdh1UFgfPYf09F//5xbYDVTbxOggvM\n",
       "ynTb6l9ac6G/b1IRsCthAcsC2++/aTeveGNevSyYuTH/cPYUHbbRfNKp3PY1mwWrj3wr1xjIKku5\n",
       "bwCmnwP3IhP6BxZWWqXgFnT0APdXqWuUnu3jxuTXERPFjn9QbN2Aa9QTz7e9pyA3MmqFvZ7l9Dmo\n",
       "tY0TLZlJF+KrHE5HC/RSHVrxLus4xEkpepRtxmHaN7rOVHU0MbkrleALSykNbYnQTkS+DXGXH7Bz\n",
       "D5QVDamNp5Vxmqlicz3bYg/9OyDlRjeRrxwSgKE1QGOHAvSIhcJWe8ze5ZzCIRr7XF356LSBszBh\n",
       "j8+1CJH3PQfOmzIiaF+0008sFJ7a/tQjPWIV9YVRPo3pBwDX9CUv7wUWW0ZADUortMq7ru7GAej/\n",
       "pVZwrUKi83Lr3Jn6WDPy0yAAAVvC4ZUP45kwryPjzHo1IGmS/qy7rreZxfvTQjrepYg2cDaubF3m\n",
       "MHC85b3d2FSwr0iyZDsJ2o96C+Ayk5UBdjyy+pGS4Gn7wctsntIM/MAZ6pYmb/Q/7HTYDgqTlpXB\n",
       "KgIztSPPSfEX4KImPP0/moSSM/vZVLRKnyxhpYf19BVokhEGUH/XPfuRhQnEhKA+yTnQkKgSJ4Qj\n",
       "+WT/He5ubZ6O/orF4dv4yfwUsn2EctSt5xkcWGRNXOj0PDNVjU+2TKDXNWadeGd0Etx4Zibc6RuE\n",
       "E1srv6lw0eJijjY9ESbrfRcqRGqwt/Azub0WewjV49kOGIYMb4QlI4vRnxU7WgWs1tuXf+fzrE5w\n",
       "ihudTIvqjU9yT+EA8Z5lQNkvtC44cl1bqa2JpXMkMw5HCMsfogDmA7QlxHI8Jo/Oi1clQVFB37Ev\n",
       "WCruWnMUon3L7K+FkR/0sRGuWdFbrCGYQwpoLq9uUjFRNnVRp+vXsCut3PPB5VWl3+zVV0cgoHY3\n",
       "aZshPmYcXbAfEAOI672xzDZOJN0ek1hsOFWpW9Zo0X4yGbIGfMABVLN4rxlHit0ZmcXxnoVoR1jW\n",
       "6Z91kVQ2m9ejTQBpDxG0YaYriVSOWzOGBFDTaEbd/TOV0AWohNVKYoEvzSAAdD0quji4Q4noIeET\n",
       "2ffHpFhg36UU/FXf9FXvVcTrg6M8HFmSSwr53f3A32qET7+PU/6jXRFWuroBWvkDb0ugSej96UKw\n",
       "NdIUQHGJK0caQwGCKoZAD+FJFxrEF/MSndIIovBAhYoANmHQngrOAMd9Ef4L3cjyy9dPCeNAKAUs\n",
       "JMNVcGOimBiYlzmyQv945lthShkdjzLBL3TJ3/WnCn5JNwp/An4oRshXn08ROMc1GwBot8EQbWuU\n",
       "Jr7pa16Ggh83vnY9xMjlM8mQOE++uTrG/kvqFz27Ce78mt0KUhLYgoHkAkPFU/ncy5vCZ/nrJzPn\n",
       "UMEQ7ZK9GYgpfPRmOAvmX4ahhyfTWp6BHFyAToalDXLabuvN7ivSlnsiahKYXxX5NtqGkUwe8DQN\n",
       "QnbpP1KFIPsuSqUrQZUGFkZwGG5aidah+rSuVUuVoAv4jCMHDdWCiE7AQw91jNAduvlVIQsw89Eh\n",
       "aASpF+AzbUooXBq+VLhPAN2VREeJe2lzmlZ0VbZbo9dfzXvveVgRiKNsWi8DVPtdDpIho325hv09\n",
       "tS0qyphFEQOkO5d8jlz4TQaQuihNhy+J9Fo7ooHokkX56qODV4mCG/E7NH6c3JOGNmH8ZrboQkYT\n",
       "6GmLjvLFi9h75LwdntVFGHRiTUlj74Dg2+NFOGAUbwUxarDRp6a8Yd+w2Q3GuGt49WoXmJ6f8ebr\n",
       "pwOfjr2Tsl+kXoQ+pVY8wbukQQQlaZ3QO4+hktFY762GGoA1V0BPNvD7eM/odBg4bDu3a5y/dFmH\n",
       "7m6X3O5cyi0mF9Feh1d+VFQYA0raNum6f07dwYKHcDS+18olD4ZN/CZHhleZ7p9RlPpf2P2L5pwg\n",
       "d4XmEd0kEd31VQW/yrwNjwaEcnxtU8fc87rszQWF92lDZBKYEHjINIL+p4F1HZLkIwb97ipLmZYW\n",
       "30fF76ag+WI9jgs5XKH2XBj/hDlHg6CeqgEJqh2h2ubfwtlSd8l1wCtEuwGiqNauc6H82T70aQlN\n",
       "NgUN/L7rwxEP4y/itO7brNMAq5VgcQHgASFYZBxq7PfIRJrtxake/GeIJYYn8NupRnp0RXhh2QSz\n",
       "qMtP2Pgs5xLkHJRI/lvC8hxn1guhbjb+KjXufwEz752WWjuNUoWPa04n8WLFcNT3zAjfPf3qgmb6\n",
       "Mo1PICvM4Vli+WISXKPdAASe9yBHTQGnHZDTCCuAh4VwHwErIAfPk2UFY7BPmUK3aBuVvdRdMQWx\n",
       "ZpknsqrFotwnreKu3qvv+COdYaTqmJ+cbfQRax/tveWjcvOE1p0ohivTY8Gr7gK21umxtS0KglkJ\n",
       "xYUknrdCTQzBePqU6g8rpH9mdKsabmI7enZMYnBsLW9tUyDB6WU/Q1R0Irj0uwq5nbyTT7Bf6iP0\n",
       "D0j8RD+/Zkq5Cb5LKzjBHleAbzo2LKqwAFp5h704uBQCayoEJpONDOLikwnG8q3z7F0M6IHFwUS0\n",
       "9Kp/HY1w2PBpnRk2azvw9iWCjSVzt42otTG5tQdmFCMpfMjjy22rbXNXlole+YqVUvvmdx1M+5Yw\n",
       "kV8ABXHlXbatPDLbFXmehnYnMMeaF++6VflfCwiKmJwgKYhGxO81NVwArwkftRHdVE1RkPxwHc+a\n",
       "ml8nIe+x+DYk7oGE7WNSFS73Tm9tiya8cQXMXwHDWlWYog28Nofw5OTove0e+zPLg1O22u5/0Te7\n",
       "pd6zK8Vm005sheljLW5PEJTjEOjSwZwAU/Anjx/fNTZHqnwjueSWpWaj6Z9BUNvkpsHQ+i3lsh5x\n",
       "FjNoKgBdwhka8cOuV6t08HSABsQGrR+lFHFzdnpjVpc6n6jordJLhHD0zoYDd6P4oEB7eYsLdg02\n",
       "vWrUfmcjV17VH2h+JAi0xPRDVOKHPTBaRo94Ywb0k2Pl/whKIw5MGUOOElqatWR3l/pI6snACYly\n",
       "QF/bSnKJg23dbc7tM3oOnJT6uQ0XxS8gatR6XKf2393iCCFbdrmSQ71Pjaz8+4h670b3EXG6b6CT\n",
       "0Or+bZkxDdtl1vQ8SiJWY+gN//Se6fW3JxNp4ABnyRtcXN/mxntLhXs3/hrw0QVGbJKpQMTzgT+d\n",
       "PeYoBLDbaZ/hXA5BwiC3vLoyVnsrFZagFtD7XqBXcOTecs1a1AIWFUdC4De+4gut6lCzJ+evSU6I\n",
       "IkvZUktsS2TQZiHBXpozIJNtp3imml262a0kX7aKbwTLP53P1dCvgAMcQq8QwkDGQydFEtPvsyKv\n",
       "DUeXUjtm0IAKTQYXWNAVNoXCPE43Y4KT9muMEYsfi8yQuSpqF6kBhB0HPBUfrYR2BTpWvrmMufXX\n",
       "eEE6e58ej1yUNqRfXG8avoDuEqc5NoFYJc5/uLOlaXq0QH4kLuaMDhg7kOYmAHUgijzhg1AshtFa\n",
       "wB9JSGc5SXXv/J5oW2JtibBhxGZxaa16tscENyllj8xkRl7NhQ24fg04Sb0Y5b5vdnreX9V8r48E\n",
       "uT5M6UzeLKXPKgnyHxRG6H9ri0qHCFDx4czVeAfB+1F70N7ehdspD1oTEz29AVSEioHoKkuctlxn\n",
       "+MNaD46FQZxBxlqMsUgkArrzd7y5k7liNANj+JcZ1h+mcaFG5WMR7R7MlQK/oc2s3jLylqHYqnfa\n",
       "F00FM1/eumcLBAD4CbXG5abrmVnvLgFgAA8bOTEkLFjT9IqFmAYTwyEym3kdijOTq14usmZ1QF3b\n",
       "BM16CLHutqE6IoRjquNaHyU3xW3XP1nVonkjZYaAE8HYFt922noR3tk7zKDogcB09aTXc4w+m5wb\n",
       "yoVM1nNL11C0Ykg/Y7e5z4oi+6x3eYRSVAHtH37tcFOZ40HGR5DMQHth43kwkZLIYWHmaekQ2faU\n",
       "DU2blAGPOxxwJfIwzsPgx75wKXV3dv//9Wd7ZZ6/r+YknBSHnqCjBdW7zcJBzLl0ulrj0K2vDsq4\n",
       "P49IdC19cmalwiwBKqph7eQRrYZ4+pWyCHZ9X3AH8hvybbOgRkJkJyw6suSRFv2PEgAiEu68U1Ph\n",
       "KjPMI9uRpzqxPEFG00XB/31GwQ+b/TfYHqgnuQHtx+Dm9uaIl+EIrbUdg4VZ91ROZit8JiBcrwEh\n",
       "EuQwWbDbwBvnl6lGeVCCods0ULV8Us/XDWEhmpaLbhIwRC9qLGUUAmKnD7pbr7mp9DAPYPwwCwf4\n",
       "slsMaV8LZYsAEd2It5ui1ta3OQJEOhWIkSLArxNs8hJDQfsy/TnW6TtNtNbgzWQzh2QPmyzOJDm6\n",
       "ebH3rLsBUxlAvoQFI511mNtr728kcAA3hESAjbLCrEdreip5vF8AvcruFKDAA1KDABO2mBusWJVT\n",
       "75yg7b5sAkmm+sOYfrDHGY9Nb1S7c5vdMzk3XRjNS5ST2zHOPRVqzuDVh5sl9dB9Uud+OUCuwi+e\n",
       "01vGtArdJP0a/uDUv0J4M3hmRTdROClEaT6ml6uJ+KfgXW6tEbKYNF2lVgcFoAwaCqqAmBO2nRx7\n",
       "wjF7qmFk9fz11zvy9UgNf3qWbEd+uwQDRlsMN4xM30M83TrQhiT04axSCRYjPvyfgABz5BZqwjG4\n",
       "ElKx3OYdsJXu+gjav1x4kRK08jtU9RrMYFXQw3ey8PUY/4TLBYDbWqSVROkVeUGWdy4Su2unEd/P\n",
       "3Al1yGbDpYafX3XbNQjJuegF5fi0leDE7scxjK6dO7WgZY2doDyqWsjqutPmul1vFV4uNgkE7Upt\n",
       "JcPrbq3VeiCyfO9BP4eRo/Pg3ugbUj0TGZy24sbdwB5s6pTzj6A2La4ALLja/rRuDJFgO0fMud8w\n",
       "E7nExTjQJIk91d9U3bcGfCrXomLNIFgWZD/2jgoebhRIXfhhWZsjkSRMm/ZKy2tuYHSUKPOTTGla\n",
       "GAF2UvT24D67Pj5hzZjNeSZ4sErcQoMpwFbYctSVGDc+zPvLSgY8HoQtdWLCGXJ6tsh0cXldJ49e\n",
       "cXKjll+ARaRo94YsVgDbZrs04U80nWJwYB3r3dB2biisgJ0qns4BRPN/TSFnLXVpDrby2tjyFrM1\n",
       "UdssKZUQ8RkdNI7iLoMCD4S4RWk9QjHTvY/qxPmFkegiD85ge3dKVkGBR0EoRU4yGrVflJ2HRC+i\n",
       "0J7oc8RrVAjaJK0inORhfbp1yqh3W9Dlpul6NoH8zFp5YFOw+9057RnJoC5hDkktc19TSjJcFTdm\n",
       "oTLwPcmzWjmLIJ3NhaJHzhNW4We74LqsXKx8ynal7QDdPGEXKjtnM3hfYJocPy5cxPk4y1BmHrNw\n",
       "xOd2rztL2RnpJZZrbnfoCrML8mC3xt1j7eV9rfZXOxpr7gAAp53qIQlzx76z29lnYItoopCn7cY1\n",
       "GUprGVkeWNFmVimf0nNlxp0S+cbHyMRkVccwY4P6OAS7ycMe7t4+OEoRGCTAhuzqsb96Oq5s1Yjz\n",
       "iWKhtgRdGA9vbdWI2ANhhKcABTejrR5Dw4DqfXlJYxqrTJ/dLOPRyUfKZza1R5WQmtpu2UTwtSMR\n",
       "eEPpcXXX87XzKGnhuAkODSwIQLjjOhgREzjP1QggriF4tEKHkVt9q7nXsHZMSNUItdmuc6GUSRHu\n",
       "x5pgJgWlIbUWRFFWmeokHUr2nzEGG56q8hhJ7Dkiem6d5QLLSv81Zzv9b+FLxnA2Ri3vd66ZH0Rp\n",
       "lNpcGKxtaTu+YuyFapIWQ28t45MC5wHht3RYWh7gDT9lTSOo6nLHkzJCZadgCr80N6/veW1vcG/3\n",
       "LuVuay4sGT4Pd7HJ++orXppkWGxmAAJKnxagQb9L7sunBWXndxgQ0KJXD9jdYjO/n/wzPFG3YaOe\n",
       "nHwxpounpvGK4TdIGmPqKQRR5gAd1w3kLTi+9UeBdcqL6hIPdK0IaxvJNMK2mde3VlTRMZgIlFp3\n",
       "zY5S0xXppxyicbZg0FG18ml3ucdo74fv0jEa0OntQz2nF8SGEGfskcBIB+BykveAIhOXGUOPCV8Z\n",
       "DldqIkkeMiyoPruehLW9/CP7QI+fv6YqHTYGmlRPH33rbvQG7KMdc9PIZS7L0DhtIyWY3OrKBQWr\n",
       "OyTTkUft836dDca9bjwUklNPu9UV1owZHo/V99N/Bl00PqbNQuOJpCrSbXXjS9WSUq6CnyzyVkf7\n",
       "V6fpGQ8VBlJKVliSs4BZ3lP5KysTC2MAsTthvb9XWv/mLat3StcKCknt6CcpHp7ZeXKEJjZiVrNM\n",
       "/Na3WaW0Z2Pm3j21fyZZZShKytXnjlzcMtDlLpfB/+vu6WtVj0+AdbgtWq10Hou9h4PRwCOBF99H\n",
       "6ewN0W7MqSSAVYL6lOfETdxEtfC0mkUnEhznXsgx4/Xk5xR0jWc4htRBDSluRvpYMLzpjPOYn3y6\n",
       "1hbqP2Fn0hbve8fvPkPRk7akyYq/JLshemRSasjnt5WB/1pe/5E26UHmxwcZ41YcjRL1wIjxPXRZ\n",
       "8SQI10Ig6xeVAABiFjGF45GoB6Dq4jVtU4p0MH6nAeSRf4vyYce4yNon7om7lQEFep8OyB82WZxI\n",
       "c2+hDaCZlIihAqIai9huWvkHYZ7KagY4CePsu1W03LJ8w7zliAHMAYoIG69KCICfFh0QAFiFZ/Xj\n",
       "iYkUL5uh/pCeNO+N4LTTtk8u4FKqr2evcrTUoxcVyC4UCAvypUaPEb3mQWJhH0OXTzOOVrD/KgyU\n",
       "0Ya1IlTa1ZIYQpdaTsg5I50OgxRzjp78+ZwSqxVnBDNO2QQyEb/ykUoggjbTKKLsh8pF83ZbYtZo\n",
       "xr1YqjCZg+wwfued3OS+wh//M8MvB2yN5aiyRqNlBXNXBE3qyrfBHZRE1etrdc+xEAkAhQTyUOZc\n",
       "HOoIN2nDdogcMwRmyXqOdeaUtkietntbvewukdCNOv65jmS7YJgvzhF4ScI7XmpDN8fdB2oLG33/\n",
       "T7AgTnXPorQd8C1tX8Cf60FZXa19lVYFE1bXwTuo2f7PCHRXyvm4bZINCMj3WTFTJLDkBzw+OFSB\n",
       "7TISk8XrWBVGgWF2VoLaON0Eiuv2NUAAhgGxqpqVSDvOGNU7W1zAIqGKx1mF/EXwniSZJRfLvdNe\n",
       "naaP4rlU9okFEgiF/iV8fU5pdCH0YaJstjaAEV7vMx7Q73gZoztFJyUFhwxTQEbKD/zu7NvhyCsS\n",
       "SsT5hCT5V8FtmwZcD7hDEKaFXBMeVrAkaMPPfFRmpPJDvM6aNabycriuGdPRLG+ffMXUbLHGAi3v\n",
       "luXd7PKayRoTPkwM4T+3kVKrIoEqUQzRBkUWBILXV/+fDxqJ/uYjxYKcq2Y2trxy6rkpFBnKq3Vp\n",
       "r69krr1PKKr7Ft+BKO47RZfH4GXGzBaZ3tGSbnJtk3CM5Pls0a1lvQlurckEDn9X1G19lyL9em1p\n",
       "qb68/pG0yrKAPoWZ+1yeQDAkUgLOxQY3UuJQWsFrTHttNIOGcdydFMakXMvgF1W/n+EEcAqyK1sE\n",
       "GWVCFG5wqBikOVGup4bqf9CsOoTYizHZSVlP1QSdbJ9PrVk9pKUmP4BQhSGBVQ5ERTR/ZyaFc126\n",
       "zbjpKITN0yhLJOczs9ME+Hp9dYjOfgUtD9AZHiwMpI8XTySFm9LGiIaNo/lS0LM2GISu3tDYJRvt\n",
       "Yx/ty2iVGYNlqbyRrQGUQSnyENMUGHw+mE+g5IgHmXtEJXAPkwkanZoTVSq3deQnNwiAnt/or5f4\n",
       "xRe4Zgvzn+K4Og5RqXFT3QvRqhUL/7ofHTVj4Zz7FMRJx0ZvfOo6JbjL7AXA1u2WSoW7qLB8hDm4\n",
       "YQaLS+7GILhJagpc6w90yUJQYYLQREO+jVbdV5DbBtjqUkEZOD5AErnEYnyN1aF6eJNcB8+wPVSq\n",
       "f+oNzj26zYkEwiL+Q4DiYlaoZQpEsm8aLMzN3da54PGLNkXhg6q3aix4AXU4uukvUu/LbJv40x0I\n",
       "OtozecqgH1ZBCe5/fRT7pCMV1VAQTBrnP/r1M15uLLmmy/NC3eJCDkWPfDY0aCd+Q/uT9nTLb9zS\n",
       "dVUd/GXzF4rnSbGwL7OOu3ZPaZkQIehvCvt3mIzeSmKYlUaTAXenRc/F+Yoh6F2DWH8pds4F9GqI\n",
       "T+hfSK5p1tpgV1ohhe/NwrtugrVx7ytTevZqdQVg3r3bN//g1rPgp49RiCUvLmNoehYt4nfpRj8p\n",
       "rFSCdYuSHUXz/N4Pg82w4P7VS2hLM/yL16/iZ9Yb30j1e837Tss2WnFVKC/k3GT9C1C93FWgJD0Q\n",
       "NEhrvkX8hSFbifOfwMnl0BrzGr9T75+Mfsg9fpcBK++bAWyShjxSf+0BH0MdYBVg6u1ZGiaL0/64\n",
       "5cWHHxaLudghmyK5bUcWSlYABvB8NPcnrTG0Rf3uBvz7S++1Sq3QXdt/OoLRLB9bb2dBqMtczKUL\n",
       "AebkQqo7TxV/qES1vJcSewTvbehV8OgqjxgSCWqdUf4Wxsbm1e6jlVPf4fXfss9++0lU6lfvroq/\n",
       "vGJJYL7yFJdEGCGX/KPMzmmFrzP5ZVvMmd0sgv8QHYSEoW/97VTpQUOm+nLr8xA4TxVIo7OeGc/w\n",
       "ah5DugsZb35F9KGED9Ubi2YH1iTSAbSASf1jCj+R6yTXHFKMwywjYoXs6Bg+a+IMdRoqy4Vc3TA0\n",
       "BMl/DR/G5NGeAf9wk7/LnX30Y2feciqrs0G/lKEwtKmvsrrUcpKlTZk0lw9C4KwGoRI+JqDYx3fb\n",
       "ydRMfJLsfFElis3YNfbgSLBX8U+/4P7iwVFOOqVVjpGjdbk3SVAncj58fzKlDNlgUaQln6vGbffY\n",
       "Rp/6e/GJ9k3Xg/T7vFqnDXPBMnh9eu2o3u4CRv/mmUK6Qnw++nmmoBdqxxk/odKvnJRYR2mviYee\n",
       "ogwdjc6FRej7frDh6Xp7kAiFkAiA0MPPoXhY2oE//jXzcUq38GZqAFoSiGoc3VF564xEvzw/Ecx0\n",
       "RBB2Z30sLA49P7VirFEfYFQ1gvADmF5YgAPpq4b+CDR7DQjChXa7PvJddEWN+LLRa2OEFP/F4ho0\n",
       "bfFQ2Rw5Pz7t8m6Bwyh797FIfhDH9wpWO5gacHlYtT/J87Ws3asD5jANae/MpVC8AdgbVmtcH2aN\n",
       "a2ZXPFFu96icVGt6ZN5NjFSDl40TMUthXIFBHy8twQ3l/5a/wm4XM+CU/98yZ48dx7HsDUrdh+wF\n",
       "N6P3sRqIWhxR0isYI/lkrIYol6NSl5cpT1zWGoEjqfdRwzMokK44pNGC/vqUrOKg3KV8G15iOQCV\n",
       "lPbGxk9PpzILxdgeuK5Bhj0bMwOg2eSwBypHG5vSq5e6p0Gq8z2DI/47bmXRecINlkXu+8ePLFUB\n",
       "n4/LeH0SqFxAUQVuuWUfUg9A3hNOWvQiWJDXWS/qXhAsO05JlTFF8RQiEIUD3sDLGeyopeTQjiUN\n",
       "pWRF50Ny95uiI2qwQmKR093Nw4GMLLsMsCkJnbogXt26oUXQ33Gv+Y2aPq5yesehDAsnWiscQMyS\n",
       "0hZdIaB7d30JYSAAMxsNgsra20cge5HCPHdu6vf1+mudpusRnf0JxJAh4aVL3xxy7Zz6X/GG4+Sj\n",
       "7PZstdvkIHpUABveDXoxjxwsYNFrxeH6nSVE0A0IVTn9YUZ1pAoOocajFSHSnZPzQf6vOb4Kw5ea\n",
       "5xVOlz3vfNaK9xuUvgjm7lnlSVcvL9K5mLEIPkftcCeqThGm5DN2IDPMOXVYFEnlpWIA24Cg/8yK\n",
       "9wgmDcqZ+YA//4UtxXwQR/CAOUcHLE6uqR3iHMhvZ+7iPZ7e9mGuzJc0ei4pmsSjHmwala92x1MZ\n",
       "4KAFvUFR6Mcf9QDdL+OYR5BYqX6bLyvIxcaIP3YE9A7FBw2Dyh0DBYI8kG740t8oB4AyF4KyyiiZ\n",
       "sJki2wb+5EJgwDIIqfHALItJd0Of9M4JcpvzwU+VUrMY8Hyce091IdyMoIQPC7a46Jr++QaCjJu2\n",
       "H/rH7sy4rXmbQIftwreEwRMAmhcY2jNTa1ZmvrAhcdCq6qRcAOS55BDEcxYUXyMJxvw1z637M7y1\n",
       "GGOURayFh/2kh/YcdCLFfN0uT/bNzNq4JHmJK0GfQdjGPU3HB/GOeCib6fYbMW2RrzL4KJabpCs7\n",
       "XgrVnX/zbO19lG68smW4tZ8uc16cpfpdmP8UIsuo9D5IreiIQS0f/PJdIBIehJkStO/lnZ/VWP6i\n",
       "WdZA6sVi/uCUUcjxrpWJTxaHOnIzCCSheVqpduBA/Ggfs3HnFRdLMaPvzuEhekg4ufb02iaGg3hC\n",
       "hf5ISAd9xkJgVs17bJG+5KVqdAw+CGt5c85+yeIpN3SHi0uVxa/jzHfueB9yI/GGP8dOjYxQx1xa\n",
       "D3FOtg2vL13wu2uWjk1GBGKjZMtgqCCJQ+RtPS1C0CCCwaeKW2cjaGxMjRE+z7bhLREWpSE4J+2t\n",
       "zqD9nA619omiG8K6MFuRR7aP6+gAAAMAAFDBAAAAb0GaJGxBH/61KoAAAFTH26ACN7WLg95wsvOi\n",
       "JQAAAwAAyOY/NF8sJX/dlkWcOj77jaBPU/tHQESiqEE+GGGCwWw+71bTBFN5+MCnVLDoApdjD//s\n",
       "Lz5aLnJhn3rplfxCPobHQbbb2yf1oOiyMgVJzAAAACJBnkJ4h38AAAMBSjGUaAAACoDWMtfhe67p\n",
       "5xiimc+c6TmBAAAAHwGeYXRDfwAAAwHP07JoAAAKgOhuasHNoi7gldqA9IEAAAAaAZ5jakN/AAAD\n",
       "AAADAAADADYF1yIAfEgnmUAAAAAgQZpoSahBaJlMCCP//rUqgAAAAwAAAwAACcHn2LYAAZUAAAAd\n",
       "QZ6GRREsO/8AAAMAAAMAAAMAJg5L8QDUAo6VEmUAAAAaAZ6ldEN/AAADAAADAAADADX9Xk0AlrKq\n",
       "EoAAAAAYAZ6nakN/AAADAAADAAADAAADAA4pQ5d9AAAAw0GarEmoQWyZTAgj//61KoAAAAMAAAMA\n",
       "AAMAkDeDcARaC87WUVRgzVQ9sGK9+mbaGYoR7omfRZwTaJ1nAwGGSG4kV+e3aJk2Y0eh4KyVXzoH\n",
       "ZTl4QpfJW3sBS7PMBeEM8LNtLddJhRUQlsC1QDjqdZwJaj7JlNkTkRH4nLHNhq2ta0m73TuPPWqj\n",
       "uuBYsnXl3Am/m90o7LlTKcXB/35VWERXih1hMVONEjihPzl3ZfQjPpsbq+OzCCYyXLSwPHX5MyAe\n",
       "sAAAACFBnspFFSw7/wAAAwAAAwAAAwAlFKhV1YNR2Uh5arhw04kAAAAdAZ7pdEN/AAADAAADAAAD\n",
       "AAMkhM1+6lnuEYYMZ8EAAAAYAZ7rakN/AAADAAADAAADAAADAA4pQ5d9AAAAH0Ga8EmoQWyZTAgj\n",
       "//61KoAAAAMAAAMAAAMAAAMAE7EAAAAfQZ8ORRUsO/8AAAMAAAMAAAMAJRSoVZgFQsDdBctvgAAA\n",
       "ABgBny10Q38AAAMAAAMAAAMAAAMADiadl3wAAAAYAZ8vakN/AAADAAADAAADAAADAA4pQ5d9AAAA\n",
       "uEGbNEmoQWyZTAgj//61KoAAAAMAAAMAAAMAkDeDcARaYwuVVGCdb+T/ez2wSgqQD30g64r6Aj44\n",
       "DcvUtX20afOyTFq3iyCDMtB0H3R4jyGFjPjtU7az815GsIyArRkEKXOAFfg9kWjzQHPxU9+4wncc\n",
       "YsUWeg1kUaU/tBzt+ZwETmYlUCguN+lFD/qHjfhoM9XCe6yRxS/slWQlFLPr1ghLK2sM5WXPPaa3\n",
       "Wk5v6mlybueP8mZAPWAAAAAiQZ9SRRUsO/8AAAMAAAMAAAMAJRSoVda527wt86aS0MIu4AAAABgB\n",
       "n3F0Q38AAAMAAAMAAAMAAAMADiadl30AAAAdAZ9zakN/AAADAAADAAADAAMkXSY5ygLUwz2dzLEA\n",
       "AAAfQZt4SahBbJlMCCP//rUqgAAAAwAAAwAAAwAAAwATsQAAABxBn5ZFFSw7/wAAAwAAAwAAAwAl\n",
       "FKhRoBNZVTmUAAAAGAGftXRDfwAAAwAAAwAAAwAAAwAOJp2XfAAAABgBn7dqQ38AAAMAAAMAAAMA\n",
       "AAMADilDl30AAAAfQZu8SahBbJlMCCP//rUqgAAAAwAAAwAAAwAAAwATsAAAABxBn9pFFSw7/wAA\n",
       "AwAAAwAAAwAlFKhRoBNZVTmUAAAAGAGf+XRDfwAAAwAAAwAAAwAAAwAOJp2XfQAAABgBn/tqQ38A\n",
       "AAMAAAMAAAMAAAMADilDl3wAAADxQZvgSahBbJlMCCP//rUqgAAAAwAAAwAAAwCQN4NwBFpjFwBq\n",
       "TiIkViXq82kmnpw1BQF+YngTRw1xJaqeeCVStf5zbzSl1UJMl+szP6ujPsJyfFJ1aDpbUeZfjU52\n",
       "sn0h4SC+Ot63XZXSzMyULCAMVGJ4jmnMzLFGWZgNXDHqqNaIAHQUMoyU3+IKVRUTCLFnMKI89BDq\n",
       "hpduhjYBe4jDRRvqTCYhpqVoJNlLPCMjLv8ayl6WCTQ9KOUhR6UXJvMDvhV1M70QkSyvnCATDKIZ\n",
       "1jgZKLSLTvCgCqZrrLCAe6DVf/XHeYxwKQ6Wdl3RcwDVgQAAACFBnh5FFSw7/wAAAwAAAwAAAwAl\n",
       "FKhV1YNR2Uh5arhw04kAAAAdAZ49dEN/AAADAAADAAADAAMkhM1+6lnuEYYMZ8AAAAAYAZ4/akN/\n",
       "AAADAAADAAADAAADAA4pQ5d9AAAAH0GaJEmoQWyZTAgj//61KoAAAAMAAAMAAAMAAAMAE7AAAAAc\n",
       "QZ5CRRUsO/8AAAMAAAMAAAMAJRSoUaATWVU5lQAAABgBnmF0Q38AAAMAAAMAAAMAAAMADiadl30A\n",
       "AAAYAZ5jakN/AAADAAADAAADAAADAA4pQ5d8AAAAwEGaaEmoQWyZTAgj//61KoAAAAMAAAMAAAMA\n",
       "kDeDcAOCgzWLJlJJt70uKoJuFIkMetmpNKY2UwwWF9VvH7LAd/ZSvxiFAtH8ygOVzzptBHWn+pNp\n",
       "C3HEOt+Tf54XF24u3+aT0XBG51Ejqy49xRNLPX5yf0+UIJbFr5f9d+5fPPFXIf/ipp8/Siy19fLT\n",
       "vHSogpjsiB7He+0ecAwmbFLUAcADtQC/+YxcbLp8wfdUcKohkqyCwL9Ow6L/dNcQyPAFbAAAACJB\n",
       "noZFFSw7/wAAAwAAAwAAAwAlFKhV1rnbvC3zppLQwi7hAAAAGAGepXRDfwAAAwAAAwAAAwAAAwAO\n",
       "Jp2XfAAAAB0BnqdqQ38AAAMAAAMAAAMAAyRdJjnKAtTDPZ3MsQAAAB9BmqxJqEFsmUwII//+tSqA\n",
       "AAADAAADAAADAAADABOwAAAAHEGeykUVLDv/AAADAAADAAADACUUqFGgE1lVOZUAAAAYAZ7pdEN/\n",
       "AAADAAADAAADAAADAA4mnZd9AAAAGAGe62pDfwAAAwAAAwAAAwAAAwAOKUOXfQAAAB9BmvBJqEFs\n",
       "mUwII//+tSqAAAADAAADAAADAAADABOxAAAAHEGfDkUVLDv/AAADAAADAAADACUUqFGgE1lVOZQA\n",
       "AAAYAZ8tdEN/AAADAAADAAADAAADAA4mnZd8AAAAGAGfL2pDfwAAAwAAAwAAAwAAAwAOKUOXfQAA\n",
       "ATNBmzRJqEFsmUwII//+tSqAAAADAAADAAADAJQ3g3AHNMYuKlCxDzOntQKkvSQoKiEmkLDiNigj\n",
       "p6aZTBwxJd+VbSqKkjXPBIW2fVm5QGTlRbQ+cNI9sPQNiB+ZjOxX2U5YEn2T8ATIMqwpTvRRM+OH\n",
       "qSkY6+qNWyQPA4r4E6ykvDI9zdWYKHwoRb15Bcm6kAaDqCDRFr4f0DH7SYz5iG3LfkPwtH9ppH0g\n",
       "T0fA+HfJ7htLjN/6k7s0GY5yucTGY9OYWe915cCMIUzAuHUMHkLKFTD8a4q70NZa6YjoPvM7KYAi\n",
       "NqKfviUBTc2AsKCevXY1tCBbDXn9NdblTcEMlsXToRN61xhqcOdUsB16UuaLIqvz/V/Rdsuvr75I\n",
       "F010tiN4/OhgGahw12tKCUQ2yXyxAIeAAAAAI0GfUkUVLDv/AAADAAADAAADACUUqFX1g0/4QIq/\n",
       "7C8HGT+AAAAAHgGfcXRDfwAAAwAAAwAAAwADOITNT5hdwXvBT/A7mQAAABgBn3NqQ38AAAMAAAMA\n",
       "AAMAAAMADilDl30AAAAqQZt4SahBbJlMCCP//rUqgAAAAwAAAwAAAwCQOC5cARf+wc0H8qH4AJuB\n",
       "AAAAHEGflkUVLDv/AAADAAADAAADACUUqFGgE1lVOZQAAAAYAZ+1dEN/AAADAAADAAADAAADAA4m\n",
       "nZd8AAAAGAGft2pDfwAAAwAAAwAAAwAAAwAOKUOXfQAAALlBm7xJqEFsmUwII//+tSqAAAADAAAD\n",
       "AAADAJA3g3AJ4czztVoa253+mAapuQVDtB2PeYLogXqGqP+/1XMJ7v19bzVpaT0sKAbAlMYXRdOr\n",
       "pr3sZGFH+sPXZMHHbWZTl2gvYo5+thri+wSxw6FXYkBhJfYdORuaWxwI+Gv+LMu/4oksw0dulGQ+\n",
       "z+Jhx+GVgij2R6QZgKswPH4KS5Zy/kQyy5VkJDjp2piNs0wh04MmEEOlL6feowCPgAAAACJBn9pF\n",
       "FSw7/wAAAwAAAwAAAwAlFKhV1rnbs14ERNNMaK6YAAAAGAGf+XRDfwAAAwAAAwAAAwAAAwAOJp2X\n",
       "fQAAAB0Bn/tqQ38AAAMAAAMAAAMAAyRdJjnKAtTDPZ3MsAAAACpBm+BJqEFsmUwII//+tSqAAAAD\n",
       "AAADAAADAIw4LlwBGKNNJr+dVQ/ABQUAAAAeQZ4eRRUsO/8AAAMAAAMAAAMAJRSoVbWFM0PMFy2/\n",
       "AAAAGAGePXRDfwAAAwAAAwAAAwAAAwAOJp2XfAAAABgBnj9qQ38AAAMAAAMAAAMAAAMADilDl30A\n",
       "AAAfQZokSahBbJlMCCP//rUqgAAAAwAAAwAAAwAAAwATsAAAABxBnkJFFSw7/wAAAwAAAwAAAwAl\n",
       "FKhRoBNZVTmVAAAAGAGeYXRDfwAAAwAAAwAAAwAAAwAOJp2XfQAAABgBnmNqQ38AAAMAAAMAAAMA\n",
       "AAMADilDl3wAAACvQZpoSahBbJlMCCP//rUqgAAAAwAAAwAAAwCQgrOVABvRF7KwAzUEhRGcLq08\n",
       "Xf1v98famSlF5wXcMKaC8vlqgQ3ApC62YSJnJHoqL/qXJdOIp9MbG+of1sHDhQ6WGWL+rnpy97Zz\n",
       "X3HO1Ca8ABx6iQWSXqe6815ONtfHY+rmf2ThrlK1lpVV3QRR6tBIqz3sxyYS4AHCMQupYEXw/nKX\n",
       "Yt0RZPp8ueCwdG58gUYBHwAAACFBnoZFFSw7/wAAAwAAAwAAAwAlFKhV1YNR2Uh5arhw04kAAAAd\n",
       "AZ6ldEN/AAADAAADAAADAAMkhM1+6lnuEYYMZ8AAAAAYAZ6nakN/AAADAAADAAADAAADAA4pQ5d9\n",
       "AAAAH0GarEmoQWyZTAgj//61KoAAAAMAAAMAAAMAAAMAE7AAAAAcQZ7KRRUsO/8AAAMAAAMAAAMA\n",
       "JRSoUaATWVU5lQAAABgBnul0Q38AAAMAAAMAAAMAAAMADiadl30AAAAYAZ7rakN/AAADAAADAAAD\n",
       "AAADAA4pQ5d9AAAApkGa8EmoQWyZTAgj//61KoAAAAMAAAMAAAMAkKFQI8QAVcF4Pc4DCB0Jp0mf\n",
       "6U0ayvparDWPTJP3SF6T3mvsrzy9lCqqq4al+I/i85Lqo/QQz/7TpMQsb4rSmaaVA6TdQXeKVSUS\n",
       "escD7u7X3PsdgvxqziCJBGX0+S+NtYcja0lAM3AWUvdld4GLytaNnp8aPoFQXxBcxbhPyXIuAfDK\n",
       "hn/0+iLmAasAAAAiQZ8ORRUsO/8AAAMAAAMAAAMAJRSoVda527wt86aS0MIu4AAAABgBny10Q38A\n",
       "AAMAAAMAAAMAAAMADiadl3wAAAAdAZ8vakN/AAADAAADAAADAAMkXSY5ygLUwz2dzLEAAAAfQZs0\n",
       "SahBbJlMCCP//rUqgAAAAwAAAwAAAwAAAwATsAAAABxBn1JFFSw7/wAAAwAAAwAAAwAlFKhRoBNZ\n",
       "VTmUAAAAGAGfcXRDfwAAAwAAAwAAAwAAAwAOJp2XfQAAABgBn3NqQ38AAAMAAAMAAAMAAAMADilD\n",
       "l30AAAAfQZt4SahBbJlMCCP//rUqgAAAAwAAAwAAAwAAAwATsQAAABxBn5ZFFSw7/wAAAwAAAwAA\n",
       "AwAlFKhRoBNZVTmUAAAAGAGftXRDfwAAAwAAAwAAAwAAAwAOJp2XfAAAABgBn7dqQ38AAAMAAAMA\n",
       "AAMAAAMADilDl30AAACzQZu8SahBbJlMCCP//rUqgAAAAwAAAwAAAwCQgmB+DZ48fUAKt+gA6B1M\n",
       "s33Oqavjh7xqJDyWnOo0auaCXENPjb4yRmFbPKkWI+KG2+Kij1GuIdM7h3XDkIz0SmBsg9vVyk4v\n",
       "BiQyGsrtwSUvGYI9MQ35G26dxfwP8B1vfYlAPGheuTg2+8lj7LiaUVfVaVAdqhPhmY2aXQcLTg6k\n",
       "lMCku3W18XkTR2If7bjHraUYei5gGrAAAAAhQZ/aRRUsO/8AAAMAAAMAAAMAJRSoVdWDUdlIeWq4\n",
       "cNOIAAAAHQGf+XRDfwAAAwAAAwAAAwADJITNfupZ7hGGDGfBAAAAGAGf+2pDfwAAAwAAAwAAAwAA\n",
       "AwAOKUOXfAAAACpBm+BJqEFsmUwII//+tSqAAAADAAADAAADABx4E4QALelcR64qXAIAoIEAAAAc\n",
       "QZ4eRRUsO/8AAAMAAAMAAAMAJRSoUaATWVU5lQAAABgBnj10Q38AAAMAAAMAAAMAAAMADiadl3wA\n",
       "AAAYAZ4/akN/AAADAAADAAADAAADAA4pQ5d9AAAAukGaJEmoQWyZTAgj//61KoAAAAMAAAMAAAMA\n",
       "kDeDcAV1Bi1RKMw3u3ipPC0tcPtvxq3uydsVfacPqmvaxA5pyIFeh7iJlWT/oDIx7X+DLh7fu+zL\n",
       "x5CDr1giauce7XRUe+A5zrXDNo2yNwu6U04b1UAnYKNdDu2MQQ0geZfsZBBWVrnSpDBW7/Pm19xg\n",
       "nyZ12Jp+7aZyVkcR8VZUFG+syNHFAtTXvfM8c1hAaU6uhvSvrnjmW1qfouYBqwAAACRBnkJFFSw7\n",
       "/wAAAwAAAwAAAwAlFKhV0659oIoyMa+mkttqOmEAAAAYAZ5hdEN/AAADAAADAAADAAADAA4mnZd9\n",
       "AAAAHQGeY2pDfwAAAwAAAwAAAwADJF0mOcoC1MM9ncywAAAAH0GaaEmoQWyZTAgj//61KoAAAAMA\n",
       "AAMAAAMAAAMAE7AAAAAcQZ6GRRUsO/8AAAMAAAMAAAMAJRSoUaATWVU5lQAAABgBnqV0Q38AAAMA\n",
       "AAMAAAMAAAMADiadl3wAAAAYAZ6nakN/AAADAAADAAADAAADAA4pQ5d9AAAAH0GarEmoQWyZTAgj\n",
       "//61KoAAAAMAAAMAAAMAAAMAE7AAAAAcQZ7KRRUsO/8AAAMAAAMAAAMAJRSoUaATWVU5lQAAABgB\n",
       "nul0Q38AAAMAAAMAAAMAAAMADiadl30AAAAYAZ7rakN/AAADAAADAAADAAADAA4pQ5d9AAAAvkGa\n",
       "8EmoQWyZTAgj//61KoAAAAMAAAMAAAMAkIXtBRAA493U+VE2NOUf46ffUSb9yWQycDAXWJiVaNBq\n",
       "el9D0xo9Duuc0urEtl4sQFaCyMJ4F0uWv3OpmeeT1IjfrDq2g9ysGUmn4tYWhK9p1pzaX8INXa2I\n",
       "EyIiY9JDgmw29hd9Yxt+sM3GByucAO5boe4WIrXiYE6zwV3JhJrHuVcIi1J27LQS4WZtrVAn3NSD\n",
       "2OlK0PET0eQNrpxEFFzANWEAAAAhQZ8ORRUsO/8AAAMAAAMAAAMAJRSoVdWDUdlIeWq4cNOIAAAA\n",
       "HQGfLXRDfwAAAwAAAwAAAwADJITNfupZ7hGGDGfAAAAAGAGfL2pDfwAAAwAAAwAAAwAAAwAOKUOX\n",
       "fQAAAB9BmzRJqEFsmUwII//+tSqAAAADAAADAAADAAADABOwAAAAHEGfUkUVLDv/AAADAAADAAAD\n",
       "ACUUqFGgE1lVOZQAAAAYAZ9xdEN/AAADAAADAAADAAADAA4mnZd9AAAAGAGfc2pDfwAAAwAAAwAA\n",
       "AwAAAwAOKUOXfQAAAK9Bm3hJqEFsmUwII//+tSqAAAADAAADAAADAJCF+b2EAEb2sLlnM6dqXC2K\n",
       "9BWVxmP39nGny7GaQJEPvihtbBywXB7ZJKGwBoIs3oJ3pDQ5/3ufowM2FGUj5IzxJOntRmvBALQf\n",
       "Puqu7Cebmd7zL0rBKTqTXab5yk+PCCKCbs++3tt1C+6vfKR5t5IeVnsA/XGS1FJlioet6ObfD8Be\n",
       "hiUTzmyG98C0llbi5/uLmAatAAAAIkGflkUVLDv/AAADAAADAAADACUUqFXS/2I6Qr3eWq4/L3cA\n",
       "AAAYAZ+1dEN/AAADAAADAAADAAADAA4mnZd8AAAAHQGft2pDfwAAAwAAAwAAAwADJF0mOcoC1MM9\n",
       "ncyxAAAAH0GbvEmoQWyZTAgj//61KoAAAAMAAAMAAAMAAAMAE7AAAAAcQZ/aRRUsO/8AAAMAAAMA\n",
       "AAMAJRSoUaATWVU5lAAAABgBn/l0Q38AAAMAAAMAAAMAAAMADiadl30AAAAYAZ/7akN/AAADAAAD\n",
       "AAADAAADAA4pQ5d8AAAAH0Gb4EmoQWyZTAgj//61KoAAAAMAAAMAAAMAAAMAE7EAAAAcQZ4eRRUs\n",
       "O/8AAAMAAAMAAAMAJRSoUaATWVU5lQAAABgBnj10Q38AAAMAAAMAAAMAAAMADiadl3wAAAAYAZ4/\n",
       "akN/AAADAAADAAADAAADAA4pQ5d9AAAA8UGaJEmoQWyZTAgj//61KoAAAAMAAAMAAAMAkDeDcAV1\n",
       "asrkiKVHEi+moputd1oQY0YLcy5BQc/M70+4kvtTbfD4ajTNdG3r8V7RTXHXkFpQoL6Xn1Qm9lNN\n",
       "5p0zZmzIC2Wfsd1kD//b5J2IlJTNCJEvHR2zdwBIlujXw8rlgG8EvSyKjCTVAi5oBSZzJuQW9PwE\n",
       "TwrLm7/nLsqg89FG8OfFGws2GudOw/EYdZSgb6kiVbcA92IjzrDYFos4RrfX3zmw2PBPIanqhGFI\n",
       "5gKFy48iZV49rkx+yQtW2FPezzNcuDcSnFRjXz24+bT5QQKMAj4AAAAhQZ5CRRUsO/8AAAMAAAMA\n",
       "AAMAJRSoVdWDUdlIeWq4cNOJAAAAHQGeYXRDfwAAAwAAAwAAAwADJITNfupZ7hGGDGfBAAAAGAGe\n",
       "Y2pDfwAAAwAAAwAAAwAAAwAOKUOXfAAAAB9BmmhJqEFsmUwII//+tSqAAAADAAADAAADAAADABOw\n",
       "AAAAHEGehkUVLDv/AAADAAADAAADACUUqFGgE1lVOZUAAAAYAZ6ldEN/AAADAAADAAADAAADAA4m\n",
       "nZd8AAAAGAGep2pDfwAAAwAAAwAAAwAAAwAOKUOXfQAAALlBmqxJqEFsmUwII//+tSqAAAADAAAD\n",
       "AAADAJA3g3AEZXFJSjzoh3WpO1+V6RV2i1g8Q84sDHrGUS69MioFfDkEja/Ai+sIeFcc9s8ImB9I\n",
       "jwvtW+pdlN9Xc+rFoEi01hzYFQAzCSYMxtGL3GXBwoPYus3N+DxxcdCwYkhdnW1GmwS/cbwbycTA\n",
       "19yiXYBVzrTyWKJiYeyXN+oAviu6DF79c14xEBagYJoTngqPYi3LvnGRtwvZHgCtgAAAACJBnspF\n",
       "FSw7/wAAAwAAAwAAAwAlFKhV1rnbvC3zppLQwi7hAAAAGAGe6XRDfwAAAwAAAwAAAwAAAwAOJp2X\n",
       "fQAAAB0BnutqQ38AAAMAAAMAAAMAAyRdJjnKAtTDPZ3MsQAAAB9BmvBJqEFsmUwII//+tSqAAAAD\n",
       "AAADAAADAAADABOxAAAAHEGfDkUVLDv/AAADAAADAAADACUUqFGgE1lVOZQAAAAYAZ8tdEN/AAAD\n",
       "AAADAAADAAADAA4mnZd8AAAAGAGfL2pDfwAAAwAAAwAAAwAAAwAOKUOXfQAAAB9BmzRJqEFsmUwI\n",
       "I//+tSqAAAADAAADAAADAAADABOwAAAAHEGfUkUVLDv/AAADAAADAAADACUUqFGgE1lVOZQAAAAY\n",
       "AZ9xdEN/AAADAAADAAADAAADAA4mnZd9AAAAGAGfc2pDfwAAAwAAAwAAAwAAAwAOKUOXfQAAAUZB\n",
       "m3hJqEFsmUwII//+tSqAAAADAAADAAADAJQ3g3AHNMYuLe9W2XTSM8Cx8428T15ihRpg4CRE1y/O\n",
       "k8Z8tFO25trpAgVbv7oNjscrLDFMd2dUj7PV5evLfC8HW2jgGU8owlA8S4Jd7scElKGaHZlH3980\n",
       "IOx7Mhv9rFj7OpD2FUIF0VLHqXoaPsR/njLTYqvWKa3wG/e2nmFTRuFFG5snFpUDcPdxCqD8hqWI\n",
       "lC/m2qrJD+/aBfs16Cmj+pAtUItcWPKbixKdxWXfZz6h8wRsfLqW7HlK81ymis7ECBn9x10tJbJs\n",
       "K3caXXBF9169RSyebuhFA6D7EsxgXILI/JXWLVTXRE9557zfD2LC5x5UOlEdqoRBeosGYetqmyIz\n",
       "C9RiV+YCSYLjQ1VSmsXUeigLUvKQSQb+hDSB3tpDiXCT7A901jALuQAAACNBn5ZFFSw7/wAAAwAA\n",
       "AwAAAwAlFKhV9YNP+ECKv+wvBxk/gAAAAB4Bn7V0Q38AAAMAAAMAAAMAAziEzU+YXcF7wU/wO5gA\n",
       "AAAYAZ+3akN/AAADAAADAAADAAADAA4pQ5d9AAAAH0GbvEmoQWyZTAgj//61KoAAAAMAAAMAAAMA\n",
       "AAMAE7AAAAAcQZ/aRRUsO/8AAAMAAAMAAAMAJRSoUaATWVU5lAAAABgBn/l0Q38AAAMAAAMAAAMA\n",
       "AAMADiadl30AAAAYAZ/7akN/AAADAAADAAADAAADAA4pQ5d8AAAAtUGb4EmoQWyZTAgj//61KoAA\n",
       "AAMAAAMAAAMAkDeDcAc0xm0yFJIXoVQyzR5Y8L6Ij2DS0Q1/liAGWnLdMrMVfZ3q+qkR7LcwJmPt\n",
       "FkVf/7LNYhcUlI9MXukiGDVEjubMkKni3Eh/n5hBxyaqJaSprtyUZb3ssct/4gU4SSpeHu8LBPG/\n",
       "EjjTYWPI+/RX7I8QbEJvoO5xmdnSvep+CKNZ636AQHFjlBM/qX/bZTYav+ajXZHgCtkAAAAiQZ4e\n",
       "RRUsO/8AAAMAAAMAAAMAJRSoVda527wt86aS0MIu4QAAABgBnj10Q38AAAMAAAMAAAMAAAMADiad\n",
       "l3wAAAAdAZ4/akN/AAADAAADAAADAAMkXSY5ygLUwz2dzLEAAAAfQZokSahBbJlMCCP//rUqgAAA\n",
       "AwAAAwAAAwAAAwATsAAAABxBnkJFFSw7/wAAAwAAAwAAAwAlFKhRoBNZVTmVAAAAGAGeYXRDfwAA\n",
       "AwAAAwAAAwAAAwAOJp2XfQAAABgBnmNqQ38AAAMAAAMAAAMAAAMADilDl3wAAAAfQZpoSahBbJlM\n",
       "CCP//rUqgAAAAwAAAwAAAwAAAwATsAAAABxBnoZFFSw7/wAAAwAAAwAAAwAlFKhRoBNZVTmVAAAA\n",
       "GAGepXRDfwAAAwAAAwAAAwAAAwAOJp2XfAAAABgBnqdqQ38AAAMAAAMAAAMAAAMADilDl30AAAC1\n",
       "QZqsSahBbJlMCCP//rUqgAAAAwAAAwAAAwCQN4NwBXVqywPGTiD3+2CHWc60QmiFjXlS3sS3P7Km\n",
       "HccpPCgngdWtBQablIWyqBsdqKEydP6agBu0bV7kKrnis0wRqXwfia2Condl2sIpY+jUhyAYo0Zt\n",
       "51mCTaVKPI5d5aJaMwPb9byVyk7lob1FLAg2ftWPJfAYu7TWcv+EYhLoqFvG2WWkVek2Rtkx57ND\n",
       "GNor4vnuyPAFbAAAACFBnspFFSw7/wAAAwAAAwAAAwAlFKhV1YNR2Uh5arhw04kAAAAdAZ7pdEN/\n",
       "AAADAAADAAADAAMkhM1+6lnuEYYMZ8EAAAAYAZ7rakN/AAADAAADAAADAAADAA4pQ5d9AAAAH0Ga\n",
       "8EmoQWyZTAgj//61KoAAAAMAAAMAAAMAAAMAE7EAAAAcQZ8ORRUsO/8AAAMAAAMAAAMAJRSoUaAT\n",
       "WVU5lAAAABgBny10Q38AAAMAAAMAAAMAAAMADiadl3wAAAAYAZ8vakN/AAADAAADAAADAAADAA4p\n",
       "Q5d9AAAApkGbNEmoQWyZTAgj//61KoAAAAMAAAMAAAMAkDeDcAOEtRtVD/g8xBv3ieDVBuWxNOV4\n",
       "lpuOH9eSoHpBC3H5wITg9jftISfay85IvA6X3kEPqlKampz67KS4lnSbqC7XXDOBchHUBOhdhVni\n",
       "llv+I9u721dsDxx0oprjOfiVVe3BPX0c5GnRz3T9wVLjTRKbQpslemeG3CBkV2yEkY6j3weh3ZHg\n",
       "CtgAAAAiQZ9SRRUsO/8AAAMAAAMAAAMAJRSoVda527wt86aS0MIu4AAAABgBn3F0Q38AAAMAAAMA\n",
       "AAMAAAMADiadl30AAAAdAZ9zakN/AAADAAADAAADAAMkXSY5ygLUwz2dzLEAAAAfQZt4SahBbJlM\n",
       "CCH//qpVAAADAAADAAADAAADAAAnYQAAABxBn5ZFFSw7/wAAAwAAAwAAAwAlFKhRoBNZVTmUAAAA\n",
       "GAGftXRDfwAAAwAAAwAAAwAAAwAOJp2XfAAAABgBn7dqQ38AAAMAAAMAAAMAAAMADilDl30AAAAf\n",
       "QZu8SahBbJlMCH///qmWAAADAAADAAADAAADAACZgAAAABxBn9pFFSw7/wAAAwAAAwAAAwAlFKhR\n",
       "oBNZVTmUAAAAGAGf+XRDfwAAAwAAAwAAAwAAAwAOJp2XfQAAABgBn/tqQ38AAAMAAAMAAAMAAAMA\n",
       "DilDl3wAAACeQZv+SahBbJlMFEw3//6nhAAAAwAAAwAAAwAIqXzcAJmRMa7tM2M/gWc0p2lZ9Rj1\n",
       "wx7EHmC/+R77bJnPqOk74M27RfkDJTAGTxx5HwasyrlWwQ3Heajs9jY5075/geN5RQ5We/Vgvd55\n",
       "53sQCw9JvBta0acV1pSoxTfoq+auSGxf7LA0gr638IMNC4jelmWlPDE9sp/5duZY0dBYBq0AAAAf\n",
       "AZ4dakN/AAADAAADAAADADTKarutaNmg3WwaaVyv0wAAF9xtb292AAAAbG12aGQAAAAAAAAAAAAA\n",
       "AAAAAAPoAACsRAABAAABAAAAAAAAAAAAAAAAAQAAAAAAAAAAAAAAAAAAAAEAAAAAAAAAAAAAAAAA\n",
       "AEAAAAAAAAAAAAAAAAAAAAAAAAAAAAAAAAAAAAAAAAACAAAXBnRyYWsAAABcdGtoZAAAAAMAAAAA\n",
       "AAAAAAAAAAEAAAAAAACsRAAAAAAAAAAAAAAAAAAAAAAAAQAAAAAAAAAAAAAAAAAAAAEAAAAAAAAA\n",
       "AAAAAAAAAEAAAAAD7AAAAfgAAAAAACRlZHRzAAAAHGVsc3QAAAAAAAAAAQAArEQAAAgAAAEAAAAA\n",
       "Fn5tZGlhAAAAIG1kaGQAAAAAAAAAAAAAAAAAACgAAAbkAFXEAAAAAAAtaGRscgAAAAAAAAAAdmlk\n",
       "ZQAAAAAAAAAAAAAAAFZpZGVvSGFuZGxlcgAAABYpbWluZgAAABR2bWhkAAAAAQAAAAAAAAAAAAAA\n",
       "JGRpbmYAAAAcZHJlZgAAAAAAAAABAAAADHVybCAAAAABAAAV6XN0YmwAAAC5c3RzZAAAAAAAAAAB\n",
       "AAAAqWF2YzEAAAAAAAAAAQAAAAAAAAAAAAAAAAAAAAAD7AH4AEgAAABIAAAAAAAAAAEAAAAAAAAA\n",
       "AAAAAAAAAAAAAAAAAAAAAAAAAAAAAAAAAAAY//8AAAA3YXZjQwFkAB//4QAaZ2QAH6zZQPwQe5YQ\n",
       "AAADABAAAAMBQPGDGWABAAZo6+PLIsD9+PgAAAAAHHV1aWRraEDyXyRPxbo5pRvPAyPzAAAAAAAA\n",
       "ABhzdHRzAAAAAAAAAAEAAAG5AAAEAAAAABhzdHNzAAAAAAAAAAIAAAABAAAA+wAADdBjdHRzAAAA\n",
       "AAAAAbgAAAABAAAIAAAAAAEAABQAAAAAAQAACAAAAAABAAAAAAAAAAEAAAQAAAAAAQAAFAAAAAAB\n",
       "AAAIAAAAAAEAAAAAAAAAAQAABAAAAAABAAAUAAAAAAEAAAgAAAAAAQAAAAAAAAABAAAEAAAAAAEA\n",
       "ABQAAAAAAQAACAAAAAABAAAAAAAAAAEAAAQAAAAAAQAAFAAAAAABAAAIAAAAAAEAAAAAAAAAAQAA\n",
       "BAAAAAABAAAUAAAAAAEAAAgAAAAAAQAAAAAAAAABAAAEAAAAAAEAABQAAAAAAQAACAAAAAABAAAA\n",
       "AAAAAAEAAAQAAAAAAQAAFAAAAAABAAAIAAAAAAEAAAAAAAAAAQAABAAAAAABAAAUAAAAAAEAAAgA\n",
       "AAAAAQAAAAAAAAABAAAEAAAAAAEAABQAAAAAAQAACAAAAAABAAAAAAAAAAEAAAQAAAAAAQAAFAAA\n",
       "AAABAAAIAAAAAAEAAAAAAAAAAQAABAAAAAABAAAUAAAAAAEAAAgAAAAAAQAAAAAAAAABAAAEAAAA\n",
       "AAEAABQAAAAAAQAACAAAAAABAAAAAAAAAAEAAAQAAAAAAQAAFAAAAAABAAAIAAAAAAEAAAAAAAAA\n",
       "AQAABAAAAAABAAAUAAAAAAEAAAgAAAAAAQAAAAAAAAABAAAEAAAAAAEAABQAAAAAAQAACAAAAAAB\n",
       "AAAAAAAAAAEAAAQAAAAAAQAAFAAAAAABAAAIAAAAAAEAAAAAAAAAAQAABAAAAAABAAAUAAAAAAEA\n",
       "AAgAAAAAAQAAAAAAAAABAAAEAAAAAAEAABQAAAAAAQAACAAAAAABAAAAAAAAAAEAAAQAAAAAAQAA\n",
       "FAAAAAABAAAIAAAAAAEAAAAAAAAAAQAABAAAAAABAAAUAAAAAAEAAAgAAAAAAQAAAAAAAAABAAAE\n",
       "AAAAAAEAABQAAAAAAQAACAAAAAABAAAAAAAAAAEAAAQAAAAAAQAAFAAAAAABAAAIAAAAAAEAAAAA\n",
       "AAAAAQAABAAAAAABAAAUAAAAAAEAAAgAAAAAAQAAAAAAAAABAAAEAAAAAAEAABQAAAAAAQAACAAA\n",
       "AAABAAAAAAAAAAEAAAQAAAAAAQAAFAAAAAABAAAIAAAAAAEAAAAAAAAAAQAABAAAAAABAAAUAAAA\n",
       "AAEAAAgAAAAAAQAAAAAAAAABAAAEAAAAAAEAABQAAAAAAQAACAAAAAABAAAAAAAAAAEAAAQAAAAA\n",
       "AQAAFAAAAAABAAAIAAAAAAEAAAAAAAAAAQAABAAAAAABAAAUAAAAAAEAAAgAAAAAAQAAAAAAAAAB\n",
       "AAAEAAAAAAEAABQAAAAAAQAACAAAAAABAAAAAAAAAAEAAAQAAAAAAQAAFAAAAAABAAAIAAAAAAEA\n",
       "AAAAAAAAAQAABAAAAAABAAAUAAAAAAEAAAgAAAAAAQAAAAAAAAABAAAEAAAAAAEAABQAAAAAAQAA\n",
       "CAAAAAABAAAAAAAAAAEAAAQAAAAAAQAAFAAAAAABAAAIAAAAAAEAAAAAAAAAAQAABAAAAAABAAAU\n",
       "AAAAAAEAAAgAAAAAAQAAAAAAAAABAAAEAAAAAAEAABQAAAAAAQAACAAAAAABAAAAAAAAAAEAAAQA\n",
       "AAAAAQAAFAAAAAABAAAIAAAAAAEAAAAAAAAAAQAABAAAAAABAAAUAAAAAAEAAAgAAAAAAQAAAAAA\n",
       "AAABAAAEAAAAAAEAABQAAAAAAQAACAAAAAABAAAAAAAAAAEAAAQAAAAAAQAAFAAAAAABAAAIAAAA\n",
       "AAEAAAAAAAAAAQAABAAAAAABAAAUAAAAAAEAAAgAAAAAAQAAAAAAAAABAAAEAAAAAAEAABQAAAAA\n",
       "AQAACAAAAAABAAAAAAAAAAEAAAQAAAAAAQAAFAAAAAABAAAIAAAAAAEAAAAAAAAAAQAABAAAAAAB\n",
       "AAAUAAAAAAEAAAgAAAAAAQAAAAAAAAABAAAEAAAAAAEAABQAAAAAAQAACAAAAAABAAAAAAAAAAEA\n",
       "AAQAAAAAAQAAFAAAAAABAAAIAAAAAAEAAAAAAAAAAQAABAAAAAABAAAUAAAAAAEAAAgAAAAAAQAA\n",
       "AAAAAAABAAAEAAAAAAEAABQAAAAAAQAACAAAAAABAAAAAAAAAAEAAAQAAAAAAQAAFAAAAAABAAAI\n",
       "AAAAAAEAAAAAAAAAAQAABAAAAAABAAAUAAAAAAEAAAgAAAAAAQAAAAAAAAABAAAEAAAAAAEAABQA\n",
       "AAAAAQAACAAAAAABAAAAAAAAAAEAAAQAAAAAAQAAFAAAAAABAAAIAAAAAAEAAAAAAAAAAQAABAAA\n",
       "AAABAAAUAAAAAAEAAAgAAAAAAQAAAAAAAAABAAAEAAAAAAEAABQAAAAAAQAACAAAAAABAAAAAAAA\n",
       "AAEAAAQAAAAAAQAAFAAAAAABAAAIAAAAAAEAAAAAAAAAAQAABAAAAAABAAAUAAAAAAEAAAgAAAAA\n",
       "AQAAAAAAAAABAAAEAAAAAAEAABQAAAAAAQAACAAAAAABAAAAAAAAAAEAAAQAAAAAAQAAFAAAAAAB\n",
       "AAAIAAAAAAEAAAAAAAAAAQAABAAAAAABAAAUAAAAAAEAAAgAAAAAAQAAAAAAAAABAAAEAAAAAAEA\n",
       "ABQAAAAAAQAACAAAAAABAAAAAAAAAAEAAAQAAAAAAQAAFAAAAAABAAAIAAAAAAEAAAAAAAAAAQAA\n",
       "BAAAAAACAAAIAAAAAAEAABQAAAAAAQAACAAAAAABAAAAAAAAAAEAAAQAAAAAAQAAFAAAAAABAAAI\n",
       "AAAAAAEAAAAAAAAAAQAABAAAAAABAAAUAAAAAAEAAAgAAAAAAQAAAAAAAAABAAAEAAAAAAEAABQA\n",
       "AAAAAQAACAAAAAABAAAAAAAAAAEAAAQAAAAAAQAAFAAAAAABAAAIAAAAAAEAAAAAAAAAAQAABAAA\n",
       "AAABAAAUAAAAAAEAAAgAAAAAAQAAAAAAAAABAAAEAAAAAAEAABQAAAAAAQAACAAAAAABAAAAAAAA\n",
       "AAEAAAQAAAAAAQAAFAAAAAABAAAIAAAAAAEAAAAAAAAAAQAABAAAAAABAAAUAAAAAAEAAAgAAAAA\n",
       "AQAAAAAAAAABAAAEAAAAAAEAABQAAAAAAQAACAAAAAABAAAAAAAAAAEAAAQAAAAAAQAAFAAAAAAB\n",
       "AAAIAAAAAAEAAAAAAAAAAQAABAAAAAABAAAUAAAAAAEAAAgAAAAAAQAAAAAAAAABAAAEAAAAAAEA\n",
       "ABQAAAAAAQAACAAAAAABAAAAAAAAAAEAAAQAAAAAAQAAFAAAAAABAAAIAAAAAAEAAAAAAAAAAQAA\n",
       "BAAAAAABAAAUAAAAAAEAAAgAAAAAAQAAAAAAAAABAAAEAAAAAAEAABQAAAAAAQAACAAAAAABAAAA\n",
       "AAAAAAEAAAQAAAAAAQAAFAAAAAABAAAIAAAAAAEAAAAAAAAAAQAABAAAAAABAAAUAAAAAAEAAAgA\n",
       "AAAAAQAAAAAAAAABAAAEAAAAAAEAABQAAAAAAQAACAAAAAABAAAAAAAAAAEAAAQAAAAAAQAAFAAA\n",
       "AAABAAAIAAAAAAEAAAAAAAAAAQAABAAAAAABAAAUAAAAAAEAAAgAAAAAAQAAAAAAAAABAAAEAAAA\n",
       "AAEAABQAAAAAAQAACAAAAAABAAAAAAAAAAEAAAQAAAAAAQAAFAAAAAABAAAIAAAAAAEAAAAAAAAA\n",
       "AQAABAAAAAABAAAUAAAAAAEAAAgAAAAAAQAAAAAAAAABAAAEAAAAAAEAABQAAAAAAQAACAAAAAAB\n",
       "AAAAAAAAAAEAAAQAAAAAAQAAFAAAAAABAAAIAAAAAAEAAAAAAAAAAQAABAAAAAABAAAUAAAAAAEA\n",
       "AAgAAAAAAQAAAAAAAAABAAAEAAAAAAEAABQAAAAAAQAACAAAAAABAAAAAAAAAAEAAAQAAAAAAQAA\n",
       "FAAAAAABAAAIAAAAAAEAAAAAAAAAAQAABAAAAAABAAAUAAAAAAEAAAgAAAAAAQAAAAAAAAABAAAE\n",
       "AAAAAAEAABQAAAAAAQAACAAAAAABAAAAAAAAAAEAAAQAAAAAAQAAFAAAAAABAAAIAAAAAAEAAAAA\n",
       "AAAAAQAABAAAAAABAAAUAAAAAAEAAAgAAAAAAQAAAAAAAAABAAAEAAAAAAEAABQAAAAAAQAACAAA\n",
       "AAABAAAAAAAAAAEAAAQAAAAAAQAAFAAAAAABAAAIAAAAAAEAAAAAAAAAAQAABAAAAAABAAAUAAAA\n",
       "AAEAAAgAAAAAAQAAAAAAAAABAAAEAAAAAAEAABQAAAAAAQAACAAAAAABAAAAAAAAAAEAAAQAAAAA\n",
       "AQAAFAAAAAABAAAIAAAAAAEAAAAAAAAAAQAABAAAAAABAAAUAAAAAAEAAAgAAAAAAQAAAAAAAAAB\n",
       "AAAEAAAAAAEAABQAAAAAAQAACAAAAAABAAAAAAAAAAEAAAQAAAAAAQAAFAAAAAABAAAIAAAAAAEA\n",
       "AAAAAAAAAQAABAAAAAABAAAUAAAAAAEAAAgAAAAAAQAAAAAAAAABAAAEAAAAAAEAABQAAAAAAQAA\n",
       "CAAAAAABAAAAAAAAAAEAAAQAAAAAAQAAFAAAAAABAAAIAAAAAAEAAAAAAAAAAQAABAAAAAABAAAU\n",
       "AAAAAAEAAAgAAAAAAQAAAAAAAAABAAAEAAAAAAEAABQAAAAAAQAACAAAAAABAAAAAAAAAAEAAAQA\n",
       "AAAAAQAAFAAAAAABAAAIAAAAAAEAAAAAAAAAAQAABAAAAAABAAAMAAAAAAEAAAQAAAAAHHN0c2MA\n",
       "AAAAAAAAAQAAAAEAAAG5AAAAAQAABvhzdHN6AAAAAAAAAAAAAAG5AAAm8QAAAQYAAABDAAAAQAAA\n",
       "AB0AAAA5AAAALwAAACkAAAAaAAAAtwAAACcAAAAfAAAAGgAAAC4AAAAlAAAAHAAAABoAAAC6AAAA\n",
       "KAAAABoAAAAfAAAAIwAAACMAAAAaAAAAGgAAACMAAAAjAAAAGgAAABoAAACtAAAAJwAAAB8AAAAa\n",
       "AAAAIwAAACMAAAAaAAAAGgAAAM0AAAAoAAAAGgAAAB8AAAAtAAAAJQAAABwAAAAaAAAAIwAAACMA\n",
       "AAAaAAAAGgAAAMAAAAAnAAAAHwAAABoAAAAjAAAAIwAAABoAAAAaAAAAywAAACgAAAAaAAAAHwAA\n",
       "ACMAAAAjAAAAGgAAABoAAAAjAAAAIwAAABoAAAAaAAAAuQAAACcAAAAfAAAAGgAAACMAAAAjAAAA\n",
       "GgAAABoAAAD3AAAAKAAAABoAAAAfAAAAIwAAACMAAAAaAAAAGgAAACMAAAAjAAAAGgAAABoAAADA\n",
       "AAAAJwAAAB8AAAAaAAAAIwAAACMAAAAaAAAAGgAAAVEAAAApAAAAGgAAACEAAAAjAAAAIwAAABoA\n",
       "AAAaAAAAIwAAACMAAAAaAAAAGgAAALcAAAAnAAAAHwAAABoAAAAjAAAAIwAAABoAAAAaAAAAvwAA\n",
       "ACgAAAAaAAAAHwAAACMAAAAjAAAAGgAAABoAAAAjAAAAIwAAABoAAAAaAAAArgAAACcAAAAfAAAA\n",
       "GgAAACMAAAAjAAAAGgAAABoAAADHAAAAKAAAABoAAAAfAAAAMAAAACUAAAAcAAAAGgAAACMAAAAj\n",
       "AAAAGgAAABoAAADCAAAAJwAAAB8AAAAaAAAAIwAAACMAAAAaAAAAGgAAAMkAAAAoAAAAGgAAAB8A\n",
       "AAAjAAAAJQAAABoAAAAaAAAAIwAAACUAAAAaAAAAGgAAALkAAAAnAAAAHwAAABoAAAAjAAAAIwAA\n",
       "ABoAAAAaAAAA+AAAACgAAAAaAAAAHwAAACMAAAAjAAAAGgAAABoAAAAjAAAAIwAAABoAAAAaAAAA\n",
       "uQAAACcAAAAfAAAAGgAAACMAAAAjAAAAGgAAABoAAAIzAAAAKQAAABoAAAAiAAAALAAAACQAAAAc\n",
       "AAAAHAAAACMAAAAkAAAAHAAAABwAAAC4AAAAKAAAACEAAAAcAAAALgAAACYAAAAeAAAAHAAAALoA\n",
       "AAApAAAAHAAAACEAAAAjAAAAJAAAABwAAAAcAAAAIwAAACQAAAAcAAAAHAAAAK8AAAAoAAAAIQAA\n",
       "ABwAAAAjAAAAJAAAABwAAAAcAAAAyQAAACkAAAAcAAAAIQAAACMAAAAkAAAAHAAAABwAAAAjAAAA\n",
       "JAAAABwAAAAcAAAAIgAAJ5kAAABzAAAAJgAAACMAAAAeAAAAJAAAACEAAAAeAAAAHAAAAMcAAAAl\n",
       "AAAAIQAAABwAAAAjAAAAIwAAABwAAAAcAAAAvAAAACYAAAAcAAAAIQAAACMAAAAgAAAAHAAAABwA\n",
       "AAAjAAAAIAAAABwAAAAcAAAA9QAAACUAAAAhAAAAHAAAACMAAAAgAAAAHAAAABwAAADEAAAAJgAA\n",
       "ABwAAAAhAAAAIwAAACAAAAAcAAAAHAAAACMAAAAgAAAAHAAAABwAAAE3AAAAJwAAACIAAAAcAAAA\n",
       "LgAAACAAAAAcAAAAHAAAAL0AAAAmAAAAHAAAACEAAAAuAAAAIgAAABwAAAAcAAAAIwAAACAAAAAc\n",
       "AAAAHAAAALMAAAAlAAAAIQAAABwAAAAjAAAAIAAAABwAAAAcAAAAqgAAACYAAAAcAAAAIQAAACMA\n",
       "AAAgAAAAHAAAABwAAAAjAAAAIAAAABwAAAAcAAAAtwAAACUAAAAhAAAAHAAAAC4AAAAgAAAAHAAA\n",
       "ABwAAAC+AAAAKAAAABwAAAAhAAAAIwAAACAAAAAcAAAAHAAAACMAAAAgAAAAHAAAABwAAADCAAAA\n",
       "JQAAACEAAAAcAAAAIwAAACAAAAAcAAAAHAAAALMAAAAmAAAAHAAAACEAAAAjAAAAIAAAABwAAAAc\n",
       "AAAAIwAAACAAAAAcAAAAHAAAAPUAAAAlAAAAIQAAABwAAAAjAAAAIAAAABwAAAAcAAAAvQAAACYA\n",
       "AAAcAAAAIQAAACMAAAAgAAAAHAAAABwAAAAjAAAAIAAAABwAAAAcAAABSgAAACcAAAAiAAAAHAAA\n",
       "ACMAAAAgAAAAHAAAABwAAAC5AAAAJgAAABwAAAAhAAAAIwAAACAAAAAcAAAAHAAAACMAAAAgAAAA\n",
       "HAAAABwAAAC5AAAAJQAAACEAAAAcAAAAIwAAACAAAAAcAAAAHAAAAKoAAAAmAAAAHAAAACEAAAAj\n",
       "AAAAIAAAABwAAAAcAAAAIwAAACAAAAAcAAAAHAAAAKIAAAAjAAAAFHN0Y28AAAAAAAAAAQAAADAA\n",
       "AABidWR0YQAAAFptZXRhAAAAAAAAACFoZGxyAAAAAAAAAABtZGlyYXBwbAAAAAAAAAAAAAAAAC1p\n",
       "bHN0AAAAJal0b28AAAAdZGF0YQAAAAEAAAAATGF2ZjYwLjE2LjEwMA==\n",
       "\">\n",
       "  Your browser does not support the video tag.\n",
       "</video>"
      ],
      "text/plain": [
       "<IPython.core.display.HTML object>"
      ]
     },
     "execution_count": 103,
     "metadata": {},
     "output_type": "execute_result"
    }
   ],
   "source": [
    "bcr.bar_chart_race(df = df_bcr, filename=None,n_bars = 10, period_length=1000, period_fmt='%Y', filter_column_colors=True, title='Most common words')"
   ]
  }
 ],
 "metadata": {
  "kernelspec": {
   "display_name": "Python 3",
   "language": "python",
   "name": "python3"
  },
  "language_info": {
   "codemirror_mode": {
    "name": "ipython",
    "version": 3
   },
   "file_extension": ".py",
   "mimetype": "text/x-python",
   "name": "python",
   "nbconvert_exporter": "python",
   "pygments_lexer": "ipython3",
   "version": "3.11.7"
  }
 },
 "nbformat": 4,
 "nbformat_minor": 2
}
